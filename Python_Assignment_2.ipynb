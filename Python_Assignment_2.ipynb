{
  "nbformat": 4,
  "nbformat_minor": 0,
  "metadata": {
    "colab": {
      "provenance": []
    },
    "kernelspec": {
      "name": "python3",
      "display_name": "Python 3"
    },
    "language_info": {
      "name": "python"
    }
  },
  "cells": [
    {
      "cell_type": "markdown",
      "source": [
        "1. Write a python script to add comments and print “Learning Python” on screen."
      ],
      "metadata": {
        "id": "FKJFNfJsu-c9"
      }
    },
    {
      "cell_type": "code",
      "execution_count": 1,
      "metadata": {
        "colab": {
          "base_uri": "https://localhost:8080/"
        },
        "id": "5vouU8kBut5m",
        "outputId": "33faefe8-7841-44a0-bfc2-e8dfb2e22c00"
      },
      "outputs": [
        {
          "output_type": "stream",
          "name": "stdout",
          "text": [
            "Learning Python\n"
          ]
        }
      ],
      "source": [
        "#This line is not printed its just for single line comment\n",
        "print('Learning Python')"
      ]
    },
    {
      "cell_type": "markdown",
      "source": [
        "2. Write a python script to add multi line comments and print values of four variables,\n",
        "each in a new line. Variable contains any values."
      ],
      "metadata": {
        "id": "MeL8KPqvvAWp"
      }
    },
    {
      "cell_type": "code",
      "source": [
        "\"\"\"\n",
        "This is multiline comment\n",
        "this script print value of variable\n",
        "\"\"\"\n",
        "a,b,c,d=10,20,30,40\n",
        "print(a)\n",
        "print(b)\n",
        "print(c)\n",
        "print(d)"
      ],
      "metadata": {
        "colab": {
          "base_uri": "https://localhost:8080/"
        },
        "id": "ja2VRLb4vTk8",
        "outputId": "cdd4ff07-415f-4d6d-f8b2-c26cd2aeafe8"
      },
      "execution_count": 2,
      "outputs": [
        {
          "output_type": "stream",
          "name": "stdout",
          "text": [
            "10\n",
            "20\n",
            "30\n",
            "40\n"
          ]
        }
      ]
    },
    {
      "cell_type": "markdown",
      "source": [
        "3. Write a python script to print types of variables. Create 5 variables each of them\n",
        "containing different types of data. (like 35, True, “MySirG”,5.46, 3+4j, etc)"
      ],
      "metadata": {
        "id": "f9LyQEubvATk"
      }
    },
    {
      "cell_type": "code",
      "source": [
        "a=35\n",
        "b=True\n",
        "c='MySirG'\n",
        "d=5.46\n",
        "e=3+4j\n",
        "\n",
        "print(type(a))\n",
        "print(type(b))\n",
        "print(type(c))\n",
        "print(type(d))\n",
        "print(type(e))"
      ],
      "metadata": {
        "colab": {
          "base_uri": "https://localhost:8080/"
        },
        "id": "a0-wJcSYvy6Q",
        "outputId": "1c6876b6-6732-4d25-97c7-922e69cede07"
      },
      "execution_count": 3,
      "outputs": [
        {
          "output_type": "stream",
          "name": "stdout",
          "text": [
            "<class 'int'>\n",
            "<class 'bool'>\n",
            "<class 'str'>\n",
            "<class 'float'>\n",
            "<class 'complex'>\n"
          ]
        }
      ]
    },
    {
      "cell_type": "markdown",
      "source": [
        "4. Write a python script to print the id of two variables containing the same integer\n",
        "values."
      ],
      "metadata": {
        "id": "1UKCGmwNvAQ_"
      }
    },
    {
      "cell_type": "code",
      "source": [
        "a=b=10\n",
        "print(id(a))\n",
        "print(id(b))"
      ],
      "metadata": {
        "colab": {
          "base_uri": "https://localhost:8080/"
        },
        "id": "-zM-HNBMwF9Y",
        "outputId": "71bb3964-29c7-43f9-ebec-32b3a2ea8e44"
      },
      "execution_count": 4,
      "outputs": [
        {
          "output_type": "stream",
          "name": "stdout",
          "text": [
            "139397807374864\n",
            "139397807374864\n"
          ]
        }
      ]
    },
    {
      "cell_type": "markdown",
      "source": [
        "5. Create four variables in a Python script and assign values of different data types to\n",
        "them. Write a Python script to print value, its type and id of each variable"
      ],
      "metadata": {
        "id": "ymth0YOKvAOH"
      }
    },
    {
      "cell_type": "code",
      "source": [
        "a=24\n",
        "b='Nitesh'\n",
        "c=True\n",
        "d=12.45\n",
        "\n",
        "print(f\"variable a having value of {a} type is {type(a)} and id is {id(a)}\")\n",
        "print(f\"variable b having value of {b} type is {type(b)} and id is {id(b)}\")\n",
        "print(f\"variable c having value of {c} type is {type(c)} and id is {id(c)}\")\n",
        "print(f\"variable d having value of {d} type is {type(d)} and id is {id(d)}\")"
      ],
      "metadata": {
        "colab": {
          "base_uri": "https://localhost:8080/"
        },
        "id": "_JetBXlswOwZ",
        "outputId": "c58956ed-9d50-4523-bd67-f62ae7be5905"
      },
      "execution_count": 8,
      "outputs": [
        {
          "output_type": "stream",
          "name": "stdout",
          "text": [
            "variable a having value of 24 type is <class 'int'> and id is 139397807375312\n",
            "variable b having value of Nitesh type is <class 'str'> and id is 139396536605808\n",
            "variable c having value of True type is <class 'bool'> and id is 96378160665632\n",
            "variable d having value of 12.45 type is <class 'float'> and id is 139396538513776\n"
          ]
        }
      ]
    },
    {
      "cell_type": "markdown",
      "source": [
        "6. Write a python script to print all the keywords"
      ],
      "metadata": {
        "id": "4rXX-vkivALF"
      }
    },
    {
      "cell_type": "code",
      "source": [
        "import keyword\n",
        "print(keyword.kwlist)"
      ],
      "metadata": {
        "colab": {
          "base_uri": "https://localhost:8080/"
        },
        "id": "CZUgzMucw4xr",
        "outputId": "c23c504e-4168-4dcf-d913-f42e7e1c694f"
      },
      "execution_count": 12,
      "outputs": [
        {
          "output_type": "stream",
          "name": "stdout",
          "text": [
            "['False', 'None', 'True', 'and', 'as', 'assert', 'async', 'await', 'break', 'class', 'continue', 'def', 'del', 'elif', 'else', 'except', 'finally', 'for', 'from', 'global', 'if', 'import', 'in', 'is', 'lambda', 'nonlocal', 'not', 'or', 'pass', 'raise', 'return', 'try', 'while', 'with', 'yield']\n"
          ]
        }
      ]
    },
    {
      "cell_type": "markdown",
      "source": [
        "7. On Python shell use help() function and display the list of keywords"
      ],
      "metadata": {
        "id": "aABc1mzKvAIo"
      }
    },
    {
      "cell_type": "code",
      "source": [
        "help(keyword.kwlist)"
      ],
      "metadata": {
        "colab": {
          "base_uri": "https://localhost:8080/"
        },
        "id": "Fs1Za4UIxFC4",
        "outputId": "4cd321c3-97de-4b3e-e93a-8338f316aa9d"
      },
      "execution_count": 14,
      "outputs": [
        {
          "output_type": "stream",
          "name": "stdout",
          "text": [
            "Help on list object:\n",
            "\n",
            "class list(object)\n",
            " |  list(iterable=(), /)\n",
            " |  \n",
            " |  Built-in mutable sequence.\n",
            " |  \n",
            " |  If no argument is given, the constructor creates a new empty list.\n",
            " |  The argument must be an iterable if specified.\n",
            " |  \n",
            " |  Methods defined here:\n",
            " |  \n",
            " |  __add__(self, value, /)\n",
            " |      Return self+value.\n",
            " |  \n",
            " |  __contains__(self, key, /)\n",
            " |      Return key in self.\n",
            " |  \n",
            " |  __delitem__(self, key, /)\n",
            " |      Delete self[key].\n",
            " |  \n",
            " |  __eq__(self, value, /)\n",
            " |      Return self==value.\n",
            " |  \n",
            " |  __ge__(self, value, /)\n",
            " |      Return self>=value.\n",
            " |  \n",
            " |  __getattribute__(self, name, /)\n",
            " |      Return getattr(self, name).\n",
            " |  \n",
            " |  __getitem__(...)\n",
            " |      x.__getitem__(y) <==> x[y]\n",
            " |  \n",
            " |  __gt__(self, value, /)\n",
            " |      Return self>value.\n",
            " |  \n",
            " |  __iadd__(self, value, /)\n",
            " |      Implement self+=value.\n",
            " |  \n",
            " |  __imul__(self, value, /)\n",
            " |      Implement self*=value.\n",
            " |  \n",
            " |  __init__(self, /, *args, **kwargs)\n",
            " |      Initialize self.  See help(type(self)) for accurate signature.\n",
            " |  \n",
            " |  __iter__(self, /)\n",
            " |      Implement iter(self).\n",
            " |  \n",
            " |  __le__(self, value, /)\n",
            " |      Return self<=value.\n",
            " |  \n",
            " |  __len__(self, /)\n",
            " |      Return len(self).\n",
            " |  \n",
            " |  __lt__(self, value, /)\n",
            " |      Return self<value.\n",
            " |  \n",
            " |  __mul__(self, value, /)\n",
            " |      Return self*value.\n",
            " |  \n",
            " |  __ne__(self, value, /)\n",
            " |      Return self!=value.\n",
            " |  \n",
            " |  __repr__(self, /)\n",
            " |      Return repr(self).\n",
            " |  \n",
            " |  __reversed__(self, /)\n",
            " |      Return a reverse iterator over the list.\n",
            " |  \n",
            " |  __rmul__(self, value, /)\n",
            " |      Return value*self.\n",
            " |  \n",
            " |  __setitem__(self, key, value, /)\n",
            " |      Set self[key] to value.\n",
            " |  \n",
            " |  __sizeof__(self, /)\n",
            " |      Return the size of the list in memory, in bytes.\n",
            " |  \n",
            " |  append(self, object, /)\n",
            " |      Append object to the end of the list.\n",
            " |  \n",
            " |  clear(self, /)\n",
            " |      Remove all items from list.\n",
            " |  \n",
            " |  copy(self, /)\n",
            " |      Return a shallow copy of the list.\n",
            " |  \n",
            " |  count(self, value, /)\n",
            " |      Return number of occurrences of value.\n",
            " |  \n",
            " |  extend(self, iterable, /)\n",
            " |      Extend list by appending elements from the iterable.\n",
            " |  \n",
            " |  index(self, value, start=0, stop=9223372036854775807, /)\n",
            " |      Return first index of value.\n",
            " |      \n",
            " |      Raises ValueError if the value is not present.\n",
            " |  \n",
            " |  insert(self, index, object, /)\n",
            " |      Insert object before index.\n",
            " |  \n",
            " |  pop(self, index=-1, /)\n",
            " |      Remove and return item at index (default last).\n",
            " |      \n",
            " |      Raises IndexError if list is empty or index is out of range.\n",
            " |  \n",
            " |  remove(self, value, /)\n",
            " |      Remove first occurrence of value.\n",
            " |      \n",
            " |      Raises ValueError if the value is not present.\n",
            " |  \n",
            " |  reverse(self, /)\n",
            " |      Reverse *IN PLACE*.\n",
            " |  \n",
            " |  sort(self, /, *, key=None, reverse=False)\n",
            " |      Sort the list in ascending order and return None.\n",
            " |      \n",
            " |      The sort is in-place (i.e. the list itself is modified) and stable (i.e. the\n",
            " |      order of two equal elements is maintained).\n",
            " |      \n",
            " |      If a key function is given, apply it once to each list item and sort them,\n",
            " |      ascending or descending, according to their function values.\n",
            " |      \n",
            " |      The reverse flag can be set to sort in descending order.\n",
            " |  \n",
            " |  ----------------------------------------------------------------------\n",
            " |  Class methods defined here:\n",
            " |  \n",
            " |  __class_getitem__(...) from builtins.type\n",
            " |      See PEP 585\n",
            " |  \n",
            " |  ----------------------------------------------------------------------\n",
            " |  Static methods defined here:\n",
            " |  \n",
            " |  __new__(*args, **kwargs) from builtins.type\n",
            " |      Create and return a new object.  See help(type) for accurate signature.\n",
            " |  \n",
            " |  ----------------------------------------------------------------------\n",
            " |  Data and other attributes defined here:\n",
            " |  \n",
            " |  __hash__ = None\n",
            "\n"
          ]
        }
      ]
    },
    {
      "cell_type": "markdown",
      "source": [
        "8. Create two Python files A0.py and A1.py. Create a variable in A1.py and assign some\n",
        "value to it. Write a python script to import A1 module in A0 and print value of the\n",
        "variable created in A0.py\n",
        "\n",
        "![import from another python code.png](data:image/png;base64,iVBORw0KGgoAAAANSUhEUgAAA6gAAAHaCAYAAAANNGTLAAAAAXNSR0IArs4c6QAAAARnQU1BAACxjwv8YQUAAAAJcEhZcwAAFiUAABYlAUlSJPAAALI/SURBVHhe7N0LQBTV4gbwzweoIAgq+FhMKEENTLCEEiu10vJRwb2ppVZoqZnaX63UCivtpmbaTczUUistH/de9eajpJTKxw1MoZJUtMAUH5iKD1DAx/+cmbOwuyywwAILfr97N2fPzs7Ozg478+15TC1//4DrICKicsnJuaymiKq3evXqqykicmStW9+ElJQUdY+o+rI87tRW/xIRERERERFVKQZUIiIiIiIicggMqEREREREROQQGFCJiIiIiIjIITCgEhERERERkUNgQCUiIiIiIiKHwIBKREREREREDoEBlYiIiIiIiBwCAyoRERERERE5BAZUIiIiIiIicggMqEREREREROQQGFCJiIiIiIjIITCgEhERERERkUNgQCUiIiIiIiKHwIBKRFStuKC2Rye4do5Ao/adUKehiyonIiKqCDzuUOWq5e8fcF1NExFRGeXkXFZTFade+BS0ufsmONc1/3XxWuavSPnkfWRdVAVE5VCvXn01RUSOrHXrm5CSkqLuVQwed6gyWB53WINKRFQttIN7SCP8tewZ/Lb7nCrT1fbogFZh7dQ9qklq1aoFf39/cfCup0qKJueR88rnEBGVH487N6ZWeDb6NXRX94rXHa9FPyueYV8MqERE1UYjNHt4Gm4WJwyF1FX/2kvrfhg6bhzGjXsKD3ioMqv8cE/EUxg1Rs4rbi+MwfAnHkLHYp9DturUqRM6dOiAsLCwYkOqfEzOI+eVzyEiso9KPO7cvRDbDx/G4cNb8I6vKitB4NhP8FPKr1jxjCqgcntw7gq89syzmPvVtBJCandM+2ounn3mNayY+6Aqs49Ka+Lb9qnpeCHMXd0zkboeo2YBL87vh5vP78L7kz7BAfWQri2iZoxFZ/dUfDnqXaRaXc557IqZjKX71N32T2PGmM7467/P493NqswKa+t0Pn4uJn1qsQZFrPsfFst/8KUP8LCfumMif5lqvQotSdsGX6s7RFQdVVgT39qNUMfdyolBqwi0f6QDjJEla9e72L95v7pXfkERw/FAM7HcBq64cuDfWLLpiHrElB8eeKovghqL+U4ewZEzOajXuBVaNXMFzuzFhk+/Qaqak8rGGDybNm2Kv/76C/Hx8WJfy1GP6myZpzTYxJeoeqiwJr5VdNwZ8OlPeOc24FRjL1z+7+PoOnaneqSwVnc9i5feHItH2sqz6vPYOa0DHv9Yf4zKSw+eT97qjvO/fYaxD0UjTj1SwJZ5bGd53KnkgHpaC5lWo5gKb7AIiPrzkB9ArS3Hcp6SA+qDRQRi6+VW173Xi5j/iJ9ZSNUCahNrIVuxul7qNRlSiaq1Cgmotbuj5f8NQgsbxqOQJwrpTV5EwM1iXY7H4uDi1Sh7RAnFwNHhaHziBxx0vQdB9VLxzaJ12KseNWp07yA82ckbOWlbsWrtz9AbgDXC7X8fhHta1UNG0hJ8HmfeLIxKzzSAZmRkYNeuXfkBVD7WuXNneHt72yWcSgyoRNVDhQTUKjvujMHa315Em1/ewlfer2GAexxevuNprFKPFngEc7fOwiO3iJh85TyOnK2HVl45DKh2ZxJAEz/C2EffMgmg3fHaurl4NsQ+4VRy3D6o+z7B0vjzcA/rJyKb0YPoFybefLx4zFg7asWBTz/BrvPu6NzXluplWSOrAmGhIPk13h01F7vQGS+8VMKyNr+LL1OBm28rb5W2eM3/igX5BZm8byIi8QUd1sOmkwQp5/xxNSW+6Fv0RMswK79+2yrsZng55SDjj91I+DMDcPVGm0D1WL5GCPX1Rt1rGTgUZwyn0jns3nVEu+9t6KgXUbnIwCmDpwynMojKQCqDqWk4lY/ZI5wS0Y2tyo47Y3sg0PU89n77EWK2JQNeQXiov3rMjDe83IFTv/wX0REd8OkhfudVjDhEPzQWHyWKbBbyLOauM/ZJNQmnMrjaIZxa41B9UA98+j3+gB8eVuHwwZf02sylFk1uCzuA46fVZEl69UNn9/PYtaGo2soDWBrHwEhU1Vw6P4rRY55HRGdrR0p/9Bz6PEYP7SmmCtOe+9LL6G/1udVHg5ZN1VTxLh+Jw7H4FqjfWBUIHr5haqq0GqGHfwvUzTqG/XtE3Ew8joxrrmgVGKoeNwpEEzfxz8XzOJipl+Q7fAzn5TmDuzdu10sKuf3vo/T+rYX6sI4y68PaqvdQrXz4I9YG45A1veI5wx9FkCqpqWTwlDWnxpAqa1TlzRhOTWtViahsXG7vh5EjR6Df7daOHW1w35MjMPLJ+8RUYdpz/28c/mb1udVH1Rx3WmHaQ51Q79RurPsYOLJ0N5KveKFL/zHqcVMf4fE7AnBHv7H47BdVZKNnV/6q92+VIevTLfg1RfZ3Fbfff8VP6+fiSdXvtcvc7Vr5T4sf0QvMyJpe8ZyfPsEAVVJzxeGtR01D6jt4xzScmtWq2peDDZJkrE28F1G9nkY3P+CPuCKay5ppixZNgPMZJfd2attczngAO4upkcXmvVpQDuql7ltl+2uWRF+nv9hXiyhfT4wf2R/hXcLRf8xERKhSo8BRoxH1QDjCH3gao0dZVu09ikljxHM7BSPCynOrk9r1nNSUlIczce8j8e1nsPst81vysg3AXf3RwmRgotp1TJ9bCh6haOUFZJ06pDfpzdyt/QBYt4U/7tFmMHKFXL0rWadRuHfqbpzLEv/Uc4XJuYsVddDo7w/h9hZAxh/7sX/fIRw5L5bcrB3ueURGV3GisjNNBGS9rFBEvdcfLcQ6nDu6u1Dz45rINKR6eXlpN4ZTInu5D2OGReLOO+/E30aOQz9VatR++HAM6XEn7uwxGCOGt1elRv3EMUs8N/g29LPy3OqkSo47vmPQ5VbgVPJXepPetEXYnSIOISEP4TVtBnuqh1YrRcjqBOz99r/475qvsfMo4HXbI3htiYyuwM45cSIgi7KOESgUUaMfQidXeWxaZKX5cU1kGlIHYEAlhFOpkgOqHx6e/wHmm9xetAyBWtNZd3R+pDPcU9cXO8iR0YMv6YMofVdiTatYA2934PQJG0Jv8do+9bT113TvjBfM3uN0RFl+j5lq/zSiwtxtDOJEdCO5lpOnpoTMPTj2P5Efh8xFyGsf43bT2yuzEdT9JpieGlzNyVZTpdOqSysRKrOQkWKMfOew9UiGOFp4o1V3k+ZbnRqJiCpe50p5glEjtHJLxbr5n+LfG7/CV1+vx7+Xfo7441dQt3EQutwrZsncioPivmxm3M7st4hG6NHKW2ykDKTttDaAExERlVZVHHe6jO+CNjiFvRuNke8IoncmA3UD0eVNe1/ApBW6tIjD0x3uw+OjxmLsuBF4/N7eiEnMQb1bBuClaDFLWjS+EvdlM+MIs2bGrTCtizgQXUlG3JyiB3Ci8qvkgCpH4n0eo0xuhQOoXjNZPPOgqw1MVNTgS3Zj/ppR+ESsv5XXlAMsmb1Hk9GFlZsfKVjO/KeApVa3A9GNLBZzFqzGjp07sDpmJtaqUqPk+fOw9Jsd2PHNJ5g3XxzEzKzDjBjx3D1JWGvludXJpaPHcU1N48wx5IX1h18rF5u+uM8d26OmSqMdbvcRITQrA4dMN+v3R7RaTG/fLna+1tkVHD/wlUXrkXPY+fMREZFFBPXSGwgnHDqOHBGHvQNMGvKqmt4rxw9iq2UT4xrKtM/pqVOntJtpn1QiKo8tiFm8Bj/++CP+s+A9rFelRvsWLcKyrT/ix63LsXCRZTO89eKYJZ6b9AvWW3ludVL5x51HMLyLOLKc2ouvVqsiadpOrRYzsNtL6KKK7CMHe74ca1H7dwTvfrZTRGQRQQOf1Upivt6N8/BCUB+Thryqpjcn8StEp6myGs+0z+kqrCrUJ7ViOFgT34KayS9jduG8X7/CNawai6Bb1Ki5VqRmnAeaNBcxuLQKXvN9bTCnp4uvGS2GHPlXW2/5Ht07I+qp0q8NUU2XvWsd5sV8gLW7rP0iexCxSz7AvCWxYqow7bmz3sFqq8+tPq7Fr8bh49n5JwtO7rb1bbqW/Ssy4sswem5gO3i7inx6cr9Fk9kfkHpSnCl4tEBwa1V0Ogcljlt87UoJIzpm4dxvatLUviztefVcVQPhPftxTCRW1xYiQOslqqY3B8cPJaiSms3agEjWBk4iorLL3r0eCxYsxPrd1o4dh7Dls4VY8NkWMVWY9tx/vof/WH1u9VHpx53+EQjyEvn057UWTWbfwtZfxZHAtxOeulsV2UUGjvxHTZpak6EN7ufurUa2+HgddovE6tXpUeiR1VjTex67v45RJTWdxYBIj76Ml836pFZcSHWsgKqau56PX4+v932C71JlbeOLdh2s6MCJ02Lva4suxYXLXkG4WQTSvUXUah74dLLeDFmE6XJFS/EeJ/03tVxhl4hqsv04s3gsEmWfny82qjKjbBz/71QkzbO8RePnf76PrPyfwG0XGthKa7brevND+oBFJrewFvKK7I3QopOqxTx8GVfFP/XcvEWppY5o1ED8cylLnAoU5yquFFf7edUYb/di91Fx6lCvBfy1MThaIbiFrOnVB3Kq6WTwtDYgkrWBkxhSiah8Kve4M6Z/F4h8Cq/75+oDFpncxoTI77NWuP0Zew5HlIPLxdV+5pxXE6uwSHYfcb8dvcfK+13w1O2yplcfyKnm0y8zU3hAJIuBk76aViEh1YECaltEPdUZ7iaj9n49a702WFE3e9Ywbl5fwiVpHsSLj/jpIVmVWKOtmz1qP419bssbdonoBuOCFo9MQfCoF+D3+GQED+6Fupl/4mrmcVwrw0mCPPje7C1CaNZx7N8nByyyvKXiTJ4Ir4Yg6OP5ipMYeRx3bYRCV6BpfRPcRUC9kikCpCqyzhWNOqlJU12aQF56PetCQbzVB0uqC6/W4tUDb0cLMcONMDiSMZzKa6DK65xaDohkDKnyMTkPQyoRVRx7H3deRI9bxffVqT347xo5YJHlLQ6HskR47TwQ1sbzLRtvtHpGTZqa4K91YTl17Ff9vqAPllQPgfeIV+8/HLf73CiDI5lcA1Ve57TQgEh6SP3sNxFSb32yQkKqwwRUvWnveez61LS57tdYX87mtIUdwNJJIlz69cP8GZahUITT+fo1UieVOOCS/dbt6w1s6ktEJbt2RU2YyE78BIe+3IPyNipr1N1PHxE3fQe++loOWGR5W4d9GWIFnLxws1aLeQRJx8+J+y3Qro8cb9eoEW7v3Er8NwtHkktqflsPLdrdI04XTPmhX/sWqCsHajpkEm+Nowl73ywebwnXG2RwpKCgoPxwWtR1TmWZfMwYUuVziIjsoSKPO63e7KGPiJswC2PHyQGLLG9PY91v4jvPNRA9tFpMe3DH7Y+8ZvHDancsjOwkjkinsHfzf1WZYBxN+NYe4vHb4XWDDI704NxpBeG0yOuc6tdJNYbUaXPte3HOWv7+AdfVdIVq+9R0vBAmfxO3IAcVimuKFx4RJzgiGI6aZVlv2RZRM/RRer8c9S5SteWc1qaLrOFs/zRmjOms/QJvTgTgmIJBix586QM8bHpeJcj+oZYDFunrbu01zdcNVpanMb4vtV5/Ffka7lrfVCKqfnJySuyRWX4Nu6Pl04PMhvWXrl3JRua2+UjdUXx9ZdFa4aGov6OdxzkcWrME6w+rYkud/o5R97ZCvVM/Y8nyrTiH2/H3kfegVYMryDp5BEfO5KCelx/8mtZDzpEf8Pm/d2t9eozPq/PXXqxb9o12WRp5HdR7Wontdqke6uQdR1r6OVwRpwfeN/uhcT1Rbvp8o7CBGNNFjoxUFzi5AzGra37/01q1aqFNmzb4888/rYZTU7Lm9KabbsKhQ4dw/XrZD+316tVXU0TkyFq3vgkpKSJBVaQKO+50wdzvV+AR3yP4enBXjNimii09swK/RneBuwhLXUVYsvxZUl7b9LW7gJ3TOuBx06a36nn1DqzC0z1fhoyVxnnPn3FHvew9iEs4ghyRFgLv7442IjSc/99b6D3wI/PXGLsWKRNEnM0RB6Zf3kXA32+E/qet8Gz0Uzg0zZZLyXTHa9Ft8Ok0i+1WSpbHnUoLqERENVmlBFSjhjehXrN2qN84DzkHf8XlzL/UA2XU+iEMjWyHRucP4d+L1xdzkAnCo8MfgJ/rGexd+im+kf1HPTrioX7haCNSZV3ZJudKDs4clLWwPxf0Py0yoGZh7xf7UP/BO7Tna3KykPFHPDaI55uFU43x9a/g+M4YrIxXxWRXDKhE1UOlBFQjex937p6L7csfQaujX+Px8BFagLRuAD756R109zqEVffeh5ct+o+WPqBmYFW/dWj0z+F48BZVlXX+FJK/nYsR4z6zcvwzvn4O9swOQMRcVUx2xYBKRFQBKjWg1gD5AfU9EXRVWclUQEUqvlm0rsb3P60qDKhE1UOlBtQaID+gthZBV5WVTAVUxOHlO56+AfqfVg3L447DXWaGiIjIqrAgtHK9MQZHIiIiBzB2IGTPkhtjcCTHwYBKRETVQCP08G+BujfI4EhERFTVWmHaQ51Q7wYZHMmRMKASEZHj6tQPAyMfwqNDBqGjF3DuwE5sLe7aqUREROXxzEKsXT4Xn8RuwpO3Ake+nIXo4q6dSnbHgEpERI7rWj00bt0Ofo3r4NwfP+A/X6eqB4iIiCrAFXe0ufsRdL+lHo58+xYeH1fyWLZkXxwkiYjIDjhIEtUUHCSJqHrgIElUU3CQJCIiIiIiInJIDKhERERERETkEBhQiYiIiIiIyCEwoBIREREREZFDYEAlIiIiIiIih8CASkRERERERA6BAZWIiIiIiIgcAgMqEREREREROQQGVCIiIiIiInIIDKhERERERETkEBhQiYiIiIiIyCEwoBIREREREZFDqOXvH3BdTRMRURnl5FxWU0RERBUvICAAKSkp6h5RzcEaVCIiIiIiInIIDKhERERERETkEBhQiYiIiIiIyCEwoBIREREREZFDYEAlIiIiIiIih8CASkRERERERA6BAZWIiIiIiIgcAgMqEVGN44LaHp3g2jkCjdp3Qp2GLqqciIioIvC4Q/ZTy98/4LqaJiKiMsrJuaymqla98Cloc/dNcK5r/gvktcxfkfLJ+8i6qAqIiKhaCwgIQEpKirpXdXjcIXur06RJkzfUNBERldHVq1fUVFVqh8aPdMGlVaNx5Nq98G5ZX5UDteo3Q4PrKfgr9S9VYgfNH8Pk16PwSM9A1Nv+I1KK3AStce+Q4Xjq8Qj0fbAnet5/N+4I8MC5vfuR4QibjYioGhLn8Dh9+rS6V1Uc9bhTwO2uJzHh+b+hbWYcEo+rQnJoVVCDGo6Ji55HsJu6eyEJ84a/gx3qbgGL+fKlYePjr2C5uhf+0scY3alwM4K0TU9g8jJg8Iwv0Ke1VmL2vHxD3saK3r7qjgmT9SpYhnB4Ix6f9Lm6oytYh2wkzX8GM7dZPEfI3vMBhs2yeJd3v4zFo4KRv/ZFvaYF/b2Zbx9ryzd/7xthsLo9zT3++BNqiohKwzFqUNvBa/SLaHH1OPI8W8DFohNH1q53sX/zfnWv/NoNmYJhfuKry80Nl/43C7PWZKhHTLVG33EjcW9LMV/qr/j12CU0aNkBHfzEl9Gx77HgvQ04rOYkIiLbOUYNqiMed3QNvEPx4ON90cWngbh3CftXTsHi3fpj5Ngqvw/q3eEIMA1JbgHoereaNpLBbUVJYUoGtC+shlPbDML0FV9YD6fFad0H04eo6VJw8Q8Xa2wu/M6AgnBaTi6dojDRcjsS0Y2hdiPU8bhJ3LJxZvlUJK/4CCnzpyLpv78iR81if11wr784QTjyNfYcA7xvfVCcphTW4P5+CG9ZF2d++QKz5n+BtevW4ov5s7B2/yXUbRmOfr3kiQMREVUrDnzcAdogYtxUTH3pMXRpCZw5y6Y61Y1JQHVB+9valzIwueD2O28v1XPyQ9mFbGRrJS4IuNM8ug3uU1CrKGsLZa2efvsASRfUA0P6FARYWauZP88TmLdHX3LRZDjtA2M0lbWPps9//PGNSFOPWePb+20MVtMlMr7PQkE8HF395bsUjxvfk1Wy9tN03fSa4cJcEDzk5UIhuMAOzBxesIyCbSRrfQvKiaiaqd0dLf9vNoJHTyl8e6QD6qnZjNye+Bi3v/Yxgob1L/RYqdzVAYYGl3D4lwRs+e0wrjTyReit6rF8DXBfh9aoe+UwEv/9Ky6pUvlLdsLGX3EGdWHw76LKiIioWnDo447khsauIpim7sQXb0/B18fzVDlVF/kB1evxVzFx/DhMHGxrSHXBPSPfwMiRQzG+r5cqK4kxlIlYdHAp4lS7Lmu1i7psZJolRRmyCjfTzT5tHid3zHqmiBCnC3+pu1k4LdT0Fp9jstVmx0a+6DNjkJq2lUUQz69JzkDGGa2k/NyCMfSloiMqEdU8tcN6oIVtX9rIOV/Q+aZei55oGdZI3SutBnjwdl80OHcIO3aLuPnDIaRfcUObcMuwGQpDE/FP5knsKUinuhOHkJEF1G3qixBVZCkkaipmzfo/9NX6sL6EKdNnifviNnMqJo+KQAdV+eod+ZJWPvmJNnqBmS4YMVU857Un1X0iIioPxz7uSIlY/NYUTJ+/FonnVJGNeNxxDPkB9dSKd7Dsl2y0vt+WkKqH0yF3eiDzx1WYs+GUKi+BSfPejBM7kHpa1eJZa+arcUHwqI9LbLrq0ul5LLY5mBWEZFk7GVconBYnDUnGmsfW3W1sUpuCFCtBPL8m+XAykrWScriQhCTja3TqY3vtLhFVew1aNlVTxbt8JA7H4lugfmNVIHj4hqmpUmpwH9q1rosLhxOg9Sy69D0OpV9Bg5s74T5tBiM3NKgHXDmXgcK9hBJxUp44uLrBoBcUwQnNop5C31uA9MSd2LlDvKZYWGO/LnhipDyFEMeTr37F4SuizDcUhU4V7u8EX3FCkfHb16qAiIjKw7GPO/bA405VM2niew5b5rxuQ0g1DafL8fqCH1RT3ZIVNN1NQ/IyYMePKeq55rWLyyeZNrGVIfULrFjxhXnfz2WvYKPJyBoypMp5VpRYs+kLD2PT4AuZSFWTcqAj7fkmN2uhN33WUtXMuKQmtQW2J6t3kx/EC0JymnjMYPKHW5gv+pitl/Xmxdvzt1lZaneJqLqqXc9JTUl5OBP3PhLffga73zK/JS/bANzVHy081KxC7Tqmz7Wd90PtRai8gLTdxoEvLuHr/em4UteA9qZ9Sm9vBvn1lpdzXr9fJt5o0/hXzHtjFhavXou16/6FxbOnY8Pvqg/r/WKWS19jzx+XAM826GLW3KsBHmxn0JoY//pV0QNpEBGR7Rz6uGMXPO5UNYtBkmRIfQVLkooKqS64PerVMoVT2e8zUBtRVjicrDfT3bYDKar/pXkz388x+fEnzAKo5NtbBDST8LV80hN4fJN58145iFFRIc4+dmDmsiT9fdvapHZZsgqPKojn1yTrQd0+xDYzbosyDuRERNXPtRyTvjWZe3Dsf4DHkLkIeU3v85N/e2U2grrfBNNTg6s5tn+DF2iD+9t5i8NFGhJ+U0XSt/uQfqUuWt/2oDi029MVpO1aazHS7yV8v3W/1ofVu3WoVrJzz2FR6gbf202GzFC/uF/6Yw++tmxiTEREZcLjDo87Fc0ioErZ+OGf1kKqHk5H3utVhnAqDAnM7/eph0hZG2gyUq+VZr5aAJWD95iGUMvwtewVNcCPaa2rjbWIbh7wU5Oy36q2nPkqfBZn2ztYopr6ytFz+8o+VsX6HMnGJrgiiA82ad5b6LI3hVgOkmTlUjlGJrXKciCnQH2SiGqwS0eP45qaxpljyAvrD79WLta+3As5d2yPmiqFW7ugjad4qT926s2s8m3Br7K9k3c73NtcFaWfFwdvoXYxv5hfuaLPU6QzyNilJk2l6Mtu4K5OS3bvwKFz4mv9lvD8Pq36L+6XcHjPTlVCRETl5dDHHbvgcaeqFbEvqZC62xhSb8Ntg1/Wwump7xeWPpwKgwNLupxL4dF888kQahJSvZtbm0/WupqE1MaGIprfFoRFGWQDy1jTuMOkqa9va/N6ZmuW5zfz9UBgE2PzXvPrqdpDQfNoX7Fe2gQR1WDX4lfj8PHs/JMFJ/eSv4+ka9m/IiO+lKNHCF3C20D+rtg4ZIQ+cITJre8tdeUjaP+A+jX5xCX9YO5hQOEGWB3QWC7owpkSroOah7xiEuyV/Af34+vfMgDX1gi9S973xr3+8hd3fUANIiKyD4c+7tgFjztVrZgfO0RIjSkIqePvb6mF07eW7i51ODVr3nshCfPMagQLLh1jHOBn8IzCAyOZBlw5wBKGvF24j6hpLe2Z9CJH4V2+saCWVDYbLltzWJOmvrZYtlG9T2NwtGfzXlMmTX2J6AawH2cWj0Wi7PPzxUZVZpSN4/+diqR5lrdo/PzP95GV/xO4re5Fh9YiaoqD784dcuAIy1si0sVx283/XujjKiYg/S/xj6c39AZRJpq3g0GccVw6lYZDqsi6xmh2u5o0dY8BzcQ/588UxFt90IoGMASJV7/1QbRvqg9SYf6LOxERlY8jH3fsgcedqlZCbbweUmP+vQVb/l3WcCqYBMfsgzssguMObD+YHxdVjWbBwEjGWx+TgLtBBbv8gZGMt975r4KkjcXUTm57B8NMQpzWt9W4jFEF12AtkUlT35KZvk/Bpua9kuUgSdYHbzJjMYAUEd2oXNDikSni+/QF+D0+GcGDe6Fu5p+4mnkc10p9kgA06NUBvvWAM/vloBHWbl8g4Yg4U2hgQAft1+QMfH8wA6jXBl3+btqkowFC+3QQpwAXcEicYBSvAVp3vlf79bxAazx2VxvUxRkcTjKJt8ZRHVt3wGNhbeDGQSqIiCpZVR937IHHnapmQ3PxbOzesBzLNpQxnAoT7y4Ijik/Fq7X3HGi4IP0DRxUcPkZC/KapY8br0+alml9fbQa2mcwc5u6XxTVd7WoIJe26Qkr10ctbMesOJO+r8UrGLW4Ypr3mjKtJSaiG8e1K2rCRHbiJzj05Z5yfyc8eFtr7eB8aHvRB1990IgG8L39Qa1Zb8aab/HrBaBx2EhMGfUEIh6NwBMvTMZj7Rrgwm9f41/GAS9ufxJTZs3C9Bf6Wgx2cQlXvPvilYkj8Jh4bsSjT+D/3hiN0Kbi6/63LVhrOmCGmPfr3Wm4VM8XnQIacJAKIqJK4GjHHZvxuOOwavn7B1xX00REVEY5OZfVVBVr2B0tnx5kNqy/dO1KNjK3zUfqjrI3PHpJHMi9/0rArJn/snJdU6N2ePK1YejQKB3fT/knNsgDdYMOiBgegdCWbqgrfxa9cgHpu9Zj8ZpEqB4e+onCwA5ocPR7vPf+Bm358oLpT9x6Bt+/lYAGz9yP0Obq9+xLZ3B4zwYsXverODWwZHz9Szi0ZgoW/k8VExHVMAEBAUhJSVH3qpAjHndM6McSYP/KKVhs2jeUxx2HxYBKRGQHDhNQjRrehHrN2qF+4zzkHPwVlzNlZ9DqJf9E4SVxwqHKSqZOFPArFr/1GfsBEVGN5TAB1YjHHR537MSGJr5ERFTtXPwTOb/H4tyuuGp5klBmd92LNo04SAURUaXjcYfHHTthQCUiohqiAR683RcNOEgFERFVCh53KgIDKhERVW+3P4ERT+mDL93XGsiIX89BKoiIqOLwuFOhGFCJiKh6y6uLZkFdENJSnCQkrsW8dbzOFhERVSAedyoUB0kiIrIDhxskiYiIajSHGySJyE5Yg0pEREREREQOgQGViIiIiIiIHAIDKhERERERETkE9kElIrID9kElIqpeHgnph2OZx+BazxWerp5Yu/u/ePrpp/Hnn39i69at6NQ6GK2btsbFyxeRdzUPWTlZ8HDxwDfJW9C7d29s2rRJLalksr/oyZMn1T37aNasGfugUo1Up0mTJm+oaSIiKqOrV6+oKSIiqg7OXTqP85cuwMW5AXKu5ODP00fg6uqKy5cvIz09Hd7u3rhy7QoaNWiEs1lnceRMuhZWz2ZnonXr1vjjjz/UkkpWv359nDp1Cjk5OXa7iXN4nD59Wr0CUc3BGlQiIjtgDSoRUfXyyCNdRMA7j6tXr6FxYzfUrVsHf/55CS1atMDx48eRmJio5iw/g8GghV574ii+VFOxDyoRERER3XBcXesjLe2EFlBPnTqH/fuP4OLFi8jNzdX+JaKqwRpUIiI7YA0qEREVhTWoRLZjDSoRERERERE5BAZUIiIiqiB3YdzAz7Bi+GJMb99GlRERERWNAZWIiG4o/q3H4t2Bi0VoEsFppLoNmoBw9TjZkVcXBHmIf2s7wfeWznoZERFRMRhQiYioWM7N2uHeR4ZgxIgRGNGnnSqtnlx8JmFSrztg8HCqwUfAznj1s03aNRo3bVqIUa1VsVWe6BzxAmI+1+f/1+vdVLmdnNqJvZni32t5SPt9l15WwwS2m4IPoz7D9PaqgIjKrSYddypEkzZ4ePqLmPOfd/DhOnH7z9uYNvfvCO9QV81QtKbPvoC58jniNvNVx2zZUomHZxfcfuft4r9kV0PexooVH2Pi3eo+EZGduLXshIcGPoOoR+9Fu+Y14dvbBZHBt8Kldh4yklZg8uIn8fgCdft8Nnaouaq9sJ64tSlw4o/fkYtWuOORVuoBU57oNnQ6Fv7rc7z5bC/c4qmK7e5/eG+l2L6LhmHyvkOqrGbxaNoSHvXUHSIql5p33KkA3fri9Q+H46H23mhQR5XVqYumN4VicPQI3H+TKrOm86N4oY8BTuquo6q0gOrVdxyGjRyBN0few5BKROToarfBXQ92xk2NxNHvwp/Y/stJ9UB11hGGRuKfvMP47sevkJanl9Y03R4MFvHzBH6etwu/5wLNb4sUMdVC2Cg8+/eOaOUK5B7bhe+Ss9QDRERVpEYedyrArkM4cuECDmxZgbeHvYznHn0FE2N+wBHxfQ/n1rj3MYM+nyXXdhg6qgua4gy+33FYFTqmSrzMjAvuGfkGhtzpgcwfl+P1BT8gWz1C5SBrUHt7I2n+M5i5TZURUaWriZeZaXNff/if3IrYvX/havu+GHGPOOgd/R4LN+5Xc1Q3d2HioOcQjJ8xr5ga0/CuCzA6CEj6z0gsvP4kJt5/L3xlk+BrQOaRb7F082dIENP5at+KiM5PomdQS8jZpLysY0je/hliUn8rONa1n4YV93ohae0KZHV9EuFeYubMn7Bo9SYYer2IPq1dxEnZb1j97xlYm6OeU2rd8ObKl9H50neYHPUBOs/7FyJvPoHNzw3F+2bnI53x8ofPwTXufbyz+md0fv1feDnMFVnx7+CxN79T85SD9l7N2xanff8kJu9Td4y8JmDx3zoi4/upSDS8iIg2YhtcPoyNq6cj/baZGH5bI5GgT2HHxgmYd0o+QX2Gef/DWxvS0LNHb4S0bAQn+XN79jEkff8xZh62qKm19fMRbP7srby/wsT7WBCN5epeqbl2RN/hTyIy7BY0d3fWy3KzcOJgHD6bOR/f/aUXUfXAy8zYpiYdd1xv64tnhkSiq39zuBr/hM+fwO/bPsNbH3yHs3qR3biPehEze3oDqZvx3LgtqtSoLoJenYznOzfAH1++i1l4HB8+3Brndy3CxH84XuuWSmzim40fFryBZT9mwuPOwaxJJSJycIe2rMZX8iRB3a+WZAAyDoQ0UgQbN1Hm1hGj88v0m7X+g05tp2Fu5P16QJHEEdOj9f0Yfd/DBcev2vdi4oBJ6B9SEH4kJ9eWCO41CbO73mtxrHNCy3sf18Op5NERjz78nB5OJbdb0e22W/XpsujRHbe6A2dT4kQMz8KKn38Xhc3RsVAz3114R4TW10U4dYS6U+8Oz6GvDKdS/dYI7zkFUcEinMqzlPpeCA1+WH/MyOVWjB7wOEJ9VDjVyuQ2fw6j5aBMRqX+fHQ2ffYVrNuLr2HUA+0Lwqnk7IrmgX3x8owXwC6vVBPViOOOphtefmUUegUWhFPJ2b052vd5GbPHmvwF93gT/9LGDCjmNu8ZNXPJzp8t/EOI08NPYGhnN+Qd+hoLl5xRpY6rEgOqxJBKRETVgQsCg1rDKeswYtdOwrAFT+K59T8j85o40N8UjF5qrvAuj0PmKJz7DatX6vM9vjgai+KPQbYg9rj1YQyVoTifE7wbuyAjfgae23ZMv9/cC5l7F+O5r37TnuPdtKM2Z1l0u/tWuIrIeSheH5AoK3Yfjoh/m4c8jrIvtQz2RRf07/2+5KZkLo29xInTCjy39metRtOjeUvg6FeY8tn3yBD3nZr6IlSbU6nfSATObKRtX6z3JV48G7FHxdarLcPsQ2qmsnw+kg2fvcn7m7dXr4OVNcT571m7laP2VLp6AWeTN+Pj6WMwqHdv9O79GEa8t1lvxteyI/qF6LMRkWPKvXgW+775GP94YZD4+xV/w4+NwPvfHIH8E24e0s/O38mN8UAHb/HvJfyeYFHbfNM9+L/BQWhwPhGLXv8B51WxI6vkgCrpIXXB96e0kPpaVFUOnDQI01d8gcUvhcOl89OYOvdjrBD35e2zD2dhXD9/NV9PvLZYlH/2JiJUiSnD0FniOZ9i6mPGd+KB8KFv4v1Fn+Yvb8Vn8zH1iUD1uDj4PTIO735o/vj0pztb2RYlLctIzvc2PvxMzbP8Y7z7Uh8Y30E+l86IeuN9LF5eMN/7bzyNUP5SQEQ10anZeijRbh8i6YIou/Az5pkFCStNT4Xs1C/x1opoLD15TAtNmenfI0U+38lJhEDpIXSXtX7XTiHuvzOwNlOfT/ZxjUucilX7xT0RmPxvEWHLlHj91Ym/ITPjlD5/9m/YsPN7ZGbnaaEJxkEvSq0vegWJNTv/G+K2qqLD6/GbzMHN2qGXIwcauc22fYVMsa1lIJXbdPvWFTiYna1vo9pO5oN65J1Cwn/HY/Le7/W+xHk/Y+k3O/Uw28Jfhdkyfj5CyZ99xfvuraEY9NL7WLPtd9UUMAtHvnkfu47KaTe4VtjAVkRUft/hH88MwoT31mDHQdWYN+sINr+3S/vREA1ckf8nvPV1PKb9CFXMbfTHamZrZPPd53F/C/H1v2sFln6tijWN8dC4B3Gz8wXs+vRf2FtNhhuogoAqZWP30n9oIdXr3hFVHFKFeuGIHtUdXmcSEbs5FrE7DyLL1YDQJ8ZhYje5ZrHY8EumODD5IiRSf0qBQEQEG8RbSsH2f8nDmD8Gz3gfox/wh2deGnbI5Ynbjj/y4OKl2h3dPRrjB3aG9zXj4zvEAdYDvr1GI/oJ047NNixL8erzNkbfCSRvVcvLcYGh0yCMftYkorp0w8TZ49CzrSvO/vydtqy437Lg2bYnxs14HsFqNiIiAjL+/DeSTfua4ie8t0IGWmPNmAdc64t/Mg9hh5Z8TGVj40mt0yQaNjTvq5h9eKdZ/9fsP77HRrPXKaM+4Wgj0lPW77vEqZHREaz55YT4tznaPVCpdailc/I3LDftd3vsJywqtE1NXD6GhJMWM+QcwjF58pUfZsv2+Uglf/aVwDUcT76+EJ//x7ypX+TN6nEicmiuXZ7Emx9+jnXrTf+GI3GLetw+6uLmUc9juGy+m7oZs/6xX/+hU2n67BA85FcXf21bgiVbrqhSx1dFAVUyD6kTBxT+BbOyuAQGIPPT5/DcGx9g6SefYGnM63hu2nfIEAe34MgoEUGBpDUJSBeHPN/g/uZhulNPBHqJ498vG0WMBYLHjEaf1k7I3LMII59/HfPk8sRt3hsv4MX3jackWUjd+p7J4x9g8gz5enL5D+Qv37ZlSSKMNkrDov97xWJ5sl+PWD99JoQ/PxjBHtlIWjgWL85apC1r0dsvYNrmdOR5hSKyUPgmIqIS5eVCXuqzqvXt0kar3XMNGWVyMrQJCx9srj3evH2vym3mW+lc4GSt9tlBPp/S6YZXF72KgWGt4NlAFRFR9dHjVSx6bSA6t/aEc0mtYsrcB7UBQl59ES/1NODKoc14+7UtsBw7rfOt+iVlmt79gn69VOPtYf2HOffOw/X7nz2OtlqJY6jCgKrLzpM53wkuDWUnkSpyIgHLv7P4efXgInx3UKybl6/e/PXIaiQdlpWogehrklDD7wsUMTYdCWuS5D306iDS6pldWDjrO61ZkFXbPsBbH+0yf/xgMo7J5kMe3tBbYdm4LCU9fh7iTGc6uBHJ8kfz+q5i/aQ+6H6rWHEr7/Xg6mQtHBtuCVclRERUsixohzAvf/QsdB1MF/RpJr7DhYzTP2v/Vqy+CA8oofGpozfzLS9DR/jJGtPsTKRpBY70+ZRSRC90lu3/co9g81xjH1T9tuYPfRYiclyRPTtD/xPejPeNfVC12xrIoevKzdUbD707CcM7N8alA+vw9otbcKIGXS2sCgOqC9oPfhnj72+N7N1L8fpiKx2AKkn2iRQRMQvLuCCPbJ7wvl3ey8aa3QeR5+SPkL8ZE2pPdG8npg8nYZXWoNwXHm5A3vEUyLhaHI/gPoh66U1Mf+d9LF76KT5b/rw+umQ+25cl1+1UmmWETUe2bC7l5gE/7b5q6tS8G9419mU13hb3hGxY7NLEV5uTiIhs8S32agPztETPiEmI8GgpjmyCU0dEdJ2GAfL4kHcIiQdK+onRDlTz3tz9n5mcCBXcXt8m+0A1R8cHO+vzV3dOrjC4tVY/wDZC8E3P4d0HbhXbPw9p+79Sx/TK+Xwyc/SzQt9g8RqN7PRju2dDaAN/Xj6D35NPaH1QPf174ZnXF6JXSVe3IaIq17iBPnRv3l+/47dj2l8wbnnwGbz5Ya/CTXxL2we1SRAGv/d/eLhNA/y16zO8OnFnoZpTo6/GyeukWrl9qQ9eJy8zo91/cgUOaCWOoYoCqkk4TVqKyTFVfE3UazKIFiULWaptUPa/diBFrKhs5qv1FO3dGQEueTi4e63Z+uflFfcThgu6j5+PDycOQs8OXnAS86buiUPctzuQJmtQLRS/LBM2jsedd2SX1vfU6u2HZDUXERHQrs8IjBihbvJadJLPvQVlT3RFU730BpWN1du+RZr8MdDjVvQfOEO/pM2wCegfJL7fxbElbecXWG2P/qUliLy7PVyRi993rVQl5nbFHxJHM3GK1L4n9Igqr5da0HxMXgNVcg17uYQmZbaQ1yo1uYyPul6o770FZYu73qWVlVn9NogYNA0fasuLwcTed8FQXxzjjn6LJfvkqFBS5Xw+yQcPIUMuo5F4jcdj8t/jipHTMFifpfS2/Izf5VCf7h0xauG/tM/j8/dfQGRYK7iWeRAtIsdXU447m/f+ro3WK7tcLPyX/E79HDFjI9G5dQktXWzQdmQEwr3ratNNOz+JOaZNd9XtpaHaw9VWFQRUi3D6zyoOp4KsOdR+VTVjQGBL+etqJtJ/VUXGwZJaBqJnKxf0vzMATvmDI0l6cyIXQ2B+v89CXCLQs7OHCIqxmPLkKLz46it4K0b2G0226CNjw7JKRV+ek1MWYlVf1kK3TSXX1RIRkYnsFZi8agUSjp5DnvGHQhFWsv86hNg14zF5X2VcAF2c9Pg7A7m/4+cvVZGlrXH4TV5boOmt6BmmF9UkeVmncHD7hxi7YQUOqjJNZXw+mR9i3uafkJ4pDrL2+jHi8MeY8tFmHDkrT3GVrBPY9818zN8m++8QkSM78tEUfPzNEZj9CZ/ch80L5mPHSVVARarl7x9wXU1XAkcLp/IyM33gi1OIe2syFiUXrI1L71cRMyQQTgdXY+SUdQXr2WkcPnypM3K/+w7Z3brB48d38Nz7xmDngj6vzcXgQCekbXoLk5eZHSZ1d4rnv9AZzkmLMGxmwTiLxtdzuZCEecPfwQ5bliUNeRsrensjaf4zmLlNlSmDZ3yBPq3TsPHxV7BcLK//1A8R4Z+nDZI007LPLRGVS07OZTVFRBVH1s4+h2D8jHmfzzYbDZnIkRkMBqSnW+tQVnYBAQFISUlR94hqjjpNmjR5Q01XMMerOQVuw/1/D4BrZh5uuq8vQg2NcdOtwQjtHYVRD/iifl4avo75ALvPqNml40fg3aUnbmtngGudE9gxdxmS8q94m4eDP51Hm3tD0a5Dd/QOuwXNDf64LTgUvR57EhEdLiD2P5kI6R0MQ6v2uOvm5jAEdNBf725XnL/kClecQML6HThiy7LijwAd78Pf/cWzdn2JHX+q1VBuu/9vCPDIxMH/bMEvYnnJR11xR9dAtAt9CPd3MMDbNxAhwcHo2nsQBj3dHU2/lPMRUVlcvVp9hm8nqr5aoettndEcJ5Hw6//06wkSVQPu7u64cMFKX65yEOfwOH36tLpHVHNUWg2q18Ov4u3INsj+ZTmmzNmCc6q8auk1qN57FmHOkXAMfyAQ3rKt79U8ZB5LwoaP3sNGKxWXLo+9iQWR/nA6FosXJ3xSeIClxuGIGtsfXW/2gou6snheZroInv/EvE3pcOn8NKKHdoevh/5g9qlkbF64A34vDEcwjDWoSgnLsr0GVecS+ChGPNUTIS098ofjz7twCmm7N2LZwljzplFEZDPWoBJVBtagUvUka1B793lI3bOP77/7gTWoVCNVYhNfF9xz/134+VtHCaeSMaB+gGGzbD/M6QHVF2lrnsOU/P6nRHQjY0AlqgwMqFQ9MaAS2a6S+6Daj2+HQO2C5NY1RCO3izhXTEuKrPRkpJ0pS0A1IGr2LPT0SMbSYf9ArCqtKTxuDoShmAHGGno0xMXMi+qeFVnpSP6j+l0Snai8GFCJiKgoDKhEtqu2AXX6ii9Q3FU75aBZ+hWIrEvb9AQmLytDQFWDJMFscKSaQ28WrO5YU9KGPbwRj0/6XN0hunEwoBIRUVE4SBKR7aptQLUP2wPq4PFvwiUrF4F3BsI7LwmL/u8dxLF1LxEpDKhERFQUBlQi21XBdVCrqSb+6N5NhNPLB7F2FsMpERERERGRvd3gNahERPbBGlTH5OIih2YnohtRdrbj1CawBvXGweNO+bEGlYiIiIiIiBwCAyoRERERERE5BDbxJSKyAzbxdUymTa0cqbkfEd1Y2MT3xsHjTvmxBpWIiIiIiIgcAgMqEREREREROQQGVCIiIjtoPWIkvt76Lrau6o/eDVVhVWt4BSs+P4O1j9mhN0/7HGxZmYmF4eo+ERFRBWBAJSIisoOHbm8DZznh1R5336UVVS0RTj+Zfxpdml6Be2NVVg6tWl1DI9fzeHDSebzTXhUSERHZGQMqEREVwRWBj47H7AXLsHLlSv22eC6mDguHh5qDCny1+xBy5cSpfdj2P63IPm6/F/P+PQNbP7xfFdjmxSln0b0ZcGiNF+5bWEuVlt2R2AaIiGmC886ZGPB6Fp51lFpiIqpBeNwhBlQiIrLKgIg35iJ6YCgMHk6qTHD1RsADYzBjAtt5Wjq8cAEe7PEiegxYjU0XVaE9NPbBTY3rAnXUfRu0GnQewzteQs7vHnjLDuHU6EisK96KcwM8T2PsS1dVKRGRPfC4QzoGVCIisiIdyX+cQuaJZGxYMAHDBg7EwFEzsSo5U3vUI7gXIrQpcjzXMK13JurBHXEx9RCnSu1l1Qx37DwHuN95AQvZ1JeI7IbHHdLxOqhERHZw41wHtS+iPxmMwPpZSPxgGGZuU8UOSrse3TPPYsOjLfDb0tewyuMpjHzAHy0a1gWuXsGZQ9/i/Ze+xTaTGs/7/vE6Xr0LiJ/+JmZdfRDTR3WDv6zBhJj/gOX8bTB97UiENVJ3pXOJ+EfE59ii7prSl30Gqx9ejYuTn0D/UAMayprRq5dwePtqTHjzV5zR5rwfC7c+CH9tumgH//0iRsxXd4wGncfhJzORs6clAibL9S6Ca0f0Hf4kIsNuQXN3rfcskJuFEwfj8NnM+fjuL73Imi5jMrGi7/mSX4OINLwOanlUw+OOwuuglk3l1KDWaw5nv/vg1uk+1PdujlqstyUiquYycWqPmqwW6uKmR17FmxHt9XAq1amLxm0fxKszwmGtO6VztzH44rX7VTiVip/fdgb0/mIcht6lwqlUpwFa3ztIhGE3VVB2r3WWJ0T1kbyr+ODY7cXXMOqB9gXhVHJ2RfPAvnh5xgsornJ059IGOCT+rXdLDp7Vi4iIKlh1O+5QWVVsVKx3D7yeeQ+Bo19DwN8j0Pq+CLR56jUEjpuFm7oGqpmIiKi6cO0dAt/6YuJYMjZn6WXVRcPGbsg9kYglU97Ewz0mISomUautdL61C0b66fMUcEPIXa3hfO4Q1r0j538Rf/+nmr9NBzyqzyQcwuSIF9FD9j3tsQDx51RxseqioQjJuanf492nJ6HHw29i7u4LWrl/h076LPgWI7Rlitv0RGgVtoe+Vq9TcCtUe4qrCGwuh2qqj4Nr9JIiXb2As8mb8fH0MRjUuzd6934MI97bjCPy6S07ol+IPptVF51x6Jj4t1Ee7vDVi4iIKkJ1Pu5Q2VRsQG3bGc0ufI3k99bjrCrS1G4A97AH4aru2kuf1z7FihVfYPFLxXeidun8NKbO/VibV7t9OAvj+pXUkIqI6AbnPxjRjwfCNS8NGz5cAvs2Vqt4F39bi/FPfI7l2y+IwHcFh9d+jtVJl8QjzeDfU5/H1MXf1mPCkAWY+7WcHzjzZTyStYTqVM4aVLUuw9Zj059XxJ0LWLfyFxyXD9QxGRikTK7C21P8c64ODuoFRfruraEY9NL7WLPtd3WMzsKRb97HrqNy2g2ucjlFqoUj52TN6xW436KXEBHZXTU/7lDZVHxjW5/70fqp+wsPDW3vV3bpj7AAJ2SeyYRLu26wcq6hcen2MmaP7wl/17NI+i4Wsd8lId3ZgNAnxmFit4I240REZMK/L6In9IWvUyYSF0/D8pLSjwM6/tsO/KamjTal6j0+rY2Qe/y375FoNhrvIbz+d1lzGYMFqqRsLiD5vxbrslsPweVXimElXMPx5OsL8fl/NmHTpoJb5M3q8RKcPMe+p0RUgWrAcYfKpmICqqsP6jQSt8OrsO/j93F0zfvYv2gu0k+oxyuAYWBn+DulYce/0pDtEoCuj1kLm8EYGhkMj7yDWPvSS5i58BMsXfgOXpwRi/Q8DwQ/NkLMQUREplwDh2LGq4MR6CZPEiZh5nc1p41VE+cbNWR1w6uLXsXAsFbwbKCKSqlRg2tqiojIvmrycYdKZveAWvfO1xA4ahLaD7e8jYWhuZrJqPnTuPmleQia8Da82rqrwrIwoGegATicjDXfxWLvGSf4duiLQhH17p4I8QIyd6/FavWjuebgJ4hLyQMa+6JrB1VGRETweGAiZr/SE751MrDjowmY+Y0+3H/N4IZHOjQT/17CxQy9pPqriwzZD7bR1eJHAI7ohc6yCW/uEWyea+yDqt/W/KHPUrzr8PeSI1fXxal4vYSIyB5q9nGHbGHngHoHPO9oDpsuCX7pHK6oSdR2R7P7+qOeultqnfojtGUeDorgmY0kETYz4eTfGQNaqccVQzuDCK15SD+YpEoKbDwsW7V7wVBkFeogTFf9Wy37sH5m1oe1J15bLMo/e9PqtZoMQ2eJ53yKqVZreImIHIUrAgdOxexhIfDIS0PsjMmIqea/YDds3Aa33qTXmDa8qT1Gvj8Gj94k7pzbj03/1ood05lsyCGU0CYcs4cY0FgrLEodJB+TfUMvwz9SL7HKsyG0sXsvn8HvySe0Pqie/r3wzOsL0au1fKAEDfPQqqn495wTfrVP22QiuuHVvOMOlY19A2qjm+FiQ1Oh61fO49SWtcjxboL82V1vhqs82JVB+H2B2o68d6N+raGkbQeRCQOCHzUfKdjXQw7LlImMX/X7ZtIyRbgFPLw66/eLUi8c0aO6w+tMImI3xyJ250FkuZr2YY3Fhl8yASdfhBQ6OQhERLAByE7B9n/xukhE5MgiMOTRAH0wu/q+6Bm9GCtXrjS/fTQRxQ9J51ha9BiJeZ/MwNat7+LLT4ahfwcZ9S4gfuEqq9cstcmoMdry9Ju6HmqjELyaXzYGI/U5y253An7Tusi4ISRqHP6dv+x3sXCUNoeZT/fIY9FldLonFxa/0xbY8jN+l6P1unfEqIX/0vqefv7+C4gMawVXK/1xLbWKvIxAkXBP/dwAH6kyIqLyqXnHHSob+wbUBi5m40xcP5uEPz5+CXtnjTa7Jb/3Ck6eCIRXqJ95bWuZugL1RPd2LshLS8YGY+bbE4vkU4B3u55mfUr9msiDdhayj+j3rXGuY3I9OCtcAgOQ+elzeO6ND7D0k0+wNOZ1PDftO2TAA8GRUSKCioC8JgHpcIJvcH/zZsadeiJQNjH+ZaOIsUREVGWuXsGZ1AQsGf8PTP46vz2Pg0rHP95ajW2pZ5B7VRUV48hnrtgpm/m2z8ZrRV3M9PDHmPLRZhw5K1OqknUC+76Zj/nbShow4ire6Sub3Llj5+cVM5QFERHduGr5+weUYsi/EjTqj9bD74HxMuNnNo/Dybxn0PrBQLiUGD5P4+ii15Fp0zXkTES+ic8e80XamucwxaRWMnDM+3itiyuSlzyDt77RywbP+AJ9Wqdh4+OvYLleVODul7F4lIizez7AsFk7VKEp2cS3D3xPfIcXxy0qNMx1xNRP0d8/A7HDXsLSbBfxWh+jT8uDWDvydaxWqxX+0scY3eksYl8W8xQTkomo+snJkf3xyNG4uLgAzzyLDY+2wsF/W7tuaM3UatB5bHkyE/XSmuHpEfUQp8rtYcCks3inezbO72iODlNtqG4lIhgMBqSn2/ciKQEBAUhJSVH3yFFoxx0lO5stJsvCvj99nktBVn5T8fO4nNERje+zJZwKl47Ibqml5IL+wb5wyktDokWT2eR1ycgQjweE9VElwNmLeeK/TnAyq9Y0d/Fy8R2xs0+kWL0GU8YFuWxPeN8u72Vjze6DyHPyR8jfjC+m1/TicBJWMZwSEVEFOvK5G9al1AN8/8LcN68U3dS3lFr1zMJr3S+IA6on5jKcEhFRBbBz25wknN6SjMv5I883gZONw9ef/+lr5Khpm7Xqj1B/J5E5/dFfDViUf3unG7zFLE4BoeivMuKpbJmeRYgM1e+baeWhDaB0Lj1ZFRThmgyiRclClsq32f/agRSRmWUzX4Ms6N0ZAS7GgZyIiIgqUi28PLkJdp4F3O88jU9GlL+xVKvwy1gx5jTccz2w6k0X9j0lIqIKYffOI9cPfIhDs2Vf01dwxrIby4kfkLJoBvZZ3ua/hD9/PKpmsp3hwRAR/vKQ/mOsPmCR5e3XU1p4DR2oRUQk7E8Xc7ugpb9+31Sfm2VZBlJ36feL4tLE17xfqcaAwJaiNC8T6fkDMKnBkloGomcrF/S/MwBOHByJiIgqy8W6ePyZZtj5lxMy0m0aX79YR87UQs4lD/z3NXe8vE8VEhER2Zl9+6AW0gstX+pXaEj83L9O41rjJsj+ZjSO/aIKSy0Y4z54GaEuyVge9Q9sVKVmWj2Nd9/pCcOxWLw44ROka5eAeRqBEM8ZI55jzIr+Yr7onvBOW4eRU1YXUcOp+qDiFOLemoxFyQVzufR+FTFDAuF0cLV4/rqC53cahw9f6ozc775Ddrdu8PjxHTz3fuFL3BBR9cc+qI7JtC8QEd1YHKn/H/ug3jh43Cm/Ch5+7wqQ39zX6CiOf/oWTpa+wtTcA30QJJJv3u9J1sOpdGQ1kg6Lf1uGon8nWRCLpVvSkOcSiMH/nIWJI55G1IhX8f4rIsQiDbHLjOHUgMH/+BQrls/HuLu1gnx5mU7oOnkupo8Rz336aQx/5X0sEOHURV6vaZlJOJX2rEbCMcA7PFwsMR0JaxhOiYiIiIiIilLBAfUH/BV/ArlmIdUHrce9B4NbMjIPqKIy6NnZT+szmrKnyHgqqMGK4IGg+/SrJqV/8QqmfZGE9DoGBHfriZ7dAtHwTBJWz3wLyw9qsxQr74/VmLkhFS7B4rm9eqL7rR7IOrILy6e9YuX56Vj1oxwsyQlOx5IRy8GRiIiIiIiIilTBTXyV2u6o43Yz6t3SCrXOHsDlY6m4mlPcYEOOSG/i613kZWisc3nsTSyILHwZHCKqWdjEl4iIisImvkS2q+AaVOXaeVw9l4TsPeuRlZpSDcNpWRkw4E5/Do5ERERERERkg8oJqDeqTv0R2hLI/GUjYlURERERERERWceAWgEGj38Tw+XgS2M6w+NCElZ/xMGRiIiIiIiISsKAWhGa+KN7t0B4Xz6ItbPeQRxb9xIREREREZWocgZJIiKq4ThIEhERFYWDJBHZjjWoRERERERE5BAYUImIiIiIiMghMKASERERERGRQ6gVFnY3+6ASEZXT8eOH1RQREZE59kElsh1rUImIiIiIiMghMKASERERERGRQ2BAJSIiIiIiIofAgEpEREREREQOgQGViIiIiIiIHAIDKhERERERETkEBlQiIiIiIiJyCJUTUJ2boo7Pnah/651watIUtRiLiYiIiIiIyEKtsLC7r6tp+3O+A26PPICGDeuah9Jrl3H557U4s+eQKiAiqt6OHz+spoiIiMwZDAakp6ere/YREBCAlJQUdY+o5qjYuky/DnDL2objn8YhWxVpatdH/Y53o566ay/3vTALH3zwHt4d2UmVlKCBP/q9+DY+mPyIKiAiIiIiIqKqUvGNbZvdhcaP3oUG6m4+e79yg94I8auL85kX0KDNnbhXFVvnhsCHhmPqP0bhQb9Ca0ZERERERERVoGICaoPmqN1Q3NK/wol/LUNm7DKcXCX+/Us9XgGaP3Ib/JzSsWvDUVxq4IfOfYsInncPx/SYqRjVtz3cz5/GJVVMREREREREVcvuAbV2x+fQ4oln0XyA5W0IPJqqmYyaRqDpsGi0jBoHN7+GqrAsmuGegGbA0YP46n/bcCCzLnzadS9cayt5u8P94kkkfTkfk9/4FRWYmYmIiIiIiKgU7BxQg+Aa1BS11L1iXb6Iq2oStRvC7a6HUFfdLbUOvRHS7ApSf43FJezDzj8uwMnvNvRrqR439Z938fzkGfho88FS1p4+gkmqf2uDjn/Di1Pf1vq7yts/p0/Cs/f7qvm6Yuy7ovyfL+BBVWKq+cBJ4jmz8GJRNbxEREREREQ3KPsG1Iat4FRfTRfj+tWLuPDjN7jSxANOqgwNfFDPU02XUudwf7jnHcWBLXrkTE5IxXk0Q1Avf+2+XdW7Ay88dSeaZO7D999tx/c/peFSg2YIjhiKUXfJ0LkdW/ZdAJx8EPSQ/pQC/njw1mbApVTs2sDGxURERERERKbsG1Dr1zdb4PXz+/HXv2bh2OJpZrfjn7yHC6fawO02H/Pa1jrq31LpirvaNEDe0YP41pj5ft2OA6eBJm26IlAV2UuDAF+c/9cUTJ6zDKv/9R+sXvo+Jr//I05rAy/9HW3FPMlf/YwTqAufwN7mzYw7dEXbJsD5fXH4XhURERERERGRzr4B9fJlXFOTUvYva3HFKwJNn45GS9nX1PT22ENwc1czaq7Iy6OW3kO34+YGV3B0f5xJk92D+F+qSKge/rjvblVkL6d+xpr/WdR+pq7CztQrIhEb0FEm0mObkHxUVqL6436ThKrV9OIkEr/ap0qIiIiIiIjIyL4B9WIqcvOz20VcOd0Orne2gbMtNaOXTyDvopq2WQP0C/SBU95R7LVoMntg80GcFo/f3KmbKrGPSxmHcUJNmzp9MU/81x1NO8h7l/DVr2nIc/JFYG9jQtVrenF0H9YfU0VERERERESUz74BFfuR9b9DyMuvRvVAbRv6pEqX927DFTVts5a9EexXFxBBsJ8asCj/9uqdaCJmcfLriH5m7WzL6VqumrAmG9nn9alLG3bjD5GZWwX2RnNZ0OM2raZXH8iJiIiIiIiILNk5oALXU1fg1FLZ1/Q9ZFlew+Wvn3By1Uc4YXn7YhbO/GytXrJ4zbu1F+HvCk7s2a4PWGR5239aC6/BjzRTzyi/Bp6trFy+phkCmovSvAs4sV8VGQdLauaPe1o2QL9OfnDi4EhERERERERFsntALVbTO9BswLPw6vkYmjz2LNwMJ3DtorhdKkvn0/boF9gEyEnFzsX/0Qcssrz9Z5/WHLd5QFe9FtMefDogMsA8ojbo8TeEeIl8evQ3s8GP8kcT7vEwAv3qcnAkIiIiIiKiYlRwQL0Cs1GTNCdwbt2HuHBS3S2ru7ujrYcIhYd/wxZVVIgarAjNOqKf1jfUVs0QOXEWPoiZimdDVZGSd94ZncdEY1LU39D/sb9h0JjXMP1v/miQl44f/vONefPdXzchUbzPJnfcIQIyB0ciIiIiIiIqTgUH1J9w8ee/cNUspDZH46cmw8P1kLwcaJndG+yDBiIA//Hrd6rEGjVYEdzQNryTKiufK4c34cNvjsIlsCvu7dYVXQIa4dKxX7Dm/XexptD7OYn1e+RgSXXhdPIgfuDgSEREREREREWqFRZ293U1XXFqN0RtFx/UvakFap1PRV7GUVzLLfWQSFXsEUz6oBua/roMLy7Yo8pK1qDvC5j+kA+OfjUF77L/KVGNdfz4YTVFRERkzmAwID09Xd2zj4CAAKSkpKh7RDVH5fRBvXZR/H8/cn+LQ87RtGoYTsuqGfp18uXgSERERERERDao3EGSbjQdeiOkGTg4EhERERERkQ0YUCtA5PAXMGjwKEyNug3uF/dh/RccHImIiIiIiKgkDKgVwdMXXe7yR5OcNHy9YBF2snUvERERERFRiSpnkCQiohqOgyQREVFROEgSke1Yg0pEREREREQOgQGViIiIiIiIHAIDKhERERERETmEWv7+AeyDSkRUTjk5l9UUERGROfZBJbIda1CJiIiIiIjIITCgEhERERERkUNgQCUiIiIiIiKHwIBKREREREREDoEBlYiIiIiIiBwCAyoRERERERE5BAZUIiIiIiIicgiVE1DrNYez331w63Qf6ns3Ry3GYiIiIiIiIrJQy98/4Lqatr9698BrSAS8GzmZh9Jrl3A+/hP8uT1ZFdhf+EsfY3QnIGn+M5i5TRWSDcIxcdHzCD6zEY9P+lyVEVFJcnIuqykiIiJzBoMB6enp6p59BAQEICUlRd0jqjkqti6zbWc0u/A1kt9bj7OqSFO7AdzDHoSruktERERERERU8Y1tfe5H66fuh4e6m4/NfKtYIAa/9j4WTx2k7hMREREREVWtiomJrj6o00jcDq/Cvo/fx9E172P/orlIP6EeJwfgAcNNXnBxVneJiIiIiIiqmN0Dat07X0PgqEloP9zyNhaG5momo+ZP4+aX5iFowtvwauuuComIiIiIiOhGZOdBku6A1+in0ayBulucS0k4+O8rMAy5Ay7yfpa4P/9j5GgPlkLjcESN7Y+ubbzgUkfcv5qJ9G3rEOveH1FWBkny7zcOI3oHw+DhpN3Py0xH4qZFeG/9Qe2+pA+wlIGNw9bC6dUodG/tASex7Oxju7DqH+8h9nJnRJmUIzMNsUvewtJd2foCFI8uT2P8wK7wbeyiz3c1D9ln0rB92cxC8xZryNtY0dtbvJexiLtlIgbd7Q9vudHE8jKPJWHDR+9ho1z9B17F4qGBcDq4Gk9OWac9tYABUbNnoafXQfz0mwF3dNS2upm0TU9g8rKCQZKGLcvCmKF9EdxSnzdPvM+48rzP/PfxIrb7v4zB3XyhfQxXs5G+azXeej8WmfqcVgzC9BV94L3nA4z5zh+ThnSFv5dxvUw/w554bfHTCHQ6iNVPvo612hwFDENn4d0HvHFwzXOY8q9SfAZEJeAgSUREVBQOkkRkuzpNmjR5Q02XX6Ou8LqzNeqpu0W5fuU8/vpmCc65d0HLNp6oJQudXZCTsgWXSpMZXLph4sznEO7jjKyDP+KH3fvx+yln+HW+D3c0F2+uzjWc2PUldvypz+4vAlJ0ZCBcs//Ajz/sxv7fT8C5dSAC7+iKjtdjEbcvT5vvpvCHEdpCrFLwXWh//Rf88NN+nKjdArfc5IugoCbwuvfvuLehCGA7RKjOqIMW/r5od0d7XNv8Hfbri9Bea8bg2+FVJwt//PQDdv/2O/684AofPzFv+D1oczoOO9LUzCXpeB/+7u+K03Vux0Odm+Bkor68E9e84XfzLQgJuQVn4nYg7cAF3NIjHDc1c8a1tWJd1NM1HZ5EVO+bUOu39Yj5n/iCPH0B9X0McD+fjNgfkvD7779j3y/i/Zy4CV37haL5NWd07BGKxkd/xI6kFPx5yR03tTYgoOMtuPztNhwsy/tU7+Oqdzfc738Zu39I0D6DOoZbcJNfMEIa/YjYxAv6vIXchvv/HgDXM864o1compzYrX/eGdfg7euLW4JD1Gvtx3m/+9C1tTecr68Tn6l6uiYQT0X1wU219uPL6VvxuyolsoerV6+oKSIiInPu7u64cKGoc5yyEefwOH36tLpHVHPYN6B6dkaTji2h102KIHo2Camfz0b6li+RsXNT/u3Uj1uQdbUzvB7oiob5ta05uLBXBNSL6q4Nwv/vNTzsJ2v+3sK4uV8jKSkJSQnfYeO2Ogh5MBBN6uQVBNRWg/DSs6FwPxaLaeP+ia/lvEm7sGXLabQRQSzQpwn2f7ULp8SsekD1gHP6aox543PsEvMmbN2NBp27o13rW+CHX7H45Rn4zy75elvwp48KRLkqEKnXanIhCYteeAVLRZCV67Z75zf48tf6uKPrbWjXpgV+3/QjbOqWqwU7L3iLULx4bMHyEr7biL2N70H39regldd+fJ3wK440vxM9/Q1wri0C928FATj48Sj08rmMxM/mIvZ/yeL5Yhv1EUH03C689u4ybXkHtZVRAbWJKzJj38KLH3yjr/u2H5Db/n7cZvBGg7K+T/U+3EV0XjR+KlbL7Sc/g31NcE93X7Rwd83/DArTA6qXtzvSFo/G5E92aq+lfd575fPb4ZbW+mf46zEv3PVAAAzOdbA5Lhn5W6HTYEQ9YMDl3Z9gbjw7RJN9MaASEVFRGFCJbGffPqiXsnFVTUpnEz5FjuxnOm4egmRfU9PbM/3RzFPNqMmTl0cthW7o6u8CnEnCqmUFzXM1Z1YjLtm8KtbwYCh8nfKQ8t0nMJs7+zsk/C7m9TIgRBXpspGyfaP4r1E64n7XG6Bm7PkccSaLT/o5TcznhEaGQO2+8bUObp1nNp/m4OfY8KsobOyP7neqMhtl7DJ/XengR3FabaZ3q85aU+n0lUlIE+vi26Gv3nRaE45egR7AsQSs3qOKSnIhGbFm2zUbG/ekik/JCU7q+kBlfZ/p8RbzH9yBgzKV1neFt15StBMJWP6d5UZYhO/kRvDyRah800dWI+kw4OQbiL4FGwHh9wXCQ3yOCWuSVAkRERERETkS+wbUcynIylLTOI/LGR3RWIQCl7qqqDiXjuDSOTVtEwM83ESsPZ4Ca3Ej95qaUHw9ZKpyQuCQL7BihflteLBMMd4w3K3NqmQg/Ts1qaRf1t9c9mWLPgQqlTesr19MR3+tTBz90TK16XacyBD/9YD3zfp922Tj2EFrfRdOIUt2ffPw1gN29lokirDm5B+MSGM4e6AbAsS2SktaLeKZjTIzEK8m813I02ojvZuHa3fL9j6zcUr+IGAmGZmyyM1DfKrFyz6RYvU9ZIh1Azzhfbu8l401uw8iz8kfIX8zboSe6N5OTB9OwqojqoiIiIiIiByKnUfxTcLpLcm4nB8Om8DJlgGThPM/fV36AZKEvLz8RGyDTBz8Jhaxm63fEtLUbI7KtHrakgjPev1uNlZvSxH/9UXwQD3u9QkLgEveQST+x3qQtOpanliGAxLrVbQsZKlRlrL/tQMp4g34BvfXQ2/vzghwycPB3Wsd830REREREZH9LzNz/cCHODR7NPbOegVnLLv5nfgBKYtmYJ/lbf5L+PPHo2omW2WJcAq4NA+wWuvmUc/YE1aXqdV+uiL3xCdY+om122rE2almLS1TvpYHfO40aV9qIry5bMh6Cum/6vdt4wIPXyvLaxWIlrImOTMdyaoI32zE3jOAIfABGFz6IyzACdn7d2C1nZNZxbzP4rk08TVpumxkQKAcaTgv0+S1YrHhF5FWWwaiZysX9L8zAE7ZKdjOkXuJiIiIiByW3QNqsZrfg4Dhk3BL5LPwe2YSmrU+iqvnxC2rVJ1PlVikHBP/NA/F4G7mkcUlcDh6BpoH1OQdaciEEwK6PQ1/VVZR0r9ORLp4Lf8eo9HdMk35D0LfDqLwlAhLpQxuvp0GI9BseS7o81QovJGHtKRYVSYlIS5FhrMQ9BkUDH+nTOz92vRxE428EaomS6ui3mexWovP23wjwKX30whrLvJpWiI2qzIpadtB8ZkbENx7MEL8nZD5y0ax1xARERERkaOq4IB6BbDoCwocxfFP38LJ0laYFpKN5Rt3iQDiguARc/HuS8MR9fTTGP7SLMRMDkb2EYuasj0LsXqPiKitemLqolmYOOJpbf6oES9j6uz5+HC83q/SLo58goWb0pDnEYzhH8zH1DH6a8l1W/x6H/giDRtjPrDad7ZoecisH47X/vk2Rsv1fno4XnvvQy2s5R2OxbI15u83aU2CCI9e6Hq3oYjBkUS4PCP+EevYf7zcDm9i3BP6IzarkPcpGTD4H59ixfL5GGfWL1hshUwndJ08F9ONr/XK+1gwJBAueWmIXbbOvPnuntVIOAZ4h4eLJXJwJCIiIiIiR1fBAfUH/BV/wmLAIh+0HvceDG7JyDygispq23uYMCdWGwHW0Kkbevbqia43A3tXvYcNha5Vko24Wa9g3jcHkVHHgOBuPbX5e4YHwutqGuK2Jar57OPgslcwbcl3SLvsCv8u+mt17+iJi4e+w9Jpr2C5xcDDJctD2qp3sDbNFSH3y+V1Q2CTLKT/+DmmTfrcfGRi6YgIZ3KwJCcnpCd/Y2VgIRHwF6/DQRH4DJ3F8kSQdS1Nd17F/u+zeHl/rMbMDalwCVavdasHso7swnKrr5WOVT/KwZKc4HQsGbEcHImIiIiIyKHV8vcPuK6mK05td9Rxuxn1bmmFWmcP4PKxVFzNKW6wGzIz5G2s6O2NpPnPYOY2VVYiF/Sf+iEifNOwduTrdu9/WvkGYfqKPvDe8wGGzdqhykrm8tibWBDpi7Q1z2EK+59SBcrJkcNpExERFWYwGJCebvO1FGwSEBCAlJQUdY+o5qicPqjXzuPquSRk71mPrNQUhtN8HvDtEIjAYm6+jdWspdWqP0L9K2ZwpOrDgAF3+nNwJCIiIiKiaqJyB0kiC30w4pVX8VoxtxF91KylFBwZKuJZMYMj3Qg6iZDeEhwciYiIiIiomqicJr5UPjY38R2EcW+4Iis3EF07eCEvaRHGzPyuhlz30/YmvoPHvwmXrFwE3hkI77wkLPq/dxDHClSqYGziS0RERWETXyLbsQa1hvFu2w3dRTjNOrAOM2pMOC2lJv7o3k2E08sHsXYWwykRERERUXXBGlQiIjtgDSoRERWFNahEtmMNKhERERERETkEBlQiIiIiIiJyCAyoRERERERE5BAYUImIiIiIiMghMKASERERERGRQ2BAJSIiIiIiIofAgEpEREREREQOgQGViIiIiIiIHAIDKhERERERETkEBlQiIiIiIiJyCAyoRERERERE5BAYUImIiIiIiMghMKASERERERGRQ2BAJSIiIiIiIofAgEpEREREREQOgQGViIiIiIiIHAIDKhERERERETkEBlQiIiIiIiJyCAyoRERERERE5BAYUImIiIiIiMghMKASERERERGRQ2BAJSIiIiIiIofAgEpEREREREQOgQGViIiIiIiIHAIDKhERERERETkEBlQiIiIiIiJyCAyoRERERERE5BAYUImIiIiIiMghMKASERERERGRQ2BAJSIiIiIiIofAgEpEREREREQOgQGViIiIiIiIHAIDKhERERERETkEBlQiIiIiIiJyCAyoRERERERE5BAYUImIiIiIiMghMKASERERERGRQ2BAJSIiIiIiIofAgEpEREREREQOgQGViIiIiIiIHAIDKhERERERETkEBlQiIiIiIiJyCAyoRERERERE5BAYUImIiIiIiMghMKASERERERGRQ2BAJSIiIiIiIofAgEpEREREREQOgQGViIiIiIiIHAIDKhERERERETkEBlQiIiIiIiJyCAyoRERERERE5BAYUImIiIiIiMghMKASERERERGRQ2BAJSIiIiIiIofAgEpEREREREQOgQGViIiIiIiIHAIDKhERERERETkEBlQiIiIiIiJyCAyoRERERERE5BAYUImIiIiIiMghMKASERERERGRQ2BAJSIiIiIiIofAgEpEREREREQOoZa/f8B1NU1ERGXk42NQU0RERERUVgyoRER24OLSQE0RERERUVkxoBIR2UFOzmU1RURERERlxT6oRERERERE5BAYUImIiIiIiMghMKASERERERGRQ2BAJSIiIiIiIofAgEpEREREREQOgQGViIiIiIiIHAIDKhERERERETkEBlQiIiIiIiJyCAyoRERERERE5BAYUImIiIiIiMghMKASERERERGRQ2BAJSIiIiIiIofAgEpEREREREQOgQGViIiIiIiIHAIDKhERERERETkEBlQiIiIiIiJyCAyoRERERERE5BAYUImIiIiIiMghMKASERERERGRQ2BAJSIiIiIiIodQy98/4LqaJiKiMsrJuaymKltvDJ/cEU3UvXynf8b0RZvUHTHX8MnoWGimyzi85T18kaDumgh7Yhx6tK6v7ukuH96K976IV/d01uYTL46fpy9C/quHPoFx97VG1i/TsWijKjNhfRlC/nswvsei11cXhifG9UDr+pbzWdtGFuvokGxdb30+FLF9tc8eclueVttHPWCF/hk3sX2f0pZrZSv2GY7Jt0FbV7EwK/ueCYvlOgrrfzPC5cPY+t4XMPtLUPt44U1r/Lys/51a/k1pfwvNThZevqS9RjOctPY3UMTrW/ubtUr7vCzXznJfK93+WNzfq7V9pzzfOUXPl2Vl/XRFfb42b7PKFL0K8X191R1r0vBl2ABgVTwetjLbhd1zcf+oz4HHP8C3/3cH3FR5vrQvETbgH+oOMGj+txh7u5jLorwQ43qZzPeqXIcmP2Hu/c9DvKLJa+rrWHhpg/DBt2PRNkWto5lXxVt6GL4XTJZnSi379IYwDJimyqhGYEAlIrKDqg6ormYnVeoE0eTEXzsZczU/sdZP4GA9zBU6Cbdebu0kUD/xMzlxtSmgFn0imf/aYqrYk8f8k3STE2NVBovn9R4+HFhU1OtVPeNJ+GmLbWa9XN8+JQdUi3drEiLNH9GXZ9M+ZUNANXu0uJDlYKz9zUj6/i2imen2LmEft7pNreyb2udbyoCqr4+VMCjnDwd2WltWPuOPOpZBU5Z3ROZ7ellZ9kct+1kL84LlvqO/B4t1EOs/vM3vWGS5D5bju8lUUZ+v4ys60BUKh5asBjoVAk1CZn5ALTJU6rTXk4HYpoAqWA28xQRUGYDvbYILbm7WQygDao3FJr5ERDXOJiz65TTQpC2eCFVFVsR/sROHL9dHszZhqkQ/KdVCSKGTNrHM6VtxGK3RY3hvVWbdpqTDIiK6wqOY1y6L06dPo37rjuJ01LrewSKcXr4sXruAVibej2Wo3eTA4VSGO/2Hg8JhJ/6L9zBdfLZNbhtX7Gdrf7btUzeCTYumY+vhy+X/DBK+wAGxSes3tFKNZ6P8kDXdSuAXy3+v2PClwmmW+HsvFOLi8YUKp2XdH08fFt8D9VujyxPG75ciiCDaVgvYFusg1r8gnNrnu4ms+QcGbEgDfG8TUdXEhTSkXfBF9/mDVIEFEQ67+17AhQvqfrEu4Kfd8jUexqpoVWSDV4N8cSFlKeLkU4PM1o5qOAZUIqKa6NRFs6Bmkz4d9eaxSUVFN3HSmiJDik+RIbEiuV68CHEqjLbWTniNJ7kpJ1WBCVcPcXpbXYgT8QBZPXeg6BrGjT9b/LBQScqyT9VQhX/cqQLGfX5HGWsAtb/30/jZWg14vrLvj674HTtFkK/fuosNQb4+GnqpSWsc/LupRnID/kq5ALfbHzYPrsqrj94Bt7Q4xInNXjI3ND0+AF/KoNl3ldXlFfYqbhMB+MC2z/GPdT/hgmWAphqNAZWIqCbyaihO+bKQWdRJpaYJGtYHss7pp7dhjVyByyfxe3HP2XhUC4k+fdT9QsQJbbisbtlZ9Altmf2On+UJb7NbCgXOsDbNUF+u+ylVoGxKl1VU1almRf9MTqcXFxri8ftJ69uhQtm0T90o4pGZJXat8nwGfYbrzVqLDYhFy9/ny/h59DbI4HnUoubUUvn2R2OQbx1czN9fwu8QTy+2Rto+301UlEEtxL5w4S+I/Gjm2Kg4UeaL2wrVesrwCKTtLarxr3X/GPCltrwia2VNDJrfHb4XDmDnCnFnxU4cKK42l2ocBlQioppG9j27rQkuH/652JPP3sP1fls/q2Z7TbS0mlmG2pgm6Dh5MiZrtx5ojcPYadGktmSmy9Bvw62caMZ/cQCnReDsaPZYb3SU/eBSrNQkbVykNUFEk47aMseV1NywqoV6wBWXcdEiaFc5G/epG8npi4Xrk5vcZr4PT7b4YaR+6x4Fj4ntefqXsjc1L/vfqxQGD5n5LpZQ/VXu/TEeX+w4jMvi78/a37NONifeqgfZ++S2GV6oFrR877UY8scr089rcmU3na8AbndgbHw84vNv3+KDx9Vj1jz+AaJud0Pa99b6rf4DX+6+AN97P4BpNNTD40/4stT9PvXmxG63RxW/TuLVugS44ULKTrVOn2OnrM0N6GK2HlRzMaASEdUAZie+arAWy36XlidjPunTrfTnKgs5uIlYlrptPdlMvE5pT/TMlyFv1geb2YSjMm8aCk5hw55oaxa0C5EhVa6X1txQbqcacBJaCWzap8iMHCzIdB+2HEBKDvJV8PjPgAy0dq3dlwMGFfyNWwt7lS7hC62pb5PbilsXGVL1bSJrQbUfqyqj1YMcWMn087LWl7e6kSPehoUhLP92P56XtZAmfPuaBNhhwFIxX1GDDH2+7QAuuLVFl/xA+SoeLjLQ2mCabOrrhjuGmYdeM493QVs3vXmvUeH1oJqMAZWIqAYwP/EtItyZnIz9LEOexQmjViNkh/6acuCUn0+X0KyvHLRBmPIH6wnDLc3q4/LJ30sM2tqALtp7lzU1DhpSEzKRVVJ/vEpi0z51Ayt/rd4mLNpiui+XjvW/VzlgkPrMZMuBEpQ4QJOd9ket5YMMniWGTrX+2nbpmB9S7fXdRLq0DSq8/vMnEfruQFRxTWdXPI84GSgfVT1Ao2+DL9LwSzlGzdX6lBbzulr/VvG/O/7PJEhrIwGbrAfVaAyoREQ3oE2LZJM68xPG+HNapzrcUtzJch8fcZp5GkdLCCsVekKp9VlTAVgN9HKgFDV7+nuv4gFuinQactOZ1hAXZnsop4rSGz6yC2exfTNtUI4AaNPfa5H0fqMlDypkr/3ROAp0cU19TcgRiLX59fWz53cTmRDh834bmtz+Y68c3ai7mGcQPrjXFxd2f1nkpWdsIl536W45AJO119X7t8prtxbUAuu3ueI5hUYbphqJAZWI6IZkpW+YGo2z6JrP3hhuYz/ECuszpikYsXO4oab1izS+t6Jr1cKe6GIRygs3ey5gpyBlhTYAVREBx7YBeKovy/7bZWbRxzP+0ElcLiKIFRoUqcS/1+IZazWtjoqdryz7YxE2LspvueGjimxmx+8msmBLk9tpX+KnC25o++jDaOuWhjjL65WWweejlmrLvGPYw2iqyjRaDa15814jrZmv1UGbqKZhQCUiulGp6zAWNPWV/cB+xmnZtG7cExa1n+pi+FauKWpJXiC/o7z8RZGXhLAD7YS1CZqI1zl5qOj16T28cFNem0+oq4o4kd96GNqAMZa1TXLb6tekNB9cR2/23NFiECh17Uh7BClr1GfQ0WJfqZTPv8rofTy10XfL3X9bLOs+eZ1ek0u4aH+Tsgm6RX9N7VqklgOBmfy9Wulrqo18Wyy9iTFkX+NCf+9y31HLLMP+WJRNi/Q+pk1MWxbLAbgKNf21DJz2+W4i60pqcisHKXr++zS4+frCLe2X8tWe5hPLXCxf1xe+bqpIkNc+hXH0XkvaaL68JuqNoJa/f8B1NU1ERGWUk3NZTVU2/eTM9fDWYk/O8i/oX+ikWp3cyf6pJo9p81t0T5MDwFj2Q9RPUOure0ZywCOTE1Z5AipPxNXdAiLEbHkPv7extgwhf52sv0fttRseMB+IRnutZjgplitP+q29j4LlOjhr2624dbc2vzhptxyoJ58IPZNvg/lnpbFtn9LJINNDBH51V2Px+Zuy+HwcmdV9R7D2d1DSPv5Fgvo7U6VGsp+vtW1c+LWNy1F3LVj/OyxiXQux9hkKlvuOzftjCfuPtt+JN2dcfhHbrqh1L993k6DWuUkRn2+xfzMOYRA++HYs2qbMxf0WNZmvrorHwyLfFZL2JcIGiFj5+Af49v/uwOkNhQdFGjT/W4yVgx+Jx75sIadP48uwASZh9FWsiu+Ov/5pPuiS9ppQyzfeb/IT5t6vBlEq5jUl4+vKJr33b+uizQs5XVQtbfQqxPdtgp/kekBftkm+VS7oj1sLuVQtMKASEdlB1QVUIiIiopqDTXyJiIiIiIjIITCgEhERERERkUNgQCUiIiIiIiKHwIBKREREREREDoEBlYiIiIiIiBwCAyoRERERERE5BAZUIiIiIiIicggMqEREREREROQQGFCJiIiIiIjIITCgEhERERERkUNgQCUiIiIiIiKHUMvfP+C6miYiojLKybmspoiIiMonPj5eTVF5hYWFqSmqLhhQiYjsgAGViIiIqPzYxJeIiIiIiIgcAgMqEREREREROQQGVCIiIiIiInIIDKhERERERETkEBhQiYiIiIiIyCEwoBIREREREZFDYEAlIiIiIiIih8CASkRERERERA6BAZWIiIiIiIgcAgMqEREREREROQQGVCIiIiIiInIIDKhERERERETkEBhQiYiIiIiIyCEwoBIREREREZFDYEAlIiIiIiIih8CASkRERERERA6BAZWIiIiIiIgcAgMqEREREREROQQGVCIiIiIiInIIDKhERERERETkEBhQiYiIiIiIyCEwoBIREVGNZoiajZVr1mDN4ono7qIKqVjcZkRUVRhQiYjIcQVPxGJxkrxsak9VUBZRmC1PtJdFI1yVUDUlQtMa8VnOjlL3bdQzyA/OcsIzCF1DtKLKYZf9t2pU2TYjx/G2F/bt88fGt9V9okrCgEpEVBXqOuN60N24+veXcXXoTFyNmoFrf3sR19uGaY+Vijppt7ytXLYA00dYiWQugYiYOBeLV64smF/OO7onAstUUxKO6GXmr63dVi7G3Kmj0bNsC9UlzUTCUcA1oDsGsxanRguMmi72ydKHT1vE7k1Frpw4uxfbE7WiylGN998q22YOpCL3yar20NtNEZ90c40Nn4OnG49vy1Dc70PhI6Zjgcnxa+XiuZjYN0A9SlWFAZWIqJJdb+SFa4+MxbWwfkCjpkCtWuLbuDaue3jjWte/4VrfUbju6qHmLjtnV2+07TUBK03PrgwRmL5wGoaE+cDT2SQIy3l7jMSkCXasY3T2hE9QD4ycFoOp5TjgL0s4gFzntug+JliVUE3k4SP3SXXHztKXTsDAyEhEDpuJuGxVWEmq6/5bldvMUdi6Twb0nYoFCyaiZ/m/tiuNl6E+3OvVUfdqGJfBCPRzRm5qKjLgioCufdUD5vpOXYYJvdrC21UVCM6ePggbOhWzoxhSqxIDKhFRZarviuvdn9DCaFGuN2mJa90GiiNlA1Vim9T14mRSnlCK2+AxkxCzORVZotzZr5842OrVN+FDI9FWHIxzMxKxbMaY/PmHjo/B+r1HcVarMimjrETMVsuTt0kx67E3Qy7QE0GDRyDKoM9WWtnLNyBZvBHPoEhUv4aSdKPj/lvzGQIN8PYOw8iY6RjMXFPlXAaEoK1zLlLiliH1rDgGBoTCMqK69J2KAUEymZ7F3mVT9eOWCKbL9oonwBl+vaIQwVY7VaaWv3/AdTVNRERllJNzWU0V71rQPbgeZv3XXDPXr6N2/HrUSt6uCoohm/j289MC6oSlqkzpHr0MY0JcRXacjSHTdohZ10DManXespNNfCcgBCKgDpmGHapU49Id0TFjEOIJZGyPxsg5yeoBXfCIuZjUy0euEAYWs0IGMV9ML28cWDMUk5cXX50jm2wN6eoHb1eLqg8ZoC3WT5+34Bf03LOpiFsyDQt3ZOoF4dFYNiEEGesnITEgGpFauk/F+inRSIuIwZgw8cZyM7A9ZiTmGBcsm1CPGYG+IQW1L7lZR5G8ZiGmrTV//6VV4vrKPo9TwuCZtRcLhkxBrF6az2XwdCyJbAuxITFw8nJVasNyNbIvbz/4ic8qMjoBERNGIFK8R+0p4v0lrpqHaRtSSrcOKSHavls8sb0jJ0DbO/L39cFYkjkBIyJD4KOvADL2bsbIKQXvSbwrfb9U70ljZR/QaMv1RuLsMdgaFI2h3f3UZ5eLswc2YM605Ug23e3kZyzff6B4/9Zq2Cxex9b91yWwJ4YOjkSYn3f+cnOzMpC6fRkmLyy01ug5ejoiw0w+N/E5pGxejinLE/QCE7bNW4ptJtm6HWzdvmX5exNs2n9tXQe1jxXPZJ9UQkfPxfgePnCW67dwPOaUt9pZ9v+McMO+T//AKq8meL5rI3i5yxrPKzj/x0nMeTYbq46Ju4+64YfpzeGVcwqzgzPxsfbkAi1fb4otA8V223cE7feL5UWUVM2bibXtT+EVOamtgwf+WHsQ8843woSBTWGoJ+u2cnEq6SReefwyLI9QkxY1Q0RoQ7hr811Dzvks/Lw2A0/NuKbPIGnLrYeE6UexqWNTjL+vkZpfvLd9J/DG6Ev4Sr63MtKOc4YDWDZwMjLEMXBCiBP2LhmIKRvUDIJ+LMzF0c1TMHah+N7KF4yJi6cgzDMXB5YNxOS1qthW2v5jEM8dirXeYj/L3y/FfpYah4XRC5Egd40yflffKFiDSkRUWZzq4XrrW9WdEtSqheut2gN1nVRB2bg66c/Pzc3T/k3JlHWqgF/XqYgoT99QW2XHYUlihjbp7dtV+7dAOPp1FSd0YsrZrysmFtMCMn1ZAg7kOqNt15Hi9KFoUbNXqiZb1s6WzUVMt9a8yw+9JizAbIvqXu+w8egrT5YlZz90HT0DI+TJsnbfG6F9I/RpLZAbm1DrRZKzqw9CxIn64ujuqqT0bFpf1ecRrmIdrVTXRQbKgW+ykBJXcMJTmu2gcfLBRPkejeFUku9v6HiMlx9O/joEwFrLugEhbQutQ2l5d43BtCHGcCq5wjsoEgu0FSgrVwSMjBHbwhhcJGd4to0s1PQ9alq0/v5L3s00tu2/4ZgwaSR6tC0Ip5Kxqf6C0eZVcxHTV2JkD4vPTXwOQZEDYNllsjTzlkbptoPt29fmvzehdPuv7etQWgnzxmLKkr04K9av65iFmG6XqtQ6MET44I3ejVU4lerC/WYDJs+rr99ddwG70kX4q+eB+8brRaZGhzYS/81F0ibbfkS1pmlXA+Y85a3CqeQMr2AD3l5k3kT40/hb8NTd7ipsSrVRz90NoU/5If7TuqrMqAE6Pn+TeG+eJvOL99ZevN/plvOWgksUgvzEO05NhsyWO7amiG8bZwSEmn4Z9YWf3DVyUxFnGk49ghERPRRB2q7mDJ+gsu4T4rl9YzDJbL8U+5lfL4yPVvtuJXxPVmcMqERElcW5Pmq5NVZ3bODhJU46yhYiXQyh6Dt6NgYEybOws0jZrNeS7Ji9BPGyBZNnEIZMW47Fc6MR1d1KCLGj9MR0cZgVPL3FKbipHdgqwqtsBJybuh0zk/RSq7KXIy5FLMU7BJFFtJOUvzj38hPvN/cotsaMz29qPGbSVsjzAFMuEdMxQJ4Anz2A9TEFTZ1j1h8QW8sZfj1GmDXHdPX2Rt7eJRgak6i9F08fvdZ3kli2jN/O3gEIFf+GTxiq1RbLgWXym1CL4Baz9aj2Pj1DBmB8oJgopdKsr9bnUZ6IW571iBO3kLZi+4h1W6N+ri/tdtD4hGi1CxmJyzB1qJh/cDQ2p8p3542AHvqb09dBnBSGD9bu5zOMQIisnMpI1Ndh6YT815ydqP94YtpUXb+Z11RJrp5iI8ttPHWoNs9UtX29A3tpn4NuhwixxmXMhlp8sVxd5bYovFxX364Fy+05FT3kfpaVis1qmw0eM0M1DRRPj5+NSMsaRxv2Xyk36ywObF2CGeP115c3477jHdQXBbtOFLrKzzL3ANaYzDtea1Zv+UZLM28ptlkZtoNN21ew9e+tLPtvietQxn1SStkwBWNmiO+bXFe0jZyKuaNN31XZuLs3QM6pDKycfAjt2x/Ekx+dwnlRXq+9B2I66/PM3nZO/NcJwV1VaDXq7IrQm8Wp/qnTWCWrVl85pS1D3qYnXNJmkbWjxjL9pmpPTbh7iePQ+b/EOujzTN4k16A2vDo2xAB9Fjz5qQ9C3cVrafPp69o+4hBmf3sBOWJe91AvxDykZlbqudcT63bKYrni9dq55i+3tFwGBEF+xaSnrNELdsQjVXyMzgHhKPhZw0v/USXzFLR46hKInuJ4uWzJFLMf3lw9yv4jg/yOMu1KM2ZBotgnxXq07YXR6pBr8/fkDYgBlYiohvDrVzAS4fKYSRjaw08caEWQ2L68IPxlx2HmMHHitfkA5Lmppwgb/cbEYM2yuZg6uPwnU6W1Y85IbSCW4pr3GsUu3C6Cpghe3S0O5orxF+e9S8ZiXlyaKpUnKlnQ648L9AqVNYlnER8zGUvj0lUpELd0MtbuFaerrgaEmG6O3FRsXbgBmXFHtRNkceaA7QuXIkUsWzuFdXZGAvqiV6A8tcnA1plTsDZBLTczDXHzxmL5XjmnCHFl+EGgNOubvSYZMi+an5AVnLhlJC6HcXco9XaQcjMQv2AkRk5biyTZgjI7GQv36s91VYN7ZS+Pg8xjzn6BZqPXGiJC4CP2yQPbF+SvQ5mcjUfMGLGNtRUAkubFae9Zfg7laXOQm7G95OUaXLUT2LMioC9U2yw7PQFr5yRoP4R4ivBkTUn7rwyHM0cOw+R5G5CQVtA0NW5eIrRXEcGqoHFmOrLk7uTsg5BeBbE1LW4ppoycYhGeSjNvKZRhO9i0fSUb/t7k/GXZf21ehzLKTpiHsVPW4ECWM3x6TMLiqTZ06ShGzr4jGH3POby5Tu+Rt2tOJlYlyW80V9ys/sCPvfkXknLERPuGeL2lXiZ1ftINBlzFvi0XsU6VlYkIyNMjzop10O+um3AS+/RJiIipeaijHDPhAr6dIOdTvQf3X8fHY07gsyS5gRuife9aermSc+o4pg/MLHa5pTVES3ap2LvK2MQ6FgnaF6IfQk2/ECXxh+ExYjoWL5mGkdrxUu4fIlQu26vvZ+WQJZvmjpyWfxxIjxXTcp8UxwA/9atJhX9PVmMMqERElSVHHDAzT6k7NpDzyueUSS7OHk3E+tkiSMyJU2UFdiycjJFDIjEmZj0Sj4ojpNbcT5xMlaMJapHkL9X2kL4QCQdy4dy2KyxaOwrh8NHGncpAaom/OIciwFuulCfCxImkMdQbb0O1WmdPeJvWdKbvxdKC819x/hOPeabdljTqV/mMFMQVegzYkKqfart6+mr/2q6U62usrbM4IdNP3I4ica3xjZRhO0h56dgeWxCgNKrWSfZz1sVijaxJc26L0CHGQB6MwSHiQ8oS26eEfsQlSd1uObJsBrItf4Uog/T4OSUvNzNX/HWJLRMyAFGh+nuTLRaiJnYVJ5XiLy+riL/xYvdfnUvoYETPXYyVZp9FP+2HBXOxmLEkXkQzV/j1miDmWYnFc6didF9rDYhLM28plGE72LR9JRv+3naUcf+1eR3KJRN5cuPYQfr+wv08Vx6TtZ/mp/CrtI6NjXD3hIIQ+GxHN3EMOYNNb6qCMvpj+zl8ZtEn9IJe2ZlPVobi1EVssjJswpxUfYO75TdT1qVvv1jickvFMAKBcuc7moKlJp/xhoQUsa86w88yofr10pqHy+beuWcPYPPsoXqozCj/DpGRUrhp7tZ0/RhQoGK/J6szBlQiospyJQ+1juzTBkAqkZhHm1c8x1bmzdAGYtjYaVhqNshNYelxSzFt7BAMVc2PPEOGIrp8XbEKCQ711X6ZRsZR82aPZbBcJL8seCNscBHtJHNzxalhSZxkZUkFykX5hkKyVPr1jV2zV3ye8oRM1dapE7fcAwlYmH/iX7HbIWm5XpPmE6hqkIJ7IUBrmbtGnJZVY2snI07rO9YW/SbFaGFItljoJ5ua5qZi83KTkVgsFLv/hk9EzKRIhPh42vSbTnbcTAwbHI0FmxORKk6oPX2C0GPoFKxZORuWV8gozbw2K8d2sI+K/jsuG5fQ0Zg7VfZjzMXRrTMwzHRkHjsxOJvXRErrPspEujitN3R0gdby91E3tPMSmTHhQqGBkypM7nX8pSargqFvoPbjCHx6mf1YsWZokPY35ewXqlqVZMpDhS4rFVsXRGPgsMn5g2q5BHlpx6yzGfb9Jvd0KrzD1tjvyXJiQCUiqkS1Du4GTqaqe8UQ82jzVpLM2Gn6gA3isFyObjeFBURhiNYpMxcHElfpZeUROwXxGWItA7qbNYmSJxx6M0ZPGCxa0AZEBcG8aAeOaj9kZ2DrGNNQb34r/SjH6qTHOwAjLNZB6uunX1oo42ii9q/tyrC+agAOY9MxvcmY5YAbFbUdFFVjKPusyn63PSOD4ClOxRKWV/NGayJIhsqwn3UWWfm1ZLnIEp/rsmnRWGql9jxfkfuv2D96hYjtI5Z0dCtiTPqKRkauR5HfGNnJiF04DRNGDtH6Amv9P5390CvKsi2jUJp5bVGe7WAH4RW9/5ZBQN+piJnUAz7OWTiwZgrGzis8mrI9DGwv41Oe7O5ZYFcWtu27Kv7YG+HZh4BnBjSGFy5g10eirBLIFsYwuGGg6hdraryf3Nmv4a/0K3pBBemrVZ8WI79VyVqkaftOLlK3zsG8WPMgOjRELicXGSn2/fz6BshjgPgbMW1cUFO/J8uJAZWIqDLlXkLt71ai1umix9CXj8l55Lz2FY6Jc+ciOqo7An0LerO5GALQPWq6drIpT/bS7XBM1pc5FQum9oMcRwVnE7HBSnMleZkZ2Zxx5WzbxxJdsv0Acs2aREnJasAXb3SdOBrh8u1pIzIuwNR+sp+audgUmca90WPqdER1t08iDxcnPclaZzYf9Jo6FRGq2aNxPQbLa+7lHkBift8o25VlfbUBOMR2ChkQgIggcWJkMjiSUUVsB1PGGsOQyBHo6ueKrL2xJjW45jK1XxjUCNPBJV0Ko+qE95AnkCLsr5mDGdMmqSA0EEPGTsNas2vRWGd9/wW81FC4eZkpiFN9UH27RyF6bo/CTXxFOJy7YDpG9w1F/p+yCKCJCfqAZM7OJtuvNPOWQnm3gz1U9P5bmn0ycMRsTB0qtol2GZwRmLzcPgndrWld3KdCX8vOdfH2GgN6G8Tp+/mz+GqOXm705qYzIii6ouNAV9zX3hk5SacxYZd60MKpHP2yLzff54nXH9Umy+VnGY7hht6zPcTyVA1vuzp4/dMWeDJY7tvnkDBPL64Qxua9GdsRbfIDhfE2eI0+IJGxVcmGxFT9fq9oREeo5u7yu3rqYvSQOTIrGRusXGKm+8TFeq3ssuKveevqGYoAg/4rlIuhO6KmL4a8oppc7maLSvXSfE/eKBhQiYgqWa2sTNTeMB+1t/8HtTIzgGviREHc5LQsk4/JeSqCs6cPQvqNwbQ5S/KbPy2PmYEx/dpqtTdnE1fB4lKltnMNwQSzZQZB6yKWdQBrZs600rzX9svMmDIOLOHT1XyEztg1iSJei2X59MCEJWI9tBEZveF8NhWym62p9IWr1GjGbdFvzIz8bZF/WxYt1q70li/drA+4IkdJVs0e89dD/lq/eSnK0q2oLOtr3E6GkNGQ+fRoQsHgSEYVtR3yxa6BrKhzDemFIFcRZizPzEwkb03RPj9t200p2D/XrJldtkuhyOsR5i9DXdvTZB8t63L10OKKoCHTMG2axTZbuRhzJxY/KE6R++9eecIslhw0Mn95c8b0Q0jBtXRMOMPTuy16DJ2EOXJfN84vApIcGC1VnOAWKMW8pdhm5d0O9lDR+6+t+6QMLdN6+cFZftdNGVn+a6Ca8LrbD/M+88e+ff7Y8pkfItrL0HMJCR+cw2f6LAU+zkTCKcA9tCWC613Cz18V3UXkq03noVXkuTfFwOn68vWbF97W5iidN+ccxx+yGtXLSyyvjb6stTdjYGhD1EMe/lh7Bm+W49qmJdFbiYh8mrLZaheL7DUp2mBjxlYl6Usn6KOPO4tgOGSK/rnK72rtGjNnkbhktpVjVhT6Gi935NoWIcXsXN5dJ2FGzHJtuctjxqBf22KWW4rvyRsFAyoRUVW4kotaB+JR+z/vos7SSdpNTssy+VjF2IGYBeuRmJph0iRPykVWxgGtH86waYUHVCobucxUJK6PQeSQybBemVCKy8yYicVyvZ0kupu2k0yag0kL4k3CaBaOJi5D9Jg1+omYmR2YOSYay+KP4qw9N3fKUkwQJ7LxR89q78tIbt/Ns0diQpnbPZZlffUBOJx9fOCdewAJy6z9JF9B2yFfEpbrbce1Gtz1xXVCFp/fnCXi86uYFbGb5AXiZFLtY7n5HdkUZ0/4hA3FsqlF9JHWWN9/5Qnzkq3mn4P+d7lAaxZsZsc0LFifaLGt9L9jfT8z+axLM28plH872EMF77827pPpyenIyIjHgjFFfdfZSx7O/3ECn44/iqcKpVPdR7su6BOnzmFtEfNo1l3EK5+ewB/n7TRC1PZL6DP6MLb9kY0c6LWzwFWcP3UGm95IQ59XjGUVQ2slIgJg6tYifmHNXoq9sq28sx8CI/W/u6XR0wrtO9rfxYwxmGb1R4al2KD9IiJkHUCizYMqyEEL47EsuqjlluJ78gZRy98/wIbROoiIqDg5OWW/CDqVgctgTF8SibYZmxE5dqEqJEfUPXoZxoQ4IXX9hDKHIUcSNXsl+vnlYe+CMZhiMZpx8Oi5mNTDB85ZiZhteS1UUzVg/7XLdqCive2FfREe2nVK+1hemLQY8nqkk0OdxfNSxfN4il/pZCuEfn7aoIWl6f9c074ny4s1qEREVP0YL6Xi09Xuow6TfchLjsj+XGNkO9GziVhTI066ohCkdaoWXAMK+nQKhoDuCPNTI/CWNGJ1td9/7bQdyG5adq6D11cYRDhtAJw/jVUMp9VCzfyeLD/WoBIR2QFrUMl2UZht9dqW1mUlzja5vmg1oGoQ8uWmYv2UCRU+qmvlCMb4BVPQVbYmLIo2SM5IzKnRyYzbocLZWoOq5suXk4m1o0/hFSvXI6VKYGsNao3+niw/1qASERFRBVD9rirhkiOVJwlzJs3G+kTZb82iX2LuWRzduxmzR94IoYzbwfFc0funTmY4rV5q4vdk+bEGlYjIDliDSkRERFR+rEElIiIiIiIih8CASkRERERERA6BAZWIiIiIiIgcAgMqEREREREROQQGVCIiIiIiInIIDKhERERERETkEHiZGSIiO6jyy8x4hGPExCHo2tYbrlqBvLZaIjYsjMHa5GytxBqX7tFYOCZEf07qekQWe2VxIiIioorFGlQiououfDwWLJiAXvnhVHKGp08YhkRPQ5RBFVlyiUD0CBVOiYiIiBwAAyoRUXWXmIj0rLNI3boEU4dGIjIyEmNituJornjM2Q9hAwL1+SxETRuAts65OLA9EVmqjIiIiKgqMaASEVV32XGYNmwYJszbgKRMvSg9bh5mbs/Qpr0Nodq/pgKiZqOXnzPOJi7EtHhVSERERFTFGFCJiGq4rMw0NaUEjMb4fn5wPhuPJdPiUHQPVSIiIqLKxYBKRFRDRQR5i/9mITU+Ti/QhGPixB7wzj2KzTNnYocqJSIiInIEDKhERDVQ9+jF6CHy6dnEJZgSqwqF7tFDEeaZi9TN87AwRRUSEREROQgGVCKiGiZ09FyMCPFEbup6DJtWUHsqLykzVJYfWIUJS5lOiYiIyPHwOqhERHZQ5ddBVXpGL8ZILZxuxrTohTC9BGp49DJMCLHlojKpWB85AbwiKhEREVU21qASEdUELoEYMXulFk6zDqzBwAnm4ZSIiIioOmANKhGRHVRpDapHT0ycMRRh3vKyMQswbJpJp1NbhEdj2YQQuKauR+QE1psSERFR1WFAJSKyg6oMqLY03U1dH4kisycDKhERETkINvElIiIiIiIih8AaVCIiO3CUQZKIiIiIqjPWoBIREREREZFDYEAlIiIiIiIih8CASkRERERERA6BAZWIiIiIiIgcAgMqEREREREROQQGVCIiIiIiInIIDKhERERERETkEBhQiYiIiIiIyCEwoBIREVGNZoiajZVr1mDN4ono7qIKqVjcZkRUVRhQiYjIcQVPxGJxkrxsak9VUBZRmC1PtJdFI1yVUDUlQtMa8VnOjlL3bdQzyA/OcsIzCF1DtKLKYZf9t2pU2TYjx/G2F/bt88fGt9V9okrCgEpEVBXqOuN60N24+veXcXXoTFyNmoFrf3sR19uGaY+Vijppt7ytXLYA00dYiWQugYiYOBeLV64smF/OO7onAstUUxKO6GXmr63dVi7G3Kmj0bNsC9UlzUTCUcA1oDsGsxanRguMmi72ydKHT1vE7k1Frpw4uxfbE7WiylGN998q22YOpCL3yar20NtNEZ90c40Nn4OnG49vy1Ds70Meweg7erb2Q5KcN5q/YjoEBlQiokp2vZEXrj0yFtfC+gGNmgK1aolv49q47uGNa13/hmt9R+G6q4eau+ycXb3RttcErDQ9uzJEYPrCaRgS5gNPZ5MgLOftMRKTJtjx6OzsCZ+gHhg5LQZT+waowtJblnAAuc5t0X1MsCqhmsjDR+6T6o6dpS+dgIGRkYgcNhNx2aqwklTX/bcqt5mjsHWfDOg7FQsWTETP8n9tVxovQ32416uj7tUwLoMR6OeM3NRUZMAVAV37qgdMeIQjaupcLFsyBUN7+MFTFZNjYEAlIqpM9V1xvfsTWhgtyvUmLXGt20AR8BqoEtukrhcnk/KEUtwGj5mEmM2pyBLlzn79MDtKr74JHxqJtq5AbkYils0Ykz//0PExWL/3KM5qVSZllJWI2Wp58jYpZj32ZsgFeiJo8AhEGfTZSit7+QYkizfiGRSJ6tdQkm503H9rPkOgAd7eYRgZMx2Dy/5bHNmJy4AQtHXORUrcMqSeFcfAgFBYRtTgEUPRL8hHxNdcZCRuxwF5sCSHUcvfP+C6miYiojLKybmspop3LegeXA+z8muupevXUTt+PWolb1cFxZBNfPv5aQF1wlJVpnSPXoYxIa4iO87GkGk7xKxrIGa1Om/ZySa+ExACEVCHTMMOVapx6Y7omDEI8QQytkdj5Jxk9YAueMRcTOrlI1cIA4tZIYOYL6aXNw6sGYrJy4uvzgkfMR1DuvrB29Wi6kMGaIv10+dtK+bV7+eeTUXckmlYuCNTLwiPxrIJIchYPwmJAdGI1NJ9KtZPiUZaRAzGhIk3lpuB7TEjMce4YNmEeswI9A0pqH3JzTqK5DULMW2t+fsvrRLXV/Z5nBIGz6y9WDBkCmL10nwug6djSWRbiA2JgZOXq1IblquRfXn7wU98VpHRCYiYMAKR4j1qTxHvL3HVPEzbkFK6dUgJ0fbd4ontHTkB2t6Rv68PxpLMCRgRGQIffQWQsXczRk4peE/iXen7pXpPGiv7gEZbrjcSZ4/B1qBoDO3upz67XJw9sAFzpi1HsuluJz9j+f4Dxfu3VsNm8Tq27r8ugT0xdHAkwvy885ebm5WB1O3LMHlhobVGz9HTERlm8rmJzyFl83JMWZ6gF5iwbd5SbDPJ1u1g6/Yty9+bYNP+a+s6qH2seCb7pBI6ei7G9/CBs1y/heMxp7zVzrL/Z4Qb9n36B1Z5NcHzXRvBy13WeF7B+T9OYs6z2Vh1TNx91A0/TG8Or5xTmB2ciY+1Jxdo+XpTbBkottu+I2i/XywvoqRq3kysbX8Kr8hJbR088Mfag5h3vhEmDGwKQz1Zt5WLU0kn8crjl2F5hJq0qBkiQhvCXZvvGnLOZ+HntRl4asY1fQZJW249JEw/ik0dm2L8fY3U/OK97TuBN0ZfwlfyvZWRdpwzHMCygZORIY6BE0KcsHfJQEzZoGaQgsdj7khXxMXMxtrkELXfZ4n9YwjEobLstP3HgAPLhmKtt9jP8vdLsZ+lxmFh9EIkyF2jjN/VNwrWoBIRVRanerje+lZ1pwS1auF6q/ZAXSdVUDauTvrzc3PztH9TMvWfif26TkVEefqG2io7DksSM7RJb9+u2r8FwtGvqzihE1POfl0xsZgWkOnLEnAg1xltu45EcQ0lo2avxIRe8oTA2tmyuYjp4sRFm1cVCM6efug1YQFmW1T3eoeNR195siw5+6Hr6BkYIU+WtfveCO0boU9rgdzYhFovkpxdfRAiTtQXR3dXJaVn0/qqPo9wFetopbouMlAOfJOFlLiCE57SbAeNkw8myvdoDKeSfH9Dx2O8/HDy1yEA1lrWDQhpW2gdSsu7awymDTGGU8kV3kGRWKCtQFm5ImBkjNgWxuAiOcOzbWShpu9R06L191/ybqaxbf8Nx4RJI9GjbUE4lYxN9ReMNq+ai5i+EiN7WHxu4nMIihwAyy6TpZm3NEq3HWzfvjb/vQml239tX4fSSpg3FlOW7MVZsX5dxyzEdLtUpdaBIcIHb/RurMKpVBfuNxsweV59/e66C9iVLsJfPQ/cN14vMjU6tJH4by6SNtn2I6o1TbsaMOcpbxVOJWd4BRvw9iLzJsKfxt+Cp+52V2FTqo167m4IfcoP8Z/WVWVGDdDx+ZvEe/M0mV+8t/bi/U63nLcUXKIQ5CfecWoy1oq7O7amiG8bZwSEWnwZJc3B2JHTRDgt5w8JVjnDp28MJpntl2I/8+uF8dFq362E78nqjAGViKiyONdHLbfG6o4NPLzESUfZQqSLIVQb+GFAkDwLO4uUzXotyY7ZSxB/Vkx4BmHItOVYPDcaUd3L2PbWRumJ6eIwK3h6i1NwUzuwVYRX2Qg4N3U7ZibppVZlL0dciliKdwgii2gnKX9x7uUn3m/uUWyNGZ/f1HjMpK2Q5wGmXCKmY4A8AT57AOtjCpo6x6w/ILaWM/x6jDBrjunq7Y28vUswNCZRey+ePnqt7ySxbBm/nb0DECr+DZ8wVKstlgPL5DehFsEtZutR7X16hgzA+EAxUUqlWV+tz6M8Ebc86xEnbiFtxfYR67ZG/Vxf2u2g8QlBmKdsFrcMU4eK+QdHY3OqfHfeCOihvzl9HcRJYfhg7X4+wwiEyMqpjER9HZZOyH/N2Yn6jyemTdX1m3lNleTqKTay3MZTh2rzTFXb1zuwl/Y56HaIEGtcxmyoxRfL1VVui8LLdfXtWrDcnlPRQ+5nWanYrLbZ4DEzsGyv/MMST4+fjUjLGkcb9l8pN+ssDmxdghnj9deXN+O+4x3UFwW7ThS6ys8y9wDWmMw7XmtWb/lGSzNvKbZZGbaDTdtXsPXvrSz7b4nrUMZ9UkrZMAVjZojvm1xXtI2cirmjTd9V2bi7N0DOqQysnHwI7dsfxJMfncJ5UV6vvQdiOuvzzN52TvzXCcFdVWg16uyK0JvFqf6p01glq1ZfOaUtQ96mJ1zSZpG1o8Yy/aZqT024e4nj0Pm/xDro80zeJNegNrw6NsQAfRY8+akPQt3Fa2nz6evaPuIQZn97ATliXvdQL8Q8pGZW6rnXE+t2ymK54vXaueYvt7RcBgRBfsWkp6zRC3bEI1V8jM4B4Sj4WaPiye8o0640YxYkin1SrEfbXhitDrk2f0/egBhQiYhqCL9+BSPoLo+ZpA38oPWv2b68IPxlx2HmMHHitfkA5Lmppwgb/cbEYM2yuZg6uPwnU6W1Y85IbSCW4pr3GsUu3C6Cpghe3S0O5orxF+e9S8ZiXlyaKpUnKlnQ648L9AqVNYlnER8zGUvj0lUpELd0MtbuFaerrgaEmG6O3FRsXbgBmXFHtRNkceaA7QuXIkUsWzuFdXZGAvqiV6A4+RWPbZ05BWsT1HIz0xA3byyW75VzihBXhh8ESrO+2WuSIfOi5QmZ8cQtI3E5jLtDqbeDlJuB+AUjMXLaWiTJFpTZyVi4V3+uqxrcK3t5HGQec/YLNBu91hARAh+xTx7YviB/HcrkbDxixohtrK0AkDQvTnvP8nMoT5uD3IztJS/X4Cr2QrEKIqAvVNssOz0Ba+ckaD+EeIrwZE1J+68MhzNHDsPkeRuQkFbQNDVuXiK0VxHBqqBxZjqy5O7k7IOQXgWxNS1uKaaMnGIRnkozbymUYTvYtH0lG/7e5Pxl2X9tXocyyk6Yh7FT1uBAljN8ekzC4qk2dOkoRs6+Ixh9zzm8uU7vkbdrTiZWJclvNFfcrP7Aj735F5JyxET7hni9pV4mdX7SDQZcxb4tF7FOlZWJCMjTI86KddDvrptwEvv0SYiIqXmooxwz4QK+nSDnU70H91/Hx2NO4LMkuYEbon3vWnq5knPqOKYPzCx2uaU1REt2qdi7ylgzGosE7QvRD6GVmFCzZNNcWUOrjgPpsWJa7pPiGOCnfjWp8O/JaowBlYiosuSIA2bmKXXHBnJe+ZwyycXZo4lYP1sEiTlxqqzAjoWTMXJIJMbErEfiUXGE1Jr7iZOpcjRBLZKz+re80hci4UAunNt2hUVrRyEcPtq4UxlILfEX51AEeMuV8kSYOJHMvyyOug3Vap094W1a05m+F0sLzn/F+U885qWo6XxeelPHjBTEFXoM2JCqn2q7evpq/9qulOtrrK2zOCHTT9yOInGt8Y2UYTtIeenYHlsQoDSq1kn2c9bFYo2sSXNui9AhxkAejMEh4kPKEtunhH7EJUndbjmybAayLX+FKIP0+DklLzczV/x1iS0TMgBRofp7ky0WoiZ2FSeV4i8vq4i/8WL3X51L6GBEz12MlWafRT/thwVzsZixJF5EM1f49Zog5lmJxXOnYnRfaw2ISzNvKZRhO9i0fSUb/t52lHH/tXkdyiUTeXLj2EH6/sL9PFcek7Wf5qfwq7SOjY1w94SCEPhsRzdxDDmDTW+qgjL6Y/s5fGbRJ/SCXtmZT1aG4tRFbLIybMKcVH2Du+U3U9alb79Y4nJLxTACgXLnO5qCpSaf8YaEFLGvOsOvEhNqRkrhprlb0/VjQIGK/Z6szhhQiYgqy5U81DqyTxsAqURiHm1e8RxbmTdDG4hhY6dhqdkgN4Wlxy3FtLFDMFQ1P/IMGWr368AFh/pqNS3IOGre7LEMlovklwVvhA0uop1kbq44NSyJk6wsqUC5KN9QSJZKv76xa/aKz1OekKnaOnXilnsgAQvzT/wrdjskLddr0nwCVQ1ScC8EaC1z14jTsmps7WTEaX3H2qLfpBgtDMkWC/1kU9PcVGxebjoSi7li99/wiYiZFIkQH0+bftPJjpuJYYOjsWBzIlIz8uDpE4QeQ6dgzcrZiLIIwKWZ12bl2A72UdF/x2XjEjoac6cORZBnLo5unYFhZiPz2IfB2bwmUlr3USbSxWm9oaMLtJa/j7qhnZfIjAkXCg2cVGFyr+MvNVkVDH0DtR9H4NPL7MeKNUODtL8pZ7/QSm3ma8nTqfAOW2O/J8uJAZWIqBLVOrgbOJmq7hVDzKPNW0kyY6fpAzaIKOlR1hNWawKiMETrlJmLA4mr/r+9+4tpK7vzAP7N/PFo8EwnHjWutljtuN0xM8LS4ochlWAfoFLQtiAtfkkeYFcmu4IHnIf4AVLJdGtLJZHWPODsyqgLqAVpyUOdlYhagbSwUkEqzINTCTQ1D+PZCrRTZzvQmTGzcebPnnPu9V8M8V/ikO9HsjDXh5tzzz12zs/nn3asEstj2IiLXNo6coZEyR4LbRijCY15I2htLjtyD61jV32RHceKOzuoz32UvsrxgYyPAbMNg3l5kLqt2tZC8d2I+lm8MvKrL8CRGjqmDRnLX3CjVuWg03sM5ZxVOe/2ktMOk2iKbc4/5YPWRCDZKoP9xD4S6V6yJBLivs75vZgt0Huedmz9FfWjyyHKR5xpdwXBrLmiTucijv3EONzG8pQfnqF+NRdYzf80WNHlKtAMLyVtMSophypoq3X9LYOt24fgaCcshgSi4TFcu310NeVquPK2/MrvkZzumfFuAr957wvxZn8N//g3wD9cfh0X8Ane/Zk4dgrkCGM0voor+rzYbNetsrJ/if/d+1w7UCPdqvv0BKc8zDdft03+HyDeI9mDC87q52SFGKASEZ2m5Gd47r8WcO5Px6+hL1+TaWTa6mrDyOQkvK4ONL+Rmc3W0GhDh2tcNTZlY2+vCm0q7Zw+hHw9kOuoYD+CewWGK8ltZuRwxoVA8WuJzqxFkcwZEiVt6wu+mNE+Mow2eXnnW9DrDcHXI+ep5VrekdG4GZ2+cbg6qhORt+EuttVkNgu6fD706sMeU/nos8uepSgi6blRxSsnv2oBDlFOjss29NpFwyhrcaSUWpRDtlSPocM5iHarEYmt5awe3FwH6hsGfYXplsdthfHktHXKBqQI9sMTuOkf1QOhK+i/VtyKoIXrL3BBXwr30cEOVvU5qG90uOCd7Dw6xFcEh5OhcQx3tyL9VhYBaGRTW5DMYMgqv1LSlqDScqiGWtffUupk82AAvgFRJmobnEHcmK9OhP7q11/A9/Wg75vvvICfhhvxg0bRfP94H7+e0I6n/ORXH4lA0Yi/umLE99824OH9P8Hzrv5ingcPtW1fvvN9E378t+ppRX4ng2O8ih8Ezovz6T28bz2PH//8L/B3LbJu/xmbt7XDNZEa3htfgzfrC4rUoy+sLUiUHlVSpo6Raa1Xdu7kPW+NplbYGrVvoRoaO+Aan4bcUQ2JbSzldaqX8jn5rGCASkR0ys4lDvDcvX/Fc2u/xLmDOPClaCiIh3wuj8nXZJpaMJgscPS44Z+YSQ9/mg/ehLunSfXe7EfuIG+r0uIZHfDknNMONUUsEUX41q0Cw3uL32YmW2phCUt77gqdy+GICK/FuSyd8MyIfMyMod9hhmE/BjnNNtve1B19NeMm9Lhvpssi/ZjzityVbn52SVtwRa6SrA97TOdDNI9iS7MoZ1pROflNlVOjYxgyPt3dzCyOlFKrckhbDkN21BkdXbAbRTCT3zLLsr2yo+6fKruxTP0MhwPlbYUi9yNMn0Pf2zOrjpZ7Xi1oMcLe74ffn1dmC9OYHDl5UZxj6+9WTNQQcWb7UPp8E+4eODJ76WQxwGRuQufAKCZkXU+lFwGSXBgtJhq4GSWkLaHMKi2Haqh1/S22Tsqgxd9lhUF+1o0NVb4HapYLf23F7V+8iffeexP/+Qsret+WQc9n2PyXP+MXWpKMfzvA5gPga63fRMtLn+F3vz5+isivf/UxVEfe176OK+Pa+bXHBfxUpSjNTyb+B+/LbtQLF8T5/lI7193v4ErrK3gJj/D+3Y/wkwr2Nn0cbZSIiE93lgpOsTgM76jFxtILEsk9d9P3M7X3rxEOT+pYGEe/N3WhO7XdkbEJjhMql7l9FDeD8+o880E3eprU/7CIzASO/l9Ywufks4IBKhHRk/B5EueiG3jul/+M52dH1UM+l8fka7WxjmBoEZFYPGtInpREIh7FSsiLq/6jCyqVR54zhshiEM7+GyjcmVDCNjM5ljGvjZNER/Y4yfsTGA1tZAWjCexG5uB1h7WGWI513HKLBsrGLvarWdw7s/CIhuzG7r66rhRZvkuBIXjKHvdYTn61BTgMFgvMySg25wp9JV+jcki7j3lt7LjqwV08aRKyuH8TM+L+1SYjVbMdEo1JvY4l1ZjuLAYTLBcHMOc7Zo60Urj+7s16MLOSex+092VIDQvOse5HaDGSV1ba+1irZ1n3upS0Jai8HKqhxvW3yDq5t72HeHwDIfdxn3XV8ggfv/8hfn59F39/JDrV/OzdT7QnD/6Mu8ekUf7jU/zo5x/i/Y+rtELU2mf44fB/4zfvH+IhtN5Z4At8/OAj/OqfPsAPf5Q6VhtqlIgIAGMrx3zDejiLLTlW3mBFszPr/42SzOKe+kZESEQRKXpRBblo4QbmvG74C355UcLn5DPi3Jtv2opYrYOIiE7y8GH5m6BTGRr6MD7jRFN8Cc5rU/pBqkcd3jm4HS8itugpOxiqJ67AAnqsj7AVcmMsbzXjluFJjHZaYEhEEMjfCzXbGai/VSkHOt5PL+C93vNqn9If5m9MegK5H+mNVoP4u5j4OzbxT50chdBjVYsWljL/+ax9TlaKPahERPT0SW2lYmmv+qrDVB1yy5Fe37RodBnl2HGEz0SjywW7mlQtGG2ZOZ1Co60DF636CryPW7H6qa+/VSoHqppvvvM8fvzvjSI4fRn4+E+4w+D0qXA2Pycrxx5UIqIqYA8qFc+FQMG9LQtLRAJZ+4s+BfQehLRkDItjnpqv6no6WnA9NIZ2bUHmwtQiOUOYONORGcuh5ortQdXTpT08wN3hB/hRgf1I6RQU24N6pj8nK8ceVCIiIqoBfd7VKWw5cnruY2I0gMWInPOYNy8xuY/drSUEhp6FoIzlUH8+1+an3mBw+nQ5i5+TlWMPKhFRFbAHlYiIiKhyDFCJiKqAASoREVWD3JqkWHKPT6KzhgEqEVEVMEAlIqJqkAHqnTt39N+Od/nyZQaodCYxQCUiqgIGqEREVA2pAPWkIFUGpwxQ6aziIklERERERERUFxigEhER0ZnW6ApgIRxGeHoEHQ36QToRy4yInhQGqEREVL9aRjAtGslzvkv6gXLIfUdFQ3vOizb9CD2l5N6B4l4GXPrvRbpkt8Ign5jsaHeoQ6ejKvX3yXhiZUZEzzwGqERET8Arr7wCm82Gd955B9/73vfUQz6Xx+RrJdEb7fmPhbkQxgcLhGQNzegdmcT0wkImvUw7fAnNZfWUtME7l/tvq8fCNCZ9w7hU3kk1929hcxcw2jrQx16cM63ZNS7qZOnBZzGWt2JQu3Xub2Etog6djqe4/j6xMqsjtayTRHQ8BqhERKfsG9/4Bt566y28/vrreP755/WjUM/lMfmaTFMpg9GMpi4PFrJbV429GJ/yo/+iBSaD6h/RyLSdQxj1VLGP0WCCxd6JIX8Qvm6bfrB0c5tRJA1N6HC36EfoLDpvkXVS/6XK9mY9uOJ0wnn1FlYP9YOn5Gmtv0+yzOpFsXXS1u1DKDSCS+f1A0RUEQaoRESn6Pz582hsbMQLL7yAL7/8Eg8ePEA0GsV7772nnstj8jWZRqYtRWxRNCZlg1I8+tyjCC7FkBDHDdYeBFxa903bgBNNRiAZj2DupjudfuB6EItbu9hXXSZlSkQQ0M8nH6PBRWzF5QlNsPcNwtWoJSvV4fw9bIsLMdmdePoGStKzjvX37GtsboTZfBFDwXH0lf9dHBHpuM0MEVEVFLvNjOwdlYHnF198gT/84Q/44x//qL+ikT2n3/rWt1Rv6sHBAX7/+9/rr5xADvHtsaoA1TOrH9N1eOfgdhhF7BhAv39dJA1DJC2YtnxyiK8HDogAtd+Pdf2o0tABb9ANhwmIr3kxNLGtv6BpGZzEaJdFZghXTshQo0gX7DIjGh7AjfmTu3PaBsfR326F2ZjX9SED6Lz8aWmbRFrt9+R+DKszfkytH2gH2ryY8zgQXxxFxOaFU0X3MSyOefFBbxDui+LCknGsBYcwkTqxHELtHkS3I9P7kkzsYjs8Bf/d3Osv1WPzK+c8jl2EKbGFUP8YlrWjaQ1945hxNkEUJK7cmNePFnFeRc7l7YFV3CundxO9nkE4xTWqPxHXF7lzG/57O6XlYceh6u7JRHk7PVC1I13X+zBz4MGg0wGLlgHEt5YwNJa5JnFVWr3Ur0kpUAcUdV4zIgE3VuxeDHRY9XuXxH70Hib889jOrnbyHsvrbxbXX6iHLe/fKbb+NjRfwkCfExet5vR5k4k4YmtzuDF1JNe4NDwO58Ws+ybuw87SPMbmN7UDWYpLW0KZScWWQ7HlW877TSiq/habB72OnSyrTupahydxvdMCg8zf1HVMVNDtLKdIcJsZepaxB5WI6JS8+uqraGjQejJl8JkfnErymHxNkmnl31TC+OKL6mcy+Uj93DmQfaqAtd2H3krmhhbrcBUzkbh6an6jXf3MaENPu2jQiWcGaztGThgBuTe3iWjSgKb2IZw0UNIVWICnSzZUC7WWc/WOz+lp9QOCwWRFlyeEQF53r/nidXTLxrJksKJ9+CYGZWNZ/W5Ga3ev9lwF5Kkh1NohyWC0wCEa6tPeDv1I6YrKrz7nEUaRxwLddc5mufBNAjurmUCulHJQXrRgRF5jKjiV5PUNXMd1eXPSebChvVu9muOyo+lIHkplbg/C358KTiUjzHYnQioD5TLCNhQUZZEKXCQDTE3OI0PfXX6vdv2Pr2ZKcfW3DZ7RIXQ2ZYJTKTVUPzSc2zXXO76Aoc68+ybug915GflTJktJW4rSyqH48i36/SaUVn+Lz0OpNm9fw9jMFvZF/trdUxhnVypR2RigEhGdkpdeekkN3/3qq6/w2Wef6UePkq/JNDKt/JtyNDS2ons4gMt22Qrbx86S1kuyHpjBxr54YrKj3z+P6UkvXB1ljr0t0l5kTw01hsksmuDZ1rEiglc5CDgZW8Ot+9rRgg7nsbojzmJ2wHnMOEnZM9dlFdeb3MVK8Hp6qLF7dAUyXsrW0DuOy7IBvB/FYjAz1Dm4GBWlZYC1czBnOKbRbMajrRkMBCPqWkwWrdd3VJxbht8Gsw2t4mebZ0D1FsuFZdJDqEXgFlzZVddpclzG9WbxpESl5FfNeZQN8fzosMEFR5MoH5G3sN6tWWo5KBYHLpqSiEfm4BsQ6fu8WIrJqzPD1qldnJYHA2xtfer3tMZBOGTnVDyi5WHWk/43AxHty5PsoeraI7enSjKaRCHLMvYNqDQ+vXzNzV3qPmjWRRCbOkcA+ulPZDTKsjh6XuMb7ZnzXvKhU9azRAxLepn1uW9ibku+scSfbwTgzO9xLKL+SsnEPqIrM7h5Xfv35SNVd8z2bmSqjgvt8l4mowhnpb2uhtXnX2gpaUsoszLKoajyFYp9v5VTfx+bhzLrpLRzbwzum+LzJmlEk9OHyeHsqyKiYjFAJSI6I6w9mRV054OjGOi0ijBFBBJr85ng73AVt66KhtdSFLJtahLBRo87iPDcJHx9p9+YWp8YUguxnDS8N2V5ak0EmiLw6sgLenSpnrmtmWu4vfqBflQEyCIw0PqPM7paZU/iPjaCNzC7uqcfBVZnb+DulmiuGhvhyC6OZAwrU/dwsLqrGsgiwsLa1Cx2xLlVE9ZgwCa60dUsGr/itZVbY7i7qZ/34AOs3r6G+S2ZUgRxZXwhUEp+D8PbkPGiwdaGTD+TaMxftkOLDeeRqg4ll4OUjGMjNIQh/13cl539h9uY2tL+1mjU5k0fzq9CxmMGa3PO6rWNvQ5YRJ2MroXSeSjL/gaCblHGKgPA/dur6prlfdDGDJQnGV97/HkbjaIWiiyIAH1KL7PDvU3cndhUX4SYRPBUyOPqrwwObw1dxY3b97D5QWZo6urtCNS/IgKrzKz0PSRkdTJY4OjKhK0frM5ibGgsL3gqJW0JyiiHospXKuL9JtOXU3+LzkOZDjdv49pYGNGEAZbOUUz7CgwjIKITMUAlIjolDx8+xOeff45z587h5Zdf1o8eJV+TaWRa+TflSWJ/N4LFgAgkJlb1YxnrUzcw1O+EO7iIyK5o8qnhfqIxVcEQ1GMZ9J+V2pvCZjQJQ1M78kY7Cm2wmOXPOGL5kx6PaIXNLDNlwkXRkExvi6M/BlSvswnm7J7OvS3MZtq/QGwDt3f052kXtKGO8R2sHnkNuBfTmtpG0xvqZ/FKzG+qt85gRWtWhNqvui53EbmbupAyykF6tIe15UwApei9TnKes2YZYdmTZmhCa38qIG9Bn0PcpIQon8fMI36c2Fr+yrJxHOZ/C1GGvY2Jx5/3IKl63GRvuKtVuzY5YsE10i6Cb/HOSzxQx444sf5qGlr74J2cxkLOvehRXyzkWsbNmQ0Rmhlh7fKINAuYnvRhuLvQAOJS0pagjHIoqnylIt5v62XW36LzUJEDPJKFQ0RlYYBKRHRKPvnkExweai0juVBSoa1k5LHU6r0yrfybYuUOQ7uCq9f8mM1Z5OaovdVZ+K/1YyAUEQ1Y2dgcgLeKO81ILa1vqJ4WxHdzhz2WYV5EfgmYcbHvmHGSyaRoGj7Oi7KzpIaSqGwppHyl53c5vCXupwFWEfAojYNoFlFDMrqJqXTDv7blcH9e60mzNOs9SC1dsKmRueEjCyc9Ve7ewKqaY9uEntGgCobkiIUeOdQ0GcPS/D0tXQEn1t+2EQRHnXBYTEV9p3O4egtX+7wILUUQiz+CyWJH58AYwgsBuPIC4FLSFq2CcqiOWr+Py9PQOoxJ3wDspiR2V27i6lity4Ho7GGASkR0ij788EMRQyXVKr3f/va38d3vfhevvfaaesjn8ph8TaaRaU/LwbJfW9hGhJLny22wFmJzoV9NykwiGjl+RcqiLY9hIy5yaevIGToqeyy0YYwmNOaNoLW57Mg9tI5d1ZkZx4o7O6jPfZS+yvGBjI8Bsw2DeXmQuq2qi1fE6RH1s3hl5FdfqCg1xFYbWpu/MFGtykGn9xjKOaty3u0lpx0mEbJuzlc0uPfJE4Fkqwz2E/tIpHvJkkiI+zrn92K2QO952rH1V9SPLocoH3Gm3RUEs+aKOp2LiGlJjjrcxvKUH56hfjUXWM3/NFjR5coe3K0rJW0xKimHKmirdf0tg63bh+BoJyyGBKLhMVy7fXQ1ZSJ6PAaoRESnSK7Qu7e3p4bvPvfcc7hw4QLefvtt9ZDP5TH5mkyTWs23etowMjkJr6sDzW9kZrM1NNrQ4RpXjU3Z2NurQptKO6cPIV8P5Doq2I/gXoFhnXKbGTmccSFQ/FqiM2tRJHOGjkrb+oIvZrSPDKNNXt75FvR6Q/D1yHlquZZ3ZDRuRqdvHK6O6kTkbbiLbTWZzYIunw+9+rDHVD767LJnKYrInaPl8Djl5FctVCTKyXHZhl67CI6zFkdKqUU5ZEv1GDqcg2i3GpHYWs7qwc11oL5h0FeYbsnUz3rT1ikDbRHshydw0z+qB0JX0H/Nj7s5e9EUVrj+Ahf0pXAfHexgVZ+D+kaHC97JzqNDfEVwOBkax3B3K9JvZRGARja1BckMhqzyKyVtCSoth2qodf0tpU42DwbgGxBlorbBGcSN+RpH6ERnGANUIqJTJreSkfubfvTRR2o/1BT5XB6TrxXagqYaDCYLHD1u+Cdm0nO15oM34e5pUr03+5E7yNuqtHhGBzw557RDTRFLRBG+davA8N7it5nJllqAx9Keu0LncjgiwmtxLksnPDMiHzNj6HeYYdiPQU6zzbY3dUdfzbgJPe6b6bJIP+a8Inelm59d0hZckask68Me0/lAErGlWZQz/bKc/KbKqdExDBmf7m5mFkdKqVU5pC2HITvqjI4u2I0imFk6frjj9sqOun+q7MYy9TMcDpS3FYrczzJ9Dn1vz6w6Wu55taDFCHu/H35/XpktTGNy5ORFcY6tv1sxUUPEme1D6fNNuHvgyOylk8UAk7kJnQOjmJB1PZVeBEhyYbTYVvY3ESWkLaHMKi2Haqh1/S22TnaMTMPfZYVBftaNDVW0ByoRMUAlInoiPv30U+zs7ODdd9/Fb3/7W/WQz+Ux+VptrCMYWkQkFs8akiclkYhHsRLy4qr/6IJK5ZHnjCGyGISz/wYKdyaUsM1MjmXMa+Mk0ZE9TvL+BEZDG1nBaAK7kTl43WEcXa5lHbfcXsxt7GI/pywqtDMLj2jIbuzuq+tKkeW7FBiCp+xxj+XkV1uoyGCxwJyMYnOuUNdljcoh7T7mtbHjqgd38aRJyOL+TcyI+1ebjFTNdkgE3Xodk0PxcxhMsFwcwJzvmDnSSuH6uzfrwcxK7n3Q3pchNSw4x7ofocVIXllp72OtnmXd61LSlqDycqiGGtffIuvk3vYe4vENhNzHfdYRUSnOvfmm7Sv9ORERlenhw//Tn9GpaOjD+IwTTfElOK9N6QepHnV45+B2vIjYoqfsYKieuAIL6LE+wlbIjbG81Yxbhicx2mmBIRFBIH8v1GxnoP5WpRyoINlLe+fOHfU4zuXLl9VDDq0mOmvYg0pERE+f1FYqlvaqrzpM1SG3HOn1TYvg1KjmIIfPQHAqwjLY1aRqwWjLzOkUGm0duGjVV+B93IrVT339rVI5EBEVwB5UIqIqYA8qFc+FQMG9LQtLRAJZ+4s+BeQ8xp6sq0vGsDjmqfmqrqejBddDY2jXFmQuTC2SM4SJMx2ZsRxqiT2o9KxjDyoRERHVQBL7uxunsuXI6bmPidEAFiNyzmPevMTkPna3lhAYehaCMpbDaUgFoYUeRGcZe1CJiKqAPahERFQNsge1WOxBpbOIASoRURUwQCUiIiKqHIf4EhERERERUV1ggEpERERERER1gQEqERERERER1QUGqERERERERFQXGKASERERERFRXWCASkRERERERHWBASoRERERERHVBQaoREREREREVBcYoBIREREREVFdYIBKREREREREdYEBKhEREREREdUFBqhERERERERUFxigEhERERERUV1ggEpERERERER1gQEqERERERER1QUGqERERERERFQXGKASERERERFRXWCASkRERERERHWBASoRERERERHVBQaoREREREREVBcYoBIREREREVFdYIBKREREREREdYEBKhEREREREdUFBqhERERERERUFxigEhERERERUV1ggEpERERERER1gQEqERERERER1QUGqERERERERFQXGKASERERERFRXWCASkRERERERHWBASoRERERERHVBQaoREREREREVBcYoBIREREREVFdYIBKREREREREdYEBKhEREREREdUFBqhERERERERUB4D/B/uBiz8lVoP9AAAAAElFTkSuQmCC)"
      ],
      "metadata": {
        "id": "bXMGuK27vAF1"
      }
    },
    {
      "cell_type": "markdown",
      "source": [
        "9. Name the keywords, used as data in the Python script.\n",
        "\n",
        "* Value Keywords: True, False, None    \n",
        "* Operator Keywords: and, or, not, in, is.     \n",
        "* Control Flow Keywords: if, elif, else.     \n",
        "* Iteration Keywords: for, while, break, continue, else.      \n",
        "* Structure Keywords: def, class, with, as, pass, lambda.     \n",
        "* Returning Keywords: return, yield.    \n",
        "* Import Keywords: import, from     "
      ],
      "metadata": {
        "id": "GC6H1_eIvPaq"
      }
    },
    {
      "cell_type": "markdown",
      "source": [
        "10. Write a python script to display the current date and time. First create variables to\n",
        "store date and time, then display date and time in proper format (like: 13-8-2022 and\n",
        "9:00 PM)"
      ],
      "metadata": {
        "id": "xr5IRrITvPSi"
      }
    },
    {
      "cell_type": "code",
      "source": [
        "import datetime\n",
        "\n",
        "date_time=datetime.datetime.now()\n",
        "print(date_time.strftime(\"%m-%d-%Y and %H:%M:%S PM\"))"
      ],
      "metadata": {
        "colab": {
          "base_uri": "https://localhost:8080/"
        },
        "id": "u8WOdHUIu8i0",
        "outputId": "b753e3ca-43ea-4fb4-f248-d13b44239d0b"
      },
      "execution_count": 22,
      "outputs": [
        {
          "output_type": "stream",
          "name": "stdout",
          "text": [
            "09-06-2023 and 09:22:29 PM\n"
          ]
        }
      ]
    }
  ]
}