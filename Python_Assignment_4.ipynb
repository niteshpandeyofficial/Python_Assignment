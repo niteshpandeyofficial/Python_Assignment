{
  "nbformat": 4,
  "nbformat_minor": 0,
  "metadata": {
    "colab": {
      "provenance": []
    },
    "kernelspec": {
      "name": "python3",
      "display_name": "Python 3"
    },
    "language_info": {
      "name": "python"
    }
  },
  "cells": [
    {
      "cell_type": "markdown",
      "source": [
        "1. Write a python script to take your name as input from the user and then print it.\n"
      ],
      "metadata": {
        "id": "cWknfBP5sK2Y"
      }
    },
    {
      "cell_type": "code",
      "source": [
        "input_val=input('Please enter your name:')\n",
        "print(f'Your name is {input_val}')"
      ],
      "metadata": {
        "colab": {
          "base_uri": "https://localhost:8080/"
        },
        "id": "LlCjSKJCscTF",
        "outputId": "8ac34979-6a40-40a4-c586-f34b958da3cb"
      },
      "execution_count": 41,
      "outputs": [
        {
          "output_type": "stream",
          "name": "stdout",
          "text": [
            "Please enter your name:Nitesh\n",
            "Your name is Nitesh\n"
          ]
        }
      ]
    },
    {
      "cell_type": "markdown",
      "source": [
        "2. Write a python script to take input from the user. Input must be a number.\n"
      ],
      "metadata": {
        "id": "LVUoiTkmsKvP"
      }
    },
    {
      "cell_type": "code",
      "source": [
        "input_val=int(input('Please enter the value:'))\n",
        "print(f'Enter value is {input_val}')"
      ],
      "metadata": {
        "colab": {
          "base_uri": "https://localhost:8080/"
        },
        "id": "dpbjMy1nsps9",
        "outputId": "d8871eab-f227-4bdd-9d0f-31ac83a3ac18"
      },
      "execution_count": 43,
      "outputs": [
        {
          "output_type": "stream",
          "name": "stdout",
          "text": [
            "Please enter the value:24\n",
            "Enter value is 24\n"
          ]
        }
      ]
    },
    {
      "cell_type": "markdown",
      "source": [
        "3. Write a python script which takes two numbers from the user, then calculate their sum\n",
        "and display the result.\n"
      ],
      "metadata": {
        "id": "mgjSi26bsKsw"
      }
    },
    {
      "cell_type": "code",
      "source": [
        "first_number=int(input('Enter the first number:'))\n",
        "second_number=int(input('Enter the second number:'))\n",
        "print(f'sum of two number is : {first_number+second_number}')"
      ],
      "metadata": {
        "colab": {
          "base_uri": "https://localhost:8080/"
        },
        "id": "R57HfzBis2zH",
        "outputId": "f283e93d-1ec2-4f03-863e-954dcbf20796"
      },
      "execution_count": 44,
      "outputs": [
        {
          "output_type": "stream",
          "name": "stdout",
          "text": [
            "Enter the first number:3\n",
            "Enter the second number:5\n",
            "sum of two number is : 8\n"
          ]
        }
      ]
    },
    {
      "cell_type": "markdown",
      "source": [
        "4. Write a python script which takes the radius from the user and display area of a circle.\n"
      ],
      "metadata": {
        "id": "FSp-enVOsKqE"
      }
    },
    {
      "cell_type": "code",
      "source": [
        "radius=float(input('Please enter radius of circle:'))\n",
        "pie=3.14\n",
        "area=pie*radius*radius\n",
        "print('Area of circle is',area)"
      ],
      "metadata": {
        "colab": {
          "base_uri": "https://localhost:8080/"
        },
        "id": "nUtZJOX9tMfI",
        "outputId": "f50ad13e-d287-44fc-fa5d-98e075a59f01"
      },
      "execution_count": 46,
      "outputs": [
        {
          "output_type": "stream",
          "name": "stdout",
          "text": [
            "Please enter radius of circle:4\n",
            "Area of circle is 50.24\n"
          ]
        }
      ]
    },
    {
      "cell_type": "markdown",
      "source": [
        "5. Write a python script to calculate the square of a number. Number is entered by the user.\n"
      ],
      "metadata": {
        "id": "SC2DWp8IsKng"
      }
    },
    {
      "cell_type": "code",
      "source": [
        "number=int(input('Please enter the numerical number:'))\n",
        "print(f'Square of {number} is {number*number}')"
      ],
      "metadata": {
        "colab": {
          "base_uri": "https://localhost:8080/"
        },
        "id": "vI6zC_G1t0kg",
        "outputId": "e0d03b86-6595-4c50-eeed-cacc93f1779c"
      },
      "execution_count": 47,
      "outputs": [
        {
          "output_type": "stream",
          "name": "stdout",
          "text": [
            "Please enter the numerical number:5\n",
            "Square of 5 is 25\n"
          ]
        }
      ]
    },
    {
      "cell_type": "markdown",
      "source": [
        "6. Write a python script to calculate the area of Triangle. Number is entered by the user.\n"
      ],
      "metadata": {
        "id": "gl1DHx82sKk_"
      }
    },
    {
      "cell_type": "code",
      "source": [
        "base=float(input('Please enter the base value of triangle:'))\n",
        "height=float(input('Please enter the height value of triangle:'))\n",
        "area=0.5*base*height\n",
        "print('Area of triangle is:',area)"
      ],
      "metadata": {
        "colab": {
          "base_uri": "https://localhost:8080/"
        },
        "id": "oqGeqU6EuEWa",
        "outputId": "df3eab44-5f8c-4949-c822-1713b58a7fad"
      },
      "execution_count": 49,
      "outputs": [
        {
          "output_type": "stream",
          "name": "stdout",
          "text": [
            "Please enter the base value of triangle:3\n",
            "Please enter the height value of triangle:4\n",
            "Area of triangle is: 6.0\n"
          ]
        }
      ]
    },
    {
      "cell_type": "markdown",
      "source": [
        "7. Write a python script to calculate average of three numbers, entered by the user\n"
      ],
      "metadata": {
        "id": "n2mH_G5VsKiN"
      }
    },
    {
      "cell_type": "code",
      "source": [
        "first_number=float(input('Enter first number:'))\n",
        "second_number=float(input('Enter second number:'))\n",
        "third_number=float(input('Enter Third number:'))\n",
        "average_val=(first_number+second_number+third_number)/3\n",
        "\n",
        "print(f'Average of given number is: {average_val}')"
      ],
      "metadata": {
        "colab": {
          "base_uri": "https://localhost:8080/"
        },
        "id": "HpvgLSoGu60b",
        "outputId": "32285616-0a96-42c0-b1d8-e29170f571a1"
      },
      "execution_count": 52,
      "outputs": [
        {
          "output_type": "stream",
          "name": "stdout",
          "text": [
            "Enter first number:4\n",
            "Enter second number:4\n",
            "Enter Third number:4\n",
            "Average of given number is: 4.0\n"
          ]
        }
      ]
    },
    {
      "cell_type": "markdown",
      "source": [
        "8. Write a python script to calculate simple interest\n"
      ],
      "metadata": {
        "id": "UqxTSy7gsKfv"
      }
    },
    {
      "cell_type": "code",
      "source": [
        "principal_amount=float(input('Please enter principal amount:'))\n",
        "interest_rate=float(input('Please enter the rate of interest:'))\n",
        "periods=float(input('Please enter the number of periods:'))\n",
        "\n",
        "res = (principal_amount*interest_rate*periods)/100\n",
        "print(f'simple interest:{round(res,2)}')"
      ],
      "metadata": {
        "colab": {
          "base_uri": "https://localhost:8080/"
        },
        "id": "Sxruc827vbPN",
        "outputId": "6ddb4146-bf68-4ce2-d153-e97e8aa2c0dd"
      },
      "execution_count": 55,
      "outputs": [
        {
          "output_type": "stream",
          "name": "stdout",
          "text": [
            "Please enter principal amount:70000\n",
            "Please enter the rate of interest:10.85\n",
            "Please enter the number of periods:12\n",
            "simple interest:91140.0\n"
          ]
        }
      ]
    },
    {
      "cell_type": "markdown",
      "source": [
        "9. Write a python script to calculate the volume of a cuboid."
      ],
      "metadata": {
        "id": "AsHojUCzsKcf"
      }
    },
    {
      "cell_type": "code",
      "source": [
        "width=float(input('Enter the width:'))\n",
        "height=float(input('Enter the height:'))\n",
        "length=float(input('Enter the length:'))\n",
        "\n",
        "volume=width*height*length\n",
        "print(f'volume of cuboid is :{volume}')"
      ],
      "metadata": {
        "colab": {
          "base_uri": "https://localhost:8080/"
        },
        "id": "mbUVWzYrzJ_M",
        "outputId": "13e3afb9-b3b8-475c-9147-c259f431c0d1"
      },
      "execution_count": 56,
      "outputs": [
        {
          "output_type": "stream",
          "name": "stdout",
          "text": [
            "Enter the width:3\n",
            "Enter the height:4\n",
            "Enter the length:5\n",
            "volume of cuboid is :60.0\n"
          ]
        }
      ]
    },
    {
      "cell_type": "markdown",
      "source": [
        "10. Write a python script to calculate area of a rectangle"
      ],
      "metadata": {
        "id": "9IvS0NDWsKZt"
      }
    },
    {
      "cell_type": "code",
      "source": [
        "length=float(input('Enter length of rectangle:'))\n",
        "width=float(input('Enter width of rectangle:'))\n",
        "\n",
        "area=length*width\n",
        "print('area of rectangle is:',area)"
      ],
      "metadata": {
        "colab": {
          "base_uri": "https://localhost:8080/"
        },
        "id": "twxZyKmfzyPl",
        "outputId": "de570e8f-aaf4-47ab-dbc5-40366a03cd65"
      },
      "execution_count": 57,
      "outputs": [
        {
          "output_type": "stream",
          "name": "stdout",
          "text": [
            "Enter length of rectangle:12\n",
            "Enter width of rectangle:4\n",
            "area of rectangle is: 48.0\n"
          ]
        }
      ]
    },
    {
      "cell_type": "code",
      "source": [],
      "metadata": {
        "id": "x7wDZfNQ0JsM"
      },
      "execution_count": null,
      "outputs": []
    }
  ]
}