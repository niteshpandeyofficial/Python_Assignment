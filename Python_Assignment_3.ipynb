{
  "nbformat": 4,
  "nbformat_minor": 0,
  "metadata": {
    "colab": {
      "provenance": []
    },
    "kernelspec": {
      "name": "python3",
      "display_name": "Python 3"
    },
    "language_info": {
      "name": "python"
    }
  },
  "cells": [
    {
      "cell_type": "markdown",
      "source": [
        "1. Write a python script to convert a number into str type.\n"
      ],
      "metadata": {
        "id": "k8Cl2N4qjRUF"
      }
    },
    {
      "cell_type": "code",
      "source": [
        "n=24\n",
        "print(str(n))"
      ],
      "metadata": {
        "colab": {
          "base_uri": "https://localhost:8080/"
        },
        "id": "fIMjlbWxjlFY",
        "outputId": "1f2aaa85-6af2-4f2e-ea2d-675eec9c87e0"
      },
      "execution_count": 1,
      "outputs": [
        {
          "output_type": "stream",
          "name": "stdout",
          "text": [
            "24\n"
          ]
        }
      ]
    },
    {
      "cell_type": "markdown",
      "source": [
        "2. Write a python script to print Unicode of the character ‘m’\n"
      ],
      "metadata": {
        "id": "VgYwyZNnjVgV"
      }
    },
    {
      "cell_type": "code",
      "source": [
        "char='m'\n",
        "print(ord(char))"
      ],
      "metadata": {
        "colab": {
          "base_uri": "https://localhost:8080/"
        },
        "id": "mmA33GQxjrB0",
        "outputId": "a2dfe3f7-2611-4108-e50d-801b2b86c786"
      },
      "execution_count": 4,
      "outputs": [
        {
          "output_type": "stream",
          "name": "stdout",
          "text": [
            "109\n"
          ]
        }
      ]
    },
    {
      "cell_type": "markdown",
      "source": [
        "3. Write a python script to print character representation of a given unicode 100.\n"
      ],
      "metadata": {
        "id": "y7dSRCsajVd2"
      }
    },
    {
      "cell_type": "code",
      "source": [
        "value=100\n",
        "print(chr(100))"
      ],
      "metadata": {
        "colab": {
          "base_uri": "https://localhost:8080/"
        },
        "id": "PzooyLObjzst",
        "outputId": "0f88f066-38b7-45fa-bc0d-66433ac121d5"
      },
      "execution_count": 5,
      "outputs": [
        {
          "output_type": "stream",
          "name": "stdout",
          "text": [
            "d\n"
          ]
        }
      ]
    },
    {
      "cell_type": "markdown",
      "source": [
        "4. Write a python script to print any number and its binary equivalent\n"
      ],
      "metadata": {
        "id": "7Z8_v-IYjVbG"
      }
    },
    {
      "cell_type": "code",
      "source": [
        "a=10\n",
        "print(f'Binary value of {a} is {bin(a)}')"
      ],
      "metadata": {
        "colab": {
          "base_uri": "https://localhost:8080/"
        },
        "id": "wAs_qtZhj4UG",
        "outputId": "90f1902d-592f-4662-9ec6-f7735e8713b9"
      },
      "execution_count": 6,
      "outputs": [
        {
          "output_type": "stream",
          "name": "stdout",
          "text": [
            "Binary value of 10 is 0b1010\n"
          ]
        }
      ]
    },
    {
      "cell_type": "markdown",
      "source": [
        "5. Write a python script to print any number and its octal equivalent.\n"
      ],
      "metadata": {
        "id": "2m65ishljVYp"
      }
    },
    {
      "cell_type": "code",
      "source": [
        "a=10\n",
        "print(f'Octal value of {a} is {oct(a)}')"
      ],
      "metadata": {
        "colab": {
          "base_uri": "https://localhost:8080/"
        },
        "id": "RqOhw-G-kBh8",
        "outputId": "cf0098d9-1a55-4828-9d33-563d8618bbb5"
      },
      "execution_count": 8,
      "outputs": [
        {
          "output_type": "stream",
          "name": "stdout",
          "text": [
            "Octal value of 10 is 0o12\n"
          ]
        }
      ]
    },
    {
      "cell_type": "markdown",
      "source": [
        "6. Write a python script to print any number and its hexadecimal equivalent.\n"
      ],
      "metadata": {
        "id": "vLxVuJm8jVWD"
      }
    },
    {
      "cell_type": "code",
      "source": [
        "a=17\n",
        "print(f'Hexadecimal value of {a} is {hex(a)}')"
      ],
      "metadata": {
        "colab": {
          "base_uri": "https://localhost:8080/"
        },
        "id": "vFxacC0wkY1K",
        "outputId": "c04234ce-4948-4e94-aac4-2e002fb17940"
      },
      "execution_count": 10,
      "outputs": [
        {
          "output_type": "stream",
          "name": "stdout",
          "text": [
            "Hexadecimal value of 17 is 0x11\n"
          ]
        }
      ]
    },
    {
      "cell_type": "markdown",
      "source": [
        "7. Write a python script to store binary number 1100101 in a variable and print it in\n",
        "decimal format.\n"
      ],
      "metadata": {
        "id": "IqbdFGeqjVTT"
      }
    },
    {
      "cell_type": "code",
      "source": [
        "binary_value=b'1100101'\n",
        "print(f'Decimal value of {binary_value} is {int(binary_value, 2)}')"
      ],
      "metadata": {
        "colab": {
          "base_uri": "https://localhost:8080/"
        },
        "id": "ffbDdGJjkj5_",
        "outputId": "0b7ae065-ae12-4793-f9f9-30362524e36c"
      },
      "execution_count": 17,
      "outputs": [
        {
          "output_type": "stream",
          "name": "stdout",
          "text": [
            "Decimal value of b'1100101' is 101\n"
          ]
        }
      ]
    },
    {
      "cell_type": "markdown",
      "source": [
        "8. Write a python script to store a hexadecimal number 2F in a variable and print it in\n",
        "octal format.\n"
      ],
      "metadata": {
        "id": "yWyrQs9wjVQ0"
      }
    },
    {
      "cell_type": "code",
      "source": [
        "hex_val=0x2F\n",
        "print(f'Octal value is {oct(hex_val)}')"
      ],
      "metadata": {
        "colab": {
          "base_uri": "https://localhost:8080/"
        },
        "id": "t3_UsawmlZO4",
        "outputId": "4a04e57e-071c-4bbd-c2f0-e60a03a1e2be"
      },
      "execution_count": 23,
      "outputs": [
        {
          "output_type": "stream",
          "name": "stdout",
          "text": [
            "Octal value is 0o57\n"
          ]
        }
      ]
    },
    {
      "cell_type": "markdown",
      "source": [
        "9. Write a python script to store an octal number 125 in a variable and print it in binary\n",
        "format.\n"
      ],
      "metadata": {
        "id": "SaNkrkwAjVOD"
      }
    },
    {
      "cell_type": "code",
      "source": [
        "val=125\n",
        "print(bin(val))"
      ],
      "metadata": {
        "colab": {
          "base_uri": "https://localhost:8080/"
        },
        "id": "0atqXnqvmTfH",
        "outputId": "6d51d1e8-8003-4d53-e1c7-a070ebfabc3d"
      },
      "execution_count": 29,
      "outputs": [
        {
          "output_type": "stream",
          "name": "stdout",
          "text": [
            "0b1111101\n"
          ]
        }
      ]
    },
    {
      "cell_type": "markdown",
      "source": [
        "10. Write a python script to add two numbers 25 (in octal) and 39 (in hexadecimal) and\n",
        "display the result in binary format."
      ],
      "metadata": {
        "id": "XmoEp2tpjVLV"
      }
    },
    {
      "cell_type": "code",
      "execution_count": 39,
      "metadata": {
        "colab": {
          "base_uri": "https://localhost:8080/"
        },
        "id": "IDIMbe4Uiipr",
        "outputId": "cdff7b45-b88f-4ec7-a403-cfd1ac7c251b"
      },
      "outputs": [
        {
          "output_type": "stream",
          "name": "stdout",
          "text": [
            "0b1001110\n"
          ]
        }
      ],
      "source": [
        "octal_num = 25\n",
        "decimal_value = int(str(octal_num), 8)\n",
        "\n",
        "hex_num=39\n",
        "decimal_value2=int(str(hex_num),16)\n",
        "\n",
        "res=decimal_value+decimal_value2\n",
        "print(bin(res))"
      ]
    },
    {
      "cell_type": "code",
      "source": [],
      "metadata": {
        "id": "xVbyIw5UnE5V"
      },
      "execution_count": null,
      "outputs": []
    }
  ]
}