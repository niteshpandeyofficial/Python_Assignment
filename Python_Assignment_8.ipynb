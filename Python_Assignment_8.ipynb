{
  "nbformat": 4,
  "nbformat_minor": 0,
  "metadata": {
    "colab": {
      "provenance": []
    },
    "kernelspec": {
      "name": "python3",
      "display_name": "Python 3"
    },
    "language_info": {
      "name": "python"
    }
  },
  "cells": [
    {
      "cell_type": "markdown",
      "source": [
        "1. Write a python script to print MySirG 5 times on the screen\n"
      ],
      "metadata": {
        "id": "CxBQc1heTjVs"
      }
    },
    {
      "cell_type": "code",
      "source": [
        "n=0\n",
        "while n<5:\n",
        "  print('MySirG')\n",
        "  n+=1\n"
      ],
      "metadata": {
        "colab": {
          "base_uri": "https://localhost:8080/"
        },
        "id": "Ip84NalITy_j",
        "outputId": "0ff35bd8-6fb6-4fef-8398-f654db39416c"
      },
      "execution_count": 12,
      "outputs": [
        {
          "output_type": "stream",
          "name": "stdout",
          "text": [
            "MySirG\n",
            "MySirG\n",
            "MySirG\n",
            "MySirG\n",
            "MySirG\n"
          ]
        }
      ]
    },
    {
      "cell_type": "markdown",
      "source": [
        "2. Write a python script to print first 10 natural numbers\n"
      ],
      "metadata": {
        "id": "JjKnLHawTlb5"
      }
    },
    {
      "cell_type": "code",
      "source": [
        "n=1\n",
        "while n<11:\n",
        "  print(n,end=' ')\n",
        "  n+=1"
      ],
      "metadata": {
        "colab": {
          "base_uri": "https://localhost:8080/"
        },
        "id": "Ds-p_DIBT9FN",
        "outputId": "713cbb39-7ee4-4859-b4de-d11a6edb15a6"
      },
      "execution_count": 18,
      "outputs": [
        {
          "output_type": "stream",
          "name": "stdout",
          "text": [
            "1 2 3 4 5 6 7 8 9 10 "
          ]
        }
      ]
    },
    {
      "cell_type": "markdown",
      "source": [
        "3. Write a python script to print first 10 natural numbers in reverse order\n"
      ],
      "metadata": {
        "id": "yb28QtfiTm6C"
      }
    },
    {
      "cell_type": "code",
      "source": [
        "n=10\n",
        "while n>0:\n",
        "  print(n,end=' ')\n",
        "  n-=1"
      ],
      "metadata": {
        "colab": {
          "base_uri": "https://localhost:8080/"
        },
        "id": "B61n_Xb0UL3v",
        "outputId": "8aa44509-6e3d-4d13-ca06-f41687c9d72f"
      },
      "execution_count": 17,
      "outputs": [
        {
          "output_type": "stream",
          "name": "stdout",
          "text": [
            "10 9 8 7 6 5 4 3 2 1 "
          ]
        }
      ]
    },
    {
      "cell_type": "markdown",
      "source": [
        "4. Write a python script to print first 10 odd natural numbers\n"
      ],
      "metadata": {
        "id": "InSqMVyoTotl"
      }
    },
    {
      "cell_type": "code",
      "source": [
        "n=1\n",
        "while n<20:\n",
        "  print(n,end=' ')\n",
        "  n=n+2\n",
        "\n"
      ],
      "metadata": {
        "colab": {
          "base_uri": "https://localhost:8080/"
        },
        "id": "pP0JOk5qUqtd",
        "outputId": "b3e073b0-3346-4164-c327-186bcbc1570c"
      },
      "execution_count": 23,
      "outputs": [
        {
          "output_type": "stream",
          "name": "stdout",
          "text": [
            "1 3 5 7 9 11 13 15 17 19 "
          ]
        }
      ]
    },
    {
      "cell_type": "markdown",
      "source": [
        "5. Write a python script to print first 10 odd natural numbers in reverse order\n"
      ],
      "metadata": {
        "id": "oRFsD9P3TqR0"
      }
    },
    {
      "cell_type": "code",
      "source": [
        "n=19\n",
        "while n>0:\n",
        "  print(n,end=' ')\n",
        "  n=n-2"
      ],
      "metadata": {
        "colab": {
          "base_uri": "https://localhost:8080/"
        },
        "id": "Yud7ZIV6V552",
        "outputId": "e9536032-35c3-40ca-88d2-69d057bbc601"
      },
      "execution_count": 25,
      "outputs": [
        {
          "output_type": "stream",
          "name": "stdout",
          "text": [
            "19 17 15 13 11 9 7 5 3 1 "
          ]
        }
      ]
    },
    {
      "cell_type": "markdown",
      "source": [
        "6. Write a python script to print first 10 even natural numbers\n"
      ],
      "metadata": {
        "id": "owqKe2oKTrpe"
      }
    },
    {
      "cell_type": "code",
      "source": [
        "n=2\n",
        "while n<21:\n",
        "  print(n,end=' ')\n",
        "  n=n+2"
      ],
      "metadata": {
        "colab": {
          "base_uri": "https://localhost:8080/"
        },
        "id": "krjMUOllWEFA",
        "outputId": "ef250a46-ecea-4b5d-daeb-c513dc6a5f64"
      },
      "execution_count": 31,
      "outputs": [
        {
          "output_type": "stream",
          "name": "stdout",
          "text": [
            "2 4 6 8 10 12 14 16 18 20 "
          ]
        }
      ]
    },
    {
      "cell_type": "markdown",
      "source": [
        "7. Write a python script to print first 10 even natural numbers in reverse order\n"
      ],
      "metadata": {
        "id": "AY8cWkx1TtHo"
      }
    },
    {
      "cell_type": "code",
      "source": [
        "n=20\n",
        "while n>0:\n",
        "  print(n,end=' ')\n",
        "  n=n-2"
      ],
      "metadata": {
        "colab": {
          "base_uri": "https://localhost:8080/"
        },
        "id": "8uLew3PTWgZB",
        "outputId": "7f7b4b45-8b47-422d-d684-750937875407"
      },
      "execution_count": 33,
      "outputs": [
        {
          "output_type": "stream",
          "name": "stdout",
          "text": [
            "20 18 16 14 12 10 8 6 4 2 "
          ]
        }
      ]
    },
    {
      "cell_type": "markdown",
      "source": [
        "8. Write a python script to print squares of first 10 natural numbers\n"
      ],
      "metadata": {
        "id": "XFVa10GxTu7I"
      }
    },
    {
      "cell_type": "code",
      "source": [
        " n=1\n",
        " while n<11:\n",
        "  print(n**2,end=' ')\n",
        "  n=n+1"
      ],
      "metadata": {
        "colab": {
          "base_uri": "https://localhost:8080/"
        },
        "id": "eYnS3DhSW12q",
        "outputId": "3a7fb7a6-58a7-49c7-af55-54d5a6f4206e"
      },
      "execution_count": 34,
      "outputs": [
        {
          "output_type": "stream",
          "name": "stdout",
          "text": [
            "1 4 9 16 25 36 49 64 81 100 "
          ]
        }
      ]
    },
    {
      "cell_type": "markdown",
      "source": [
        "9. Write a python script to print cubes of first 10 natural numbers\n"
      ],
      "metadata": {
        "id": "lQzKzbhDTwSj"
      }
    },
    {
      "cell_type": "code",
      "source": [
        "n=1\n",
        "while n<11:\n",
        "  print(pow(n,3),end=' ')\n",
        "  n=n+1"
      ],
      "metadata": {
        "colab": {
          "base_uri": "https://localhost:8080/"
        },
        "id": "EqgU4K6hW2Yk",
        "outputId": "b5802eb1-dbc6-4dcb-bf3c-49572507ead2"
      },
      "execution_count": 35,
      "outputs": [
        {
          "output_type": "stream",
          "name": "stdout",
          "text": [
            "1 8 27 64 125 216 343 512 729 1000 "
          ]
        }
      ]
    },
    {
      "cell_type": "markdown",
      "source": [
        "10. Write a python script to print first 10 multiples of 5"
      ],
      "metadata": {
        "id": "oLwd8l1GTxwr"
      }
    },
    {
      "cell_type": "code",
      "source": [
        "n=1\n",
        "while n<=10:\n",
        "  print(n*5,end=' ')\n",
        "  n+=1"
      ],
      "metadata": {
        "colab": {
          "base_uri": "https://localhost:8080/"
        },
        "id": "zOGeTKGVTk8s",
        "outputId": "2d799e35-53fe-4c79-bc48-b8db95fca169"
      },
      "execution_count": 37,
      "outputs": [
        {
          "output_type": "stream",
          "name": "stdout",
          "text": [
            "5 10 15 20 25 30 35 40 45 50 "
          ]
        }
      ]
    },
    {
      "cell_type": "code",
      "source": [],
      "metadata": {
        "id": "0yYg5LqWYc_c"
      },
      "execution_count": null,
      "outputs": []
    }
  ]
}