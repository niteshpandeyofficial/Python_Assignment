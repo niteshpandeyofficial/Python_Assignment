{
  "nbformat": 4,
  "nbformat_minor": 0,
  "metadata": {
    "colab": {
      "provenance": []
    },
    "kernelspec": {
      "name": "python3",
      "display_name": "Python 3"
    },
    "language_info": {
      "name": "python"
    }
  },
  "cells": [
    {
      "cell_type": "markdown",
      "source": [
        "1. Write a python script to remove the last digit from a given number. (for example, if\n",
        "user enters 2534 then your output should be 253)\n"
      ],
      "metadata": {
        "id": "V75L0R0F6TRB"
      }
    },
    {
      "cell_type": "code",
      "source": [
        "val=input('Please enter the number:')\n",
        "print(f\"output is {val[:-1]}\")"
      ],
      "metadata": {
        "colab": {
          "base_uri": "https://localhost:8080/"
        },
        "id": "lg41OxS06wW1",
        "outputId": "0a1fd904-5878-46f8-c785-5c692b84395a"
      },
      "execution_count": null,
      "outputs": [
        {
          "output_type": "stream",
          "name": "stdout",
          "text": [
            "Please enter the number:2534\n",
            "output is 253\n"
          ]
        }
      ]
    },
    {
      "cell_type": "markdown",
      "source": [
        "2. Write a python script to get the last digit from a given number. (for example, if user\n",
        "enters 2089 then your output should be 9)\n"
      ],
      "metadata": {
        "id": "QU2ckKmY6WZU"
      }
    },
    {
      "cell_type": "code",
      "source": [
        "val=input('Please enter the number:')\n",
        "print(f\"output is {val[-1]}\")"
      ],
      "metadata": {
        "colab": {
          "base_uri": "https://localhost:8080/"
        },
        "id": "aIRdAypr7U3J",
        "outputId": "1519c111-b55d-4a81-960b-d261c411cc7d"
      },
      "execution_count": null,
      "outputs": [
        {
          "output_type": "stream",
          "name": "stdout",
          "text": [
            "Please enter the number:2089\n",
            "output is 9\n"
          ]
        }
      ]
    },
    {
      "cell_type": "markdown",
      "source": [
        "3. Write a python script to swap data of two variables\n"
      ],
      "metadata": {
        "id": "mTZ3kEz16YZ3"
      }
    },
    {
      "cell_type": "code",
      "source": [
        "var1=input('Enter first value:')\n",
        "var2=input('Enter second value:')\n",
        "print(f'old value of var1 is {var1}')\n",
        "print(f'old value of var2 is {var2}')\n",
        "var1,var2=var2,var1\n",
        "print(f'new value of var1 is {var1}')\n",
        "print(f'new value of var2 is {var2}')\n"
      ],
      "metadata": {
        "colab": {
          "base_uri": "https://localhost:8080/"
        },
        "id": "wnEEIBSP7awo",
        "outputId": "2e24f821-02e5-49f5-8e3e-cb4eede0f040"
      },
      "execution_count": null,
      "outputs": [
        {
          "output_type": "stream",
          "name": "stdout",
          "text": [
            "Enter first value:4\n",
            "Enter second value:7\n",
            "old value of var1 is 4\n",
            "old value of var2 is 7\n",
            "new value of var1 is 7\n",
            "new value of var2 is 4\n"
          ]
        }
      ]
    },
    {
      "cell_type": "markdown",
      "source": [
        "4. Write a python script to find x power y, where values of x and y are given by user\n"
      ],
      "metadata": {
        "id": "bgpcQcc-6aNL"
      }
    },
    {
      "cell_type": "code",
      "source": [
        "x=float(input('Enter the value:'))\n",
        "y=float(input('Enter the power value:'))\n",
        "print(f\"result is {x**y}\")"
      ],
      "metadata": {
        "colab": {
          "base_uri": "https://localhost:8080/"
        },
        "id": "iTTVO-Ug780K",
        "outputId": "a0470eb5-147f-4ed8-f2ab-bc814f8571ec"
      },
      "execution_count": null,
      "outputs": [
        {
          "output_type": "stream",
          "name": "stdout",
          "text": [
            "Enter the value:2\n",
            "Enter the power value:3\n",
            "result is 8.0\n"
          ]
        }
      ]
    },
    {
      "cell_type": "markdown",
      "source": [
        "5. Write a python script which takes a three digit number from the user and displays\n",
        "only its first digit.\n"
      ],
      "metadata": {
        "id": "bDSuH4H76b18"
      }
    },
    {
      "cell_type": "code",
      "source": [
        "a=input('Enter the number:')\n",
        "print(int(a[0]))"
      ],
      "metadata": {
        "colab": {
          "base_uri": "https://localhost:8080/"
        },
        "id": "J84JZpn0qJ7C",
        "outputId": "12d1ceb0-2b0e-4265-f50a-864bb6b8e84e"
      },
      "execution_count": 3,
      "outputs": [
        {
          "output_type": "stream",
          "name": "stdout",
          "text": [
            "Enter the number:2345\n",
            "2\n"
          ]
        }
      ]
    },
    {
      "cell_type": "markdown",
      "source": [
        "6. Write a python script which takes a three digit number from the user and displays\n",
        "only its middle digit.\n"
      ],
      "metadata": {
        "id": "ZA0E4yZs6dW9"
      }
    },
    {
      "cell_type": "code",
      "source": [
        "a=input('Enter the number:')\n",
        "print(int(a[1]))"
      ],
      "metadata": {
        "colab": {
          "base_uri": "https://localhost:8080/"
        },
        "id": "EFh6d-HaqKfF",
        "outputId": "ca17bced-8760-4d85-99fa-e5838f594b80"
      },
      "execution_count": 4,
      "outputs": [
        {
          "output_type": "stream",
          "name": "stdout",
          "text": [
            "Enter the number:234\n",
            "3\n"
          ]
        }
      ]
    },
    {
      "cell_type": "markdown",
      "source": [
        "7. Write a python script which takes a three digit number from the user and displays\n",
        "only its last digit.\n"
      ],
      "metadata": {
        "id": "ryetnWZx6fGU"
      }
    },
    {
      "cell_type": "code",
      "source": [
        "a=input('Enter the number:')\n",
        "print(int(a[-1]))"
      ],
      "metadata": {
        "colab": {
          "base_uri": "https://localhost:8080/"
        },
        "id": "lhWm8Jx7qLRf",
        "outputId": "e5b69135-da2d-4484-d052-05c946f3282e"
      },
      "execution_count": 6,
      "outputs": [
        {
          "output_type": "stream",
          "name": "stdout",
          "text": [
            "Enter the number:345\n",
            "5\n"
          ]
        }
      ]
    },
    {
      "cell_type": "markdown",
      "source": [
        "8. Write a python script to use IN operator to display the data present in the list\n"
      ],
      "metadata": {
        "id": "H9jCNr7B6g7t"
      }
    },
    {
      "cell_type": "code",
      "source": [
        "a=['Nitesh','Pandey','Python','INeuron']\n",
        "'Nitesh' in a"
      ],
      "metadata": {
        "colab": {
          "base_uri": "https://localhost:8080/"
        },
        "id": "43guvEixqMpw",
        "outputId": "50cbaa44-c32a-443c-9c2b-2264c5360e41"
      },
      "execution_count": 10,
      "outputs": [
        {
          "output_type": "execute_result",
          "data": {
            "text/plain": [
              "True"
            ]
          },
          "metadata": {},
          "execution_count": 10
        }
      ]
    },
    {
      "cell_type": "markdown",
      "source": [
        "9. Write a python script to use NOT IN operator to display the data not present in list\n"
      ],
      "metadata": {
        "id": "HikfRv2R6idn"
      }
    },
    {
      "cell_type": "code",
      "source": [
        "'DS' in a"
      ],
      "metadata": {
        "colab": {
          "base_uri": "https://localhost:8080/"
        },
        "id": "bhNvEm5OqNRF",
        "outputId": "a8e40e20-bdaa-4b78-977c-03aca95bcd33"
      },
      "execution_count": 11,
      "outputs": [
        {
          "output_type": "execute_result",
          "data": {
            "text/plain": [
              "False"
            ]
          },
          "metadata": {},
          "execution_count": 11
        }
      ]
    },
    {
      "cell_type": "markdown",
      "source": [
        "10. Write a python script to use IS operator to display if both variables are the same\n",
        "object or not?"
      ],
      "metadata": {
        "id": "YSgTpbFG6j0P"
      }
    },
    {
      "cell_type": "code",
      "execution_count": 13,
      "metadata": {
        "id": "GmwbmxjG6SCh",
        "colab": {
          "base_uri": "https://localhost:8080/"
        },
        "outputId": "bd81499e-823e-461c-9794-29673a043633"
      },
      "outputs": [
        {
          "output_type": "stream",
          "name": "stdout",
          "text": [
            "True\n"
          ]
        }
      ],
      "source": [
        "a=10\n",
        "b=10\n",
        "\n",
        "print(a is b)"
      ]
    }
  ]
}