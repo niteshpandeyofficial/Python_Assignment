{
  "nbformat": 4,
  "nbformat_minor": 0,
  "metadata": {
    "colab": {
      "provenance": []
    },
    "kernelspec": {
      "name": "python3",
      "display_name": "Python 3"
    },
    "language_info": {
      "name": "python"
    }
  },
  "cells": [
    {
      "cell_type": "markdown",
      "source": [
        "1. Write a python script to print MySirG N times on the screen\n",
        "\n",
        "\n"
      ],
      "metadata": {
        "id": "wPgKjfG3ZUMp"
      }
    },
    {
      "cell_type": "code",
      "source": [
        "n=int(input('Enter the no of loop:'))\n",
        "i=1\n",
        "while i<=n:\n",
        "  print('MySirG')\n",
        "  i+=1"
      ],
      "metadata": {
        "colab": {
          "base_uri": "https://localhost:8080/"
        },
        "id": "wmbTwGA8Zl6D",
        "outputId": "ece2a7c4-16a3-4a51-f02b-2402f6fffef4"
      },
      "execution_count": 1,
      "outputs": [
        {
          "output_type": "stream",
          "name": "stdout",
          "text": [
            "Enter the no of loop:4\n",
            "MySirG\n",
            "MySirG\n",
            "MySirG\n",
            "MySirG\n"
          ]
        }
      ]
    },
    {
      "cell_type": "markdown",
      "source": [
        "2. Write a python script to print first N natural numbers\n"
      ],
      "metadata": {
        "id": "VZr4TyfBZWfV"
      }
    },
    {
      "cell_type": "code",
      "source": [
        "n=int(input('Enter the no :'))\n",
        "i=1\n",
        "while i<=n:\n",
        "  print(i,end=' ')\n",
        "  i+=1"
      ],
      "metadata": {
        "colab": {
          "base_uri": "https://localhost:8080/"
        },
        "id": "_odYdAAXaIMR",
        "outputId": "7e034065-2d43-451e-9231-cd7cdc55c270"
      },
      "execution_count": 15,
      "outputs": [
        {
          "output_type": "stream",
          "name": "stdout",
          "text": [
            "Enter the no :6\n",
            "1 2 3 4 5 6 "
          ]
        }
      ]
    },
    {
      "cell_type": "markdown",
      "source": [
        "3. Write a python script to print first N natural numbers in reverse order\n"
      ],
      "metadata": {
        "id": "TlMp1jvzZXw9"
      }
    },
    {
      "cell_type": "code",
      "source": [
        "n=int(input('Enter the no :'))\n",
        "while n:\n",
        "  print(n,end=' ')\n",
        "  n-=1"
      ],
      "metadata": {
        "colab": {
          "base_uri": "https://localhost:8080/"
        },
        "id": "lW7FXiveaVXt",
        "outputId": "fe13c1bb-6ddc-4a7b-96f2-a15e06dd8d17"
      },
      "execution_count": 16,
      "outputs": [
        {
          "output_type": "stream",
          "name": "stdout",
          "text": [
            "Enter the no :5\n",
            "5 4 3 2 1 "
          ]
        }
      ]
    },
    {
      "cell_type": "markdown",
      "source": [
        "4. Write a python script to print first N odd natural numbers\n"
      ],
      "metadata": {
        "id": "QENBaoFIZZeB"
      }
    },
    {
      "cell_type": "code",
      "source": [
        "n=int(input('Enter the no :'))\n",
        "i=1\n",
        "while i<n*2:\n",
        "  print(i,end=' ')\n",
        "  i=i+2"
      ],
      "metadata": {
        "colab": {
          "base_uri": "https://localhost:8080/"
        },
        "id": "ZuqIZRlNaVvP",
        "outputId": "b0f0197a-fd44-423a-aeaf-63b3da49854c"
      },
      "execution_count": 17,
      "outputs": [
        {
          "output_type": "stream",
          "name": "stdout",
          "text": [
            "Enter the no :7\n",
            "1 3 5 7 9 11 13 "
          ]
        }
      ]
    },
    {
      "cell_type": "markdown",
      "source": [
        "5. Write a python script to print first N odd natural numbers in reverse order\n"
      ],
      "metadata": {
        "id": "oD-RbTdBZb73"
      }
    },
    {
      "cell_type": "code",
      "source": [
        "inp=2*(int(input('Enter the no :')))+1\n",
        "while inp>1:\n",
        "  print(inp,end=' ')\n",
        "  inp-=2"
      ],
      "metadata": {
        "colab": {
          "base_uri": "https://localhost:8080/"
        },
        "id": "i7ncUiVcegs_",
        "outputId": "deae2117-f7c6-4028-ff2f-9b0b7183d2e8"
      },
      "execution_count": 44,
      "outputs": [
        {
          "output_type": "stream",
          "name": "stdout",
          "text": [
            "Enter the no :10\n",
            "21 19 17 15 13 11 9 7 5 3 "
          ]
        }
      ]
    },
    {
      "cell_type": "markdown",
      "source": [
        "6. Write a python script to print first N even natural numbers\n"
      ],
      "metadata": {
        "id": "3vMiWq9CZdno"
      }
    },
    {
      "cell_type": "code",
      "source": [
        "n=int(input('Enter the number:'))\n",
        "i=2\n",
        "while i<(n*2)+1:\n",
        "  print(i,end=' ')\n",
        "  i=i+2"
      ],
      "metadata": {
        "colab": {
          "base_uri": "https://localhost:8080/"
        },
        "id": "q4ZAdYtsehuf",
        "outputId": "1201e0f4-7c5e-4a03-fb6c-52ce440895ab"
      },
      "execution_count": 41,
      "outputs": [
        {
          "output_type": "stream",
          "name": "stdout",
          "text": [
            "Enter the number:10\n",
            "2 4 6 8 10 12 14 16 18 20 "
          ]
        }
      ]
    },
    {
      "cell_type": "markdown",
      "source": [
        "7. Write a python script to print first N even natural numbers in reverse order\n"
      ],
      "metadata": {
        "id": "40w0hu_pZfI8"
      }
    },
    {
      "cell_type": "code",
      "source": [
        "inp=2*(int(input('Enter the no :')))\n",
        "while inp>0:\n",
        "  print(inp,end=' ')\n",
        "  inp-=2"
      ],
      "metadata": {
        "colab": {
          "base_uri": "https://localhost:8080/"
        },
        "id": "83Rp4rBMeiec",
        "outputId": "5bf7d016-b11d-4bc1-9c0a-eb1db1e149b6"
      },
      "execution_count": 45,
      "outputs": [
        {
          "output_type": "stream",
          "name": "stdout",
          "text": [
            "Enter the no :10\n",
            "20 18 16 14 12 10 8 6 4 2 "
          ]
        }
      ]
    },
    {
      "cell_type": "markdown",
      "source": [
        "8. Write a python script to print squares of first N natural numbers\n"
      ],
      "metadata": {
        "id": "CNv6f21TZg2m"
      }
    },
    {
      "cell_type": "code",
      "source": [
        "n=int(input('Enter the number:'))\n",
        "i=1\n",
        "while i<n+1:\n",
        "  print(i**2,end=' ')\n",
        "  i=i+1"
      ],
      "metadata": {
        "colab": {
          "base_uri": "https://localhost:8080/"
        },
        "id": "MRoUsavhejDz",
        "outputId": "9ef947fe-a520-4806-f41d-55a3421bbadd"
      },
      "execution_count": 52,
      "outputs": [
        {
          "output_type": "stream",
          "name": "stdout",
          "text": [
            "Enter the number:5\n",
            "1 4 9 16 25 "
          ]
        }
      ]
    },
    {
      "cell_type": "markdown",
      "source": [
        "9. Write a python script to print cubes of first N natural numbers\n"
      ],
      "metadata": {
        "id": "8SJDUO8pZiM1"
      }
    },
    {
      "cell_type": "code",
      "source": [
        "n=int(input('Enter the number:'))\n",
        "i=1\n",
        "while i<n+1:\n",
        "  print(i**3,end=' ')\n",
        "  i=i+1"
      ],
      "metadata": {
        "colab": {
          "base_uri": "https://localhost:8080/"
        },
        "id": "I7vvq_nYejlg",
        "outputId": "76d3e3c7-4382-48e3-8377-5a5d587af07a"
      },
      "execution_count": 53,
      "outputs": [
        {
          "output_type": "stream",
          "name": "stdout",
          "text": [
            "Enter the number:5\n",
            "1 8 27 64 125 "
          ]
        }
      ]
    },
    {
      "cell_type": "markdown",
      "source": [
        "10. Write a python script to print first 10 multiples of N"
      ],
      "metadata": {
        "id": "7CVNiF13ZjXk"
      }
    },
    {
      "cell_type": "code",
      "execution_count": 19,
      "metadata": {
        "colab": {
          "base_uri": "https://localhost:8080/"
        },
        "id": "_FLboj53YzEn",
        "outputId": "7cc2a603-eeef-4c57-db2b-b57d301ea6fe"
      },
      "outputs": [
        {
          "output_type": "stream",
          "name": "stdout",
          "text": [
            "Enter the no :7\n",
            "7 14 21 28 35 42 49 56 63 70 "
          ]
        }
      ],
      "source": [
        "n=int(input('Enter the no :'))\n",
        "i=1\n",
        "while i<=10:\n",
        "  print(i*n,end=' ')\n",
        "  i+=1"
      ]
    }
  ]
}