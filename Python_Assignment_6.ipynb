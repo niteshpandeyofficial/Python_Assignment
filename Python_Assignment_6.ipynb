{
  "nbformat": 4,
  "nbformat_minor": 0,
  "metadata": {
    "colab": {
      "provenance": []
    },
    "kernelspec": {
      "name": "python3",
      "display_name": "Python 3"
    },
    "language_info": {
      "name": "python"
    }
  },
  "cells": [
    {
      "cell_type": "markdown",
      "source": [
        "1. Write a python script to check whether a given number is positive or non-positive"
      ],
      "metadata": {
        "id": "MZ31ZdEns2Uk"
      }
    },
    {
      "cell_type": "code",
      "source": [
        "num=int(input('Enter the number:'))\n",
        "if num>=0:\n",
        "  print('Positive Number')\n",
        "else:\n",
        "  print('Negative Number')\n",
        "\n",
        "\n"
      ],
      "metadata": {
        "colab": {
          "base_uri": "https://localhost:8080/"
        },
        "id": "ROLZaQeJtXFW",
        "outputId": "e9a10b92-b7fc-4c50-b66e-ab3d5daaa0ae"
      },
      "execution_count": 22,
      "outputs": [
        {
          "output_type": "stream",
          "name": "stdout",
          "text": [
            "Enter the number:345\n",
            "Positive Number\n"
          ]
        }
      ]
    },
    {
      "cell_type": "markdown",
      "source": [
        "2. Write a python script to check whether a given number is divisible by 5 or not\n"
      ],
      "metadata": {
        "id": "bMNF1gCJs5L7"
      }
    },
    {
      "cell_type": "code",
      "source": [
        "num=int(input('Enter the integer value:'))\n",
        "if num%5==0:\n",
        "  print('Number Divided by 5')\n",
        "else:\n",
        "  print('Number is not divided by 5')\n"
      ],
      "metadata": {
        "colab": {
          "base_uri": "https://localhost:8080/"
        },
        "id": "7JnXw45iuBnp",
        "outputId": "fe4a2d69-f69e-4abf-d30c-e70ef7050f94"
      },
      "execution_count": 6,
      "outputs": [
        {
          "output_type": "stream",
          "name": "stdout",
          "text": [
            "Enter the integer value:49\n",
            "Number is not divided by 5\n"
          ]
        }
      ]
    },
    {
      "cell_type": "markdown",
      "source": [
        "3. Write a python script to check whether a given number is even or odd"
      ],
      "metadata": {
        "id": "m7K6IBFds7MH"
      }
    },
    {
      "cell_type": "code",
      "source": [
        "num=int(input('Enter the Interger number:'))\n",
        "if num%2==0:\n",
        "  print('Even Number')\n",
        "else:\n",
        "  print('Odd Number')"
      ],
      "metadata": {
        "colab": {
          "base_uri": "https://localhost:8080/"
        },
        "id": "V25TYs5bugsg",
        "outputId": "337faa21-20db-44ed-d9be-44c79f25f9e9"
      },
      "execution_count": 8,
      "outputs": [
        {
          "output_type": "stream",
          "name": "stdout",
          "text": [
            "Enter the Interger number:5\n",
            "Odd Number\n"
          ]
        }
      ]
    },
    {
      "cell_type": "markdown",
      "source": [
        "4. Write a python script to print greater between two numbers. Print number only once\n",
        "even if the numbers are the same.\n"
      ],
      "metadata": {
        "id": "Igu2CsdUs-rf"
      }
    },
    {
      "cell_type": "code",
      "source": [
        "num1=int(input('Enter the first value:'))\n",
        "num2=int(input('Enter the second value'))\n",
        "\n",
        "if num1>num2:\n",
        "  print('number1 is greater than number2')\n",
        "elif num1<num2:\n",
        "  print('number2 is greater than number1')\n",
        "else:\n",
        "  print('Number is equal')"
      ],
      "metadata": {
        "colab": {
          "base_uri": "https://localhost:8080/"
        },
        "id": "u7uPZqdnuzxc",
        "outputId": "077d5f16-478d-40d1-c688-e900b0cd4814"
      },
      "execution_count": 10,
      "outputs": [
        {
          "output_type": "stream",
          "name": "stdout",
          "text": [
            "Enter the first value:3\n",
            "Enter the second value3\n",
            "Number is equal\n"
          ]
        }
      ]
    },
    {
      "cell_type": "markdown",
      "source": [
        "5. Write a python script to print two given words in dictionary order\n"
      ],
      "metadata": {
        "id": "3RFZKjVRtAks"
      }
    },
    {
      "cell_type": "code",
      "source": [
        "a=list(map(str,input('Enter the words:').strip().split()))\n",
        "d={}\n",
        "for i in range(len(a)):\n",
        "  d[i]=a[i]\n",
        "print(d)\n",
        "\n"
      ],
      "metadata": {
        "colab": {
          "base_uri": "https://localhost:8080/"
        },
        "id": "Xg4TcC7CvnrW",
        "outputId": "b0e2480d-43ef-427a-e3a6-8fc98d38e748"
      },
      "execution_count": 17,
      "outputs": [
        {
          "output_type": "stream",
          "name": "stdout",
          "text": [
            "Enter the words:nitesh pandey\n",
            "{0: 'nitesh', 1: 'pandey'}\n"
          ]
        }
      ]
    },
    {
      "cell_type": "markdown",
      "source": [
        "6. Write a python script to check whether a given number is a three digit number or not.\n"
      ],
      "metadata": {
        "id": "xqJuG6A5tCDC"
      }
    },
    {
      "cell_type": "code",
      "source": [
        "a=int(input('Enter the number:'))\n",
        "if len(str(a))==3:\n",
        "  print('Three Digit Number')\n",
        "else:\n",
        "  print('Not Three Digit Number')"
      ],
      "metadata": {
        "colab": {
          "base_uri": "https://localhost:8080/"
        },
        "id": "v1sVAbxgxhy1",
        "outputId": "41e7a8ae-036b-4bd7-e392-1648a6dc4ac9"
      },
      "execution_count": 19,
      "outputs": [
        {
          "output_type": "stream",
          "name": "stdout",
          "text": [
            "Enter the number:123\n",
            "Three Digit Number\n"
          ]
        }
      ]
    },
    {
      "cell_type": "markdown",
      "source": [
        "7. Write a python script to check whether a given number is positive, negative or zero."
      ],
      "metadata": {
        "id": "Ek1j7KlZtG1o"
      }
    },
    {
      "cell_type": "code",
      "source": [
        "num=int(input('Enter the number:'))\n",
        "if num>0:\n",
        "  print('Positive Number')\n",
        "elif num<0:\n",
        "  print('Negative Number')\n",
        "else:\n",
        "  print('Number is equals to Zero')\n"
      ],
      "metadata": {
        "colab": {
          "base_uri": "https://localhost:8080/"
        },
        "id": "8oaIJ4Ptx1jl",
        "outputId": "9decee8a-4583-4684-bb9b-9cf046d75db8"
      },
      "execution_count": 23,
      "outputs": [
        {
          "output_type": "stream",
          "name": "stdout",
          "text": [
            "Enter the number:1\n",
            "Positive Number\n"
          ]
        }
      ]
    },
    {
      "cell_type": "markdown",
      "source": [
        "8. Write a python script to check whether a given quadratic equation has two real &\n",
        "distinct roots, real & equal roots or imaginary roots\n"
      ],
      "metadata": {
        "id": "SphYGyvYtJcc"
      }
    },
    {
      "cell_type": "code",
      "source": [
        "import math\n",
        "\n",
        "a = int(input('Enter the value of a: '))\n",
        "b = int(input('Enter the value of b: '))\n",
        "c = int(input('Enter the value of c: '))\n",
        "\n",
        "d = b*b - 4*a*c\n",
        "\n",
        "if d == 0:\n",
        "    root1 = (-b) / (2 * a)\n",
        "    root2 = root1\n",
        "    print(\"The roots are real and equal\")\n",
        "\n",
        "elif d > 0:\n",
        "    root1 = (-b + math.sqrt(d)) / (2 * a)\n",
        "    root2 = (-b - math.sqrt(d)) / (2 * a)\n",
        "    print(\"The roots are real and distinct\")\n",
        "\n",
        "else:\n",
        "    print(\"The roots are imaginary\")"
      ],
      "metadata": {
        "colab": {
          "base_uri": "https://localhost:8080/"
        },
        "id": "PdgYkOZRyJ3M",
        "outputId": "7b8cd96e-40ed-4ce0-d958-dc506966f1f6"
      },
      "execution_count": 44,
      "outputs": [
        {
          "output_type": "stream",
          "name": "stdout",
          "text": [
            "Enter the value of a: 2\n",
            "Enter the value of b: 4\n",
            "Enter the value of c: 5\n",
            "The roots are imaginary\n"
          ]
        }
      ]
    },
    {
      "cell_type": "markdown",
      "source": [
        "9. Write a python script to check whether a given year is a leap year or not.\n"
      ],
      "metadata": {
        "id": "BFpV8APRtLBc"
      }
    },
    {
      "cell_type": "code",
      "source": [
        "year=int(input('Enter year:'))\n",
        "if (year%100!=0 and year%4==0) or year%400==0:\n",
        "  print('Leap Year')\n",
        "else:\n",
        "  print('Not a Leap Year')"
      ],
      "metadata": {
        "colab": {
          "base_uri": "https://localhost:8080/"
        },
        "id": "cobF0xWlyNxQ",
        "outputId": "62031770-a264-4a4c-9ab2-9357b576f589"
      },
      "execution_count": 27,
      "outputs": [
        {
          "output_type": "stream",
          "name": "stdout",
          "text": [
            "Enter year:2024\n",
            "Leap Year\n"
          ]
        }
      ]
    },
    {
      "cell_type": "markdown",
      "source": [
        "10. Write a python script to print greater among three numbers. Print number only once\n",
        "even if the numbers are the same.\n"
      ],
      "metadata": {
        "id": "rV54I9qXtMif"
      }
    },
    {
      "cell_type": "code",
      "source": [
        "num1=int(input('Enter num1 Number:'))\n",
        "num2=int(input('Enter num2 Number:'))\n",
        "num3=int(input('Enter num3 Number:'))\n",
        "\n",
        "if (num1>num2) and (num1>num3):\n",
        "  print('Num1 is greater number')\n",
        "elif (num2>num3) and (num2>num1):\n",
        "  print('Num2 is greater number')\n",
        "elif (num3>num1) and (num3>num2):\n",
        "  print('Num3 is greater number')\n",
        "else:\n",
        "  print('No are equals')\n"
      ],
      "metadata": {
        "colab": {
          "base_uri": "https://localhost:8080/"
        },
        "id": "i3TbNX1-zFu-",
        "outputId": "d820d469-170b-4d36-86c2-75cc9ed510f2"
      },
      "execution_count": 29,
      "outputs": [
        {
          "output_type": "stream",
          "name": "stdout",
          "text": [
            "Enter num1 Number:4\n",
            "Enter num2 Number:2\n",
            "Enter num3 Number:7\n",
            "Num3 is greater number\n"
          ]
        }
      ]
    },
    {
      "cell_type": "markdown",
      "source": [
        "11. Write a python script to take the month value in numeric format and display the\n",
        "number of days in it.\n"
      ],
      "metadata": {
        "id": "1wplwRXctORg"
      }
    },
    {
      "cell_type": "code",
      "source": [
        "import calendar\n",
        "month=int(input('Enter the month value in numeric:'))\n",
        "print(calendar.mdays[month])"
      ],
      "metadata": {
        "colab": {
          "base_uri": "https://localhost:8080/"
        },
        "id": "BnY7ShhEzGRL",
        "outputId": "9a17e172-7d87-45bb-c88b-bbe2ce6ea91a"
      },
      "execution_count": 33,
      "outputs": [
        {
          "output_type": "stream",
          "name": "stdout",
          "text": [
            "Enter the month value in numeric:6\n",
            "30\n"
          ]
        }
      ]
    },
    {
      "cell_type": "markdown",
      "source": [
        "12. Write a python script to accept one complex number from the user and display the\n",
        "greater number between real part and imaginary part"
      ],
      "metadata": {
        "id": "JGOvv6_AtUPa"
      }
    },
    {
      "cell_type": "code",
      "execution_count": 43,
      "metadata": {
        "colab": {
          "base_uri": "https://localhost:8080/"
        },
        "id": "_5FaTtBss1Nn",
        "outputId": "72655b72-59e0-405f-c6e1-eaa9ac484ee1"
      },
      "outputs": [
        {
          "output_type": "stream",
          "name": "stdout",
          "text": [
            "enter real part of complex number:3\n",
            "enter the imaginary part of complex number:2\n",
            "real part 3.0 is grater than imaginary part\n"
          ]
        }
      ],
      "source": [
        "a=int(input('enter real part of complex number:'))\n",
        "b=int(input('enter the imaginary part of complex number:'))\n",
        "c = complex(a, b)\n",
        "\n",
        "if c.real>c.imag:\n",
        "  print(f'real part {c.real} is grater than imaginary part')\n",
        "else:\n",
        "  print(f'imaginary part {c.imag} is grater than real part')\n"
      ]
    },
    {
      "cell_type": "code",
      "source": [],
      "metadata": {
        "id": "Y7iFM2sR6AKV"
      },
      "execution_count": null,
      "outputs": []
    }
  ]
}